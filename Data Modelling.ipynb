{
 "cells": [
  {
   "cell_type": "markdown",
   "id": "a7e83648",
   "metadata": {},
   "source": [
    "## Initializing Libraries"
   ]
  },
  {
   "cell_type": "code",
   "execution_count": 1,
   "id": "1e8df128",
   "metadata": {},
   "outputs": [],
   "source": [
    "import pandas as pd\n",
    "import numpy as np\n",
    "import matplotlib.pyplot as plt\n",
    "from matplotlib import style\n",
    "plt.style.use(\"seaborn-dark\")\n",
    "\n",
    "from sklearn.model_selection import train_test_split\n",
    "from sklearn.metrics import *\n",
    "from sklearn.utils import class_weight\n",
    "from sklearn.preprocessing import OneHotEncoder\n",
    "from sklearn.preprocessing import StandardScaler\n",
    "from sklearn.compose import ColumnTransformer\n",
    "\n",
    "from imblearn.metrics import classification_report_imbalanced\n",
    "\n",
    "import statsmodels.api as sm\n",
    "import statsmodels.formula.api as smf\n",
    "\n",
    "import xgboost as xgb"
   ]
  },
  {
   "cell_type": "markdown",
   "id": "517a3c74",
   "metadata": {},
   "source": [
    "## Importing Data"
   ]
  },
  {
   "cell_type": "code",
   "execution_count": 2,
   "id": "9d28f677",
   "metadata": {},
   "outputs": [],
   "source": [
    "df = pd.read_csv('coding_round_data.csv')"
   ]
  },
  {
   "cell_type": "markdown",
   "id": "3997ab19",
   "metadata": {},
   "source": [
    "### Fixing import issues"
   ]
  },
  {
   "cell_type": "code",
   "execution_count": 3,
   "id": "f6105ecf",
   "metadata": {},
   "outputs": [
    {
     "name": "stdout",
     "output_type": "stream",
     "text": [
      "<class 'pandas.core.frame.DataFrame'>\n",
      "RangeIndex: 12330 entries, 0 to 12329\n",
      "Data columns (total 18 columns):\n",
      " #   Column                   Non-Null Count  Dtype  \n",
      "---  ------                   --------------  -----  \n",
      " 0   Administrative           12330 non-null  int64  \n",
      " 1   Administrative_Duration  12330 non-null  float64\n",
      " 2   Informational            12330 non-null  int64  \n",
      " 3   Informational_Duration   12330 non-null  float64\n",
      " 4   ProductRelated           12330 non-null  int64  \n",
      " 5   ProductRelated_Duration  12330 non-null  float64\n",
      " 6   BounceRates              12330 non-null  float64\n",
      " 7   ExitRates                12330 non-null  float64\n",
      " 8   PageValues               12330 non-null  float64\n",
      " 9   SpecialDay               12330 non-null  float64\n",
      " 10  Month                    12330 non-null  object \n",
      " 11  OperatingSystems         12330 non-null  int64  \n",
      " 12  Browser                  12330 non-null  int64  \n",
      " 13  Region                   12330 non-null  int64  \n",
      " 14  TrafficType              12330 non-null  int64  \n",
      " 15  VisitorType              12330 non-null  object \n",
      " 16  Weekend                  12330 non-null  bool   \n",
      " 17  Revenue                  12330 non-null  bool   \n",
      "dtypes: bool(2), float64(7), int64(7), object(2)\n",
      "memory usage: 1.5+ MB\n"
     ]
    }
   ],
   "source": [
    "df.info()"
   ]
  },
  {
   "cell_type": "code",
   "execution_count": 4,
   "id": "c1b6a48b",
   "metadata": {},
   "outputs": [],
   "source": [
    "for col in ['OperatingSystems', 'Browser', 'Region', 'TrafficType', 'VisitorType', 'Month']:\n",
    "    df[col] = df[col].astype('category')\n",
    "\n",
    "for col in ['Weekend', 'Revenue']:\n",
    "    df[col] = df[col].astype('int')"
   ]
  },
  {
   "cell_type": "markdown",
   "id": "1566a64c",
   "metadata": {},
   "source": [
    "## Splitting Data"
   ]
  },
  {
   "cell_type": "markdown",
   "id": "d2042847",
   "metadata": {},
   "source": [
    "Using a stratified split as the data is very imbalanced"
   ]
  },
  {
   "cell_type": "code",
   "execution_count": 5,
   "id": "e0cd9460",
   "metadata": {},
   "outputs": [],
   "source": [
    "df_train, df_test = train_test_split(df, stratify=df['Revenue'], test_size=0.20, random_state=42)"
   ]
  },
  {
   "cell_type": "markdown",
   "id": "b60dc7ee",
   "metadata": {},
   "source": [
    "## Column Manipulation"
   ]
  },
  {
   "cell_type": "code",
   "execution_count": 6,
   "id": "8a498072",
   "metadata": {},
   "outputs": [],
   "source": [
    "nominal_features = ['Month','OperatingSystems', 'Browser', 'Region', 'TrafficType', 'VisitorType','Weekend']\n",
    "nominal_transformer = OneHotEncoder(handle_unknown=\"ignore\")\n",
    "\n",
    "page_duration_features = ['Administrative_Duration', 'Informational_Duration', 'ProductRelated_Duration']\n",
    "ss_transformer = StandardScaler()\n",
    "\n",
    "ga_rates_features = ['BounceRates', 'ExitRates']\n",
    "\n",
    "preprocessor = ColumnTransformer(\n",
    "    transformers=[\n",
    "        (\"nominal\", nominal_transformer, nominal_features),\n",
    "        (\"page_duration\", ss_transformer, page_duration_features),\n",
    "        (\"ga_rates\", ss_transformer, ga_rates_features),\n",
    "    ],\n",
    "    sparse_threshold=0,\n",
    "    remainder='passthrough'\n",
    ")\n",
    "\n",
    "preprocessor.fit(df_train)\n",
    "\n",
    "df_train = pd.DataFrame(preprocessor.transform(df_train), columns=preprocessor.get_feature_names_out())\n",
    "df_test = pd.DataFrame(preprocessor.transform(df_test), columns=preprocessor.get_feature_names_out())\n"
   ]
  },
  {
   "cell_type": "markdown",
   "id": "36375877",
   "metadata": {},
   "source": [
    "## Modelling"
   ]
  },
  {
   "cell_type": "markdown",
   "id": "9bcabbe9",
   "metadata": {},
   "source": [
    "There are 2 main approaches that I will be taking for modelling. Their results will be compared on the df_test set to decide a final approach through the F1-score"
   ]
  },
  {
   "cell_type": "markdown",
   "id": "393b442f",
   "metadata": {},
   "source": [
    "### Approach 1 - Logistic Regression"
   ]
  },
  {
   "cell_type": "code",
   "execution_count": 7,
   "id": "5c50ba3d",
   "metadata": {},
   "outputs": [
    {
     "name": "stderr",
     "output_type": "stream",
     "text": [
      "/home/kavish/anaconda3/lib/python3.8/site-packages/statsmodels/discrete/discrete_model.py:1810: RuntimeWarning: overflow encountered in exp\n",
      "  return 1/(1+np.exp(-X))\n",
      "/home/kavish/anaconda3/lib/python3.8/site-packages/statsmodels/discrete/discrete_model.py:1863: RuntimeWarning: divide by zero encountered in log\n",
      "  return np.sum(np.log(self.cdf(q*np.dot(X,params))))\n"
     ]
    },
    {
     "name": "stdout",
     "output_type": "stream",
     "text": [
      "Optimization terminated successfully    (Exit mode 0)\n",
      "            Current function value: 0.28314088451634084\n",
      "            Iterations: 495\n",
      "            Function evaluations: 502\n",
      "            Gradient evaluations: 495\n"
     ]
    },
    {
     "data": {
      "text/html": [
       "<table class=\"simpletable\">\n",
       "<caption>Logit Regression Results</caption>\n",
       "<tr>\n",
       "  <th>Dep. Variable:</th>   <td>remainder__Revenue</td> <th>  No. Observations:  </th>  <td>  9864</td> \n",
       "</tr>\n",
       "<tr>\n",
       "  <th>Model:</th>                  <td>Logit</td>       <th>  Df Residuals:      </th>  <td>  9788</td> \n",
       "</tr>\n",
       "<tr>\n",
       "  <th>Method:</th>                  <td>MLE</td>        <th>  Df Model:          </th>  <td>    75</td> \n",
       "</tr>\n",
       "<tr>\n",
       "  <th>Date:</th>             <td>Sun, 03 Apr 2022</td>  <th>  Pseudo R-squ.:     </th>  <td>0.3427</td> \n",
       "</tr>\n",
       "<tr>\n",
       "  <th>Time:</th>                 <td>17:53:37</td>      <th>  Log-Likelihood:    </th> <td> -2792.9</td>\n",
       "</tr>\n",
       "<tr>\n",
       "  <th>converged:</th>              <td>True</td>        <th>  LL-Null:           </th> <td> -4249.2</td>\n",
       "</tr>\n",
       "<tr>\n",
       "  <th>Covariance Type:</th>      <td>nonrobust</td>     <th>  LLR p-value:       </th>  <td> 0.000</td> \n",
       "</tr>\n",
       "</table>\n",
       "<table class=\"simpletable\">\n",
       "<tr>\n",
       "                     <td></td>                       <th>coef</th>     <th>std err</th>      <th>z</th>      <th>P>|z|</th>  <th>[0.025</th>    <th>0.975]</th>  \n",
       "</tr>\n",
       "<tr>\n",
       "  <th>Intercept</th>                              <td>   -2.3552</td> <td> 5.93e+05</td> <td>-3.97e-06</td> <td> 1.000</td> <td>-1.16e+06</td> <td> 1.16e+06</td>\n",
       "</tr>\n",
       "<tr>\n",
       "  <th>nominal__Month_Aug</th>                     <td>    0.4175</td> <td>      nan</td> <td>      nan</td> <td>   nan</td> <td>      nan</td> <td>      nan</td>\n",
       "</tr>\n",
       "<tr>\n",
       "  <th>nominal__Month_Dec</th>                     <td>   -0.2842</td> <td>      nan</td> <td>      nan</td> <td>   nan</td> <td>      nan</td> <td>      nan</td>\n",
       "</tr>\n",
       "<tr>\n",
       "  <th>nominal__Month_Feb</th>                     <td>   -1.5958</td> <td>      nan</td> <td>      nan</td> <td>   nan</td> <td>      nan</td> <td>      nan</td>\n",
       "</tr>\n",
       "<tr>\n",
       "  <th>nominal__Month_Jul</th>                     <td>    0.3033</td> <td>      nan</td> <td>      nan</td> <td>   nan</td> <td>      nan</td> <td>      nan</td>\n",
       "</tr>\n",
       "<tr>\n",
       "  <th>nominal__Month_June</th>                    <td>    0.0695</td> <td>      nan</td> <td>      nan</td> <td>   nan</td> <td>      nan</td> <td>      nan</td>\n",
       "</tr>\n",
       "<tr>\n",
       "  <th>nominal__Month_Mar</th>                     <td>   -0.2504</td> <td>      nan</td> <td>      nan</td> <td>   nan</td> <td>      nan</td> <td>      nan</td>\n",
       "</tr>\n",
       "<tr>\n",
       "  <th>nominal__Month_May</th>                     <td>   -0.1755</td> <td>      nan</td> <td>      nan</td> <td>   nan</td> <td>      nan</td> <td>      nan</td>\n",
       "</tr>\n",
       "<tr>\n",
       "  <th>nominal__Month_Nov</th>                     <td>    0.7428</td> <td>      nan</td> <td>      nan</td> <td>   nan</td> <td>      nan</td> <td>      nan</td>\n",
       "</tr>\n",
       "<tr>\n",
       "  <th>nominal__Month_Oct</th>                     <td>    0.3194</td> <td>      nan</td> <td>      nan</td> <td>   nan</td> <td>      nan</td> <td>      nan</td>\n",
       "</tr>\n",
       "<tr>\n",
       "  <th>nominal__Month_Sep</th>                     <td>    0.4552</td> <td>      nan</td> <td>      nan</td> <td>   nan</td> <td>      nan</td> <td>      nan</td>\n",
       "</tr>\n",
       "<tr>\n",
       "  <th>nominal__OperatingSystems_1</th>            <td>   -0.3107</td> <td> 8.44e+05</td> <td>-3.68e-07</td> <td> 1.000</td> <td>-1.66e+06</td> <td> 1.66e+06</td>\n",
       "</tr>\n",
       "<tr>\n",
       "  <th>nominal__OperatingSystems_2</th>            <td>   -0.1428</td> <td> 8.29e+05</td> <td>-1.72e-07</td> <td> 1.000</td> <td>-1.62e+06</td> <td> 1.62e+06</td>\n",
       "</tr>\n",
       "<tr>\n",
       "  <th>nominal__OperatingSystems_3</th>            <td>   -0.3828</td> <td> 7.98e+05</td> <td> -4.8e-07</td> <td> 1.000</td> <td>-1.56e+06</td> <td> 1.56e+06</td>\n",
       "</tr>\n",
       "<tr>\n",
       "  <th>nominal__OperatingSystems_4</th>            <td>   -0.3684</td> <td> 7.71e+05</td> <td>-4.78e-07</td> <td> 1.000</td> <td>-1.51e+06</td> <td> 1.51e+06</td>\n",
       "</tr>\n",
       "<tr>\n",
       "  <th>nominal__OperatingSystems_5</th>            <td>   -0.1145</td> <td>      nan</td> <td>      nan</td> <td>   nan</td> <td>      nan</td> <td>      nan</td>\n",
       "</tr>\n",
       "<tr>\n",
       "  <th>nominal__OperatingSystems_6</th>            <td>   -1.2593</td> <td> 8.23e+05</td> <td>-1.53e-06</td> <td> 1.000</td> <td>-1.61e+06</td> <td> 1.61e+06</td>\n",
       "</tr>\n",
       "<tr>\n",
       "  <th>nominal__OperatingSystems_7</th>            <td>    1.3339</td> <td>  7.9e+05</td> <td> 1.69e-06</td> <td> 1.000</td> <td>-1.55e+06</td> <td> 1.55e+06</td>\n",
       "</tr>\n",
       "<tr>\n",
       "  <th>nominal__OperatingSystems_8</th>            <td>   -0.1844</td> <td> 7.99e+05</td> <td>-2.31e-07</td> <td> 1.000</td> <td>-1.57e+06</td> <td> 1.57e+06</td>\n",
       "</tr>\n",
       "<tr>\n",
       "  <th>nominal__Browser_1</th>                     <td>   -0.0347</td> <td>      nan</td> <td>      nan</td> <td>   nan</td> <td>      nan</td> <td>      nan</td>\n",
       "</tr>\n",
       "<tr>\n",
       "  <th>nominal__Browser_2</th>                     <td>   -0.1640</td> <td>      nan</td> <td>      nan</td> <td>   nan</td> <td>      nan</td> <td>      nan</td>\n",
       "</tr>\n",
       "<tr>\n",
       "  <th>nominal__Browser_3</th>                     <td>   -0.8865</td> <td> 3.14e+05</td> <td>-2.82e-06</td> <td> 1.000</td> <td>-6.16e+05</td> <td> 6.16e+05</td>\n",
       "</tr>\n",
       "<tr>\n",
       "  <th>nominal__Browser_4</th>                     <td>   -0.1018</td> <td>      nan</td> <td>      nan</td> <td>   nan</td> <td>      nan</td> <td>      nan</td>\n",
       "</tr>\n",
       "<tr>\n",
       "  <th>nominal__Browser_5</th>                     <td>    0.0168</td> <td>      nan</td> <td>      nan</td> <td>   nan</td> <td>      nan</td> <td>      nan</td>\n",
       "</tr>\n",
       "<tr>\n",
       "  <th>nominal__Browser_6</th>                     <td>   -0.3720</td> <td>      nan</td> <td>      nan</td> <td>   nan</td> <td>      nan</td> <td>      nan</td>\n",
       "</tr>\n",
       "<tr>\n",
       "  <th>nominal__Browser_7</th>                     <td>   -1.2822</td> <td>      nan</td> <td>      nan</td> <td>   nan</td> <td>      nan</td> <td>      nan</td>\n",
       "</tr>\n",
       "<tr>\n",
       "  <th>nominal__Browser_8</th>                     <td>   -0.4708</td> <td>      nan</td> <td>      nan</td> <td>   nan</td> <td>      nan</td> <td>      nan</td>\n",
       "</tr>\n",
       "<tr>\n",
       "  <th>nominal__Browser_9</th>                     <td>   -0.8309</td> <td>      nan</td> <td>      nan</td> <td>   nan</td> <td>      nan</td> <td>      nan</td>\n",
       "</tr>\n",
       "<tr>\n",
       "  <th>nominal__Browser_10</th>                    <td>    0.2353</td> <td>      nan</td> <td>      nan</td> <td>   nan</td> <td>      nan</td> <td>      nan</td>\n",
       "</tr>\n",
       "<tr>\n",
       "  <th>nominal__Browser_11</th>                    <td>   -0.1145</td> <td>      nan</td> <td>      nan</td> <td>   nan</td> <td>      nan</td> <td>      nan</td>\n",
       "</tr>\n",
       "<tr>\n",
       "  <th>nominal__Browser_12</th>                    <td>    2.4005</td> <td>      nan</td> <td>      nan</td> <td>   nan</td> <td>      nan</td> <td>      nan</td>\n",
       "</tr>\n",
       "<tr>\n",
       "  <th>nominal__Browser_13</th>                    <td>    0.4738</td> <td> 2.22e+05</td> <td> 2.13e-06</td> <td> 1.000</td> <td>-4.36e+05</td> <td> 4.36e+05</td>\n",
       "</tr>\n",
       "<tr>\n",
       "  <th>nominal__Region_1</th>                      <td>   -0.2151</td> <td>      nan</td> <td>      nan</td> <td>   nan</td> <td>      nan</td> <td>      nan</td>\n",
       "</tr>\n",
       "<tr>\n",
       "  <th>nominal__Region_2</th>                      <td>   -0.0126</td> <td>      nan</td> <td>      nan</td> <td>   nan</td> <td>      nan</td> <td>      nan</td>\n",
       "</tr>\n",
       "<tr>\n",
       "  <th>nominal__Region_3</th>                      <td>   -0.1835</td> <td>      nan</td> <td>      nan</td> <td>   nan</td> <td>      nan</td> <td>      nan</td>\n",
       "</tr>\n",
       "<tr>\n",
       "  <th>nominal__Region_4</th>                      <td>   -0.3253</td> <td>      nan</td> <td>      nan</td> <td>   nan</td> <td>      nan</td> <td>      nan</td>\n",
       "</tr>\n",
       "<tr>\n",
       "  <th>nominal__Region_5</th>                      <td>   -0.3690</td> <td>      nan</td> <td>      nan</td> <td>   nan</td> <td>      nan</td> <td>      nan</td>\n",
       "</tr>\n",
       "<tr>\n",
       "  <th>nominal__Region_6</th>                      <td>   -0.1727</td> <td>      nan</td> <td>      nan</td> <td>   nan</td> <td>      nan</td> <td>      nan</td>\n",
       "</tr>\n",
       "<tr>\n",
       "  <th>nominal__Region_7</th>                      <td>   -0.2389</td> <td>      nan</td> <td>      nan</td> <td>   nan</td> <td>      nan</td> <td>      nan</td>\n",
       "</tr>\n",
       "<tr>\n",
       "  <th>nominal__Region_8</th>                      <td>   -0.0172</td> <td>      nan</td> <td>      nan</td> <td>   nan</td> <td>      nan</td> <td>      nan</td>\n",
       "</tr>\n",
       "<tr>\n",
       "  <th>nominal__Region_9</th>                      <td>   -0.4850</td> <td>      nan</td> <td>      nan</td> <td>   nan</td> <td>      nan</td> <td>      nan</td>\n",
       "</tr>\n",
       "<tr>\n",
       "  <th>nominal__TrafficType_1</th>                 <td>    0.7587</td> <td>      nan</td> <td>      nan</td> <td>   nan</td> <td>      nan</td> <td>      nan</td>\n",
       "</tr>\n",
       "<tr>\n",
       "  <th>nominal__TrafficType_2</th>                 <td>    1.0372</td> <td>      nan</td> <td>      nan</td> <td>   nan</td> <td>      nan</td> <td>      nan</td>\n",
       "</tr>\n",
       "<tr>\n",
       "  <th>nominal__TrafficType_3</th>                 <td>    0.6290</td> <td>      nan</td> <td>      nan</td> <td>   nan</td> <td>      nan</td> <td>      nan</td>\n",
       "</tr>\n",
       "<tr>\n",
       "  <th>nominal__TrafficType_4</th>                 <td>    0.8608</td> <td>      nan</td> <td>      nan</td> <td>   nan</td> <td>      nan</td> <td>      nan</td>\n",
       "</tr>\n",
       "<tr>\n",
       "  <th>nominal__TrafficType_5</th>                 <td>    1.1529</td> <td>      nan</td> <td>      nan</td> <td>   nan</td> <td>      nan</td> <td>      nan</td>\n",
       "</tr>\n",
       "<tr>\n",
       "  <th>nominal__TrafficType_6</th>                 <td>    0.6935</td> <td>      nan</td> <td>      nan</td> <td>   nan</td> <td>      nan</td> <td>      nan</td>\n",
       "</tr>\n",
       "<tr>\n",
       "  <th>nominal__TrafficType_7</th>                 <td>    1.1676</td> <td>      nan</td> <td>      nan</td> <td>   nan</td> <td>      nan</td> <td>      nan</td>\n",
       "</tr>\n",
       "<tr>\n",
       "  <th>nominal__TrafficType_8</th>                 <td>    1.4788</td> <td>      nan</td> <td>      nan</td> <td>   nan</td> <td>      nan</td> <td>      nan</td>\n",
       "</tr>\n",
       "<tr>\n",
       "  <th>nominal__TrafficType_9</th>                 <td>    0.9895</td> <td> 4.94e+04</td> <td>    2e-05</td> <td> 1.000</td> <td>-9.67e+04</td> <td> 9.67e+04</td>\n",
       "</tr>\n",
       "<tr>\n",
       "  <th>nominal__TrafficType_10</th>                <td>    1.2848</td> <td>      nan</td> <td>      nan</td> <td>   nan</td> <td>      nan</td> <td>      nan</td>\n",
       "</tr>\n",
       "<tr>\n",
       "  <th>nominal__TrafficType_11</th>                <td>    1.2375</td> <td>      nan</td> <td>      nan</td> <td>   nan</td> <td>      nan</td> <td>      nan</td>\n",
       "</tr>\n",
       "<tr>\n",
       "  <th>nominal__TrafficType_12</th>                <td>   -0.6762</td> <td>      nan</td> <td>      nan</td> <td>   nan</td> <td>      nan</td> <td>      nan</td>\n",
       "</tr>\n",
       "<tr>\n",
       "  <th>nominal__TrafficType_13</th>                <td>    0.4731</td> <td>      nan</td> <td>      nan</td> <td>   nan</td> <td>      nan</td> <td>      nan</td>\n",
       "</tr>\n",
       "<tr>\n",
       "  <th>nominal__TrafficType_14</th>                <td>    0.2279</td> <td>      nan</td> <td>      nan</td> <td>   nan</td> <td>      nan</td> <td>      nan</td>\n",
       "</tr>\n",
       "<tr>\n",
       "  <th>nominal__TrafficType_15</th>                <td>   -7.1993</td> <td>      nan</td> <td>      nan</td> <td>   nan</td> <td>      nan</td> <td>      nan</td>\n",
       "</tr>\n",
       "<tr>\n",
       "  <th>nominal__TrafficType_16</th>                <td>    2.6677</td> <td>      nan</td> <td>      nan</td> <td>   nan</td> <td>      nan</td> <td>      nan</td>\n",
       "</tr>\n",
       "<tr>\n",
       "  <th>nominal__TrafficType_17</th>                <td>   -0.4612</td> <td>      nan</td> <td>      nan</td> <td>   nan</td> <td>      nan</td> <td>      nan</td>\n",
       "</tr>\n",
       "<tr>\n",
       "  <th>nominal__TrafficType_18</th>                <td>   -4.5825</td> <td>      nan</td> <td>      nan</td> <td>   nan</td> <td>      nan</td> <td>      nan</td>\n",
       "</tr>\n",
       "<tr>\n",
       "  <th>nominal__TrafficType_19</th>                <td>   -0.0073</td> <td>      nan</td> <td>      nan</td> <td>   nan</td> <td>      nan</td> <td>      nan</td>\n",
       "</tr>\n",
       "<tr>\n",
       "  <th>nominal__TrafficType_20</th>                <td>    1.2758</td> <td>      nan</td> <td>      nan</td> <td>   nan</td> <td>      nan</td> <td>      nan</td>\n",
       "</tr>\n",
       "<tr>\n",
       "  <th>nominal__VisitorType_New_Visitor</th>       <td>    0.3027</td> <td> 5.95e+05</td> <td> 5.09e-07</td> <td> 1.000</td> <td>-1.17e+06</td> <td> 1.17e+06</td>\n",
       "</tr>\n",
       "<tr>\n",
       "  <th>nominal__VisitorType_Other</th>             <td>   -0.5465</td> <td> 5.92e+05</td> <td>-9.23e-07</td> <td> 1.000</td> <td>-1.16e+06</td> <td> 1.16e+06</td>\n",
       "</tr>\n",
       "<tr>\n",
       "  <th>nominal__VisitorType_Returning_Visitor</th> <td>    0.1899</td> <td> 5.95e+05</td> <td> 3.19e-07</td> <td> 1.000</td> <td>-1.17e+06</td> <td> 1.17e+06</td>\n",
       "</tr>\n",
       "<tr>\n",
       "  <th>nominal__Weekend_0</th>                     <td>   -1.1851</td> <td>  4.8e+05</td> <td>-2.47e-06</td> <td> 1.000</td> <td> -9.4e+05</td> <td>  9.4e+05</td>\n",
       "</tr>\n",
       "<tr>\n",
       "  <th>nominal__Weekend_1</th>                     <td>   -1.0507</td> <td>  4.8e+05</td> <td>-2.19e-06</td> <td> 1.000</td> <td> -9.4e+05</td> <td>  9.4e+05</td>\n",
       "</tr>\n",
       "<tr>\n",
       "  <th>page_duration__Administrative_Duration</th> <td>    0.0175</td> <td>    0.038</td> <td>    0.464</td> <td> 0.642</td> <td>   -0.056</td> <td>    0.091</td>\n",
       "</tr>\n",
       "<tr>\n",
       "  <th>page_duration__Informational_Duration</th>  <td>   -0.0107</td> <td>    0.036</td> <td>   -0.295</td> <td> 0.768</td> <td>   -0.082</td> <td>    0.061</td>\n",
       "</tr>\n",
       "<tr>\n",
       "  <th>page_duration__ProductRelated_Duration</th> <td>    0.0739</td> <td>    0.055</td> <td>    1.335</td> <td> 0.182</td> <td>   -0.035</td> <td>    0.182</td>\n",
       "</tr>\n",
       "<tr>\n",
       "  <th>ga_rates__BounceRates</th>                  <td>   -0.1066</td> <td>    0.186</td> <td>   -0.574</td> <td> 0.566</td> <td>   -0.471</td> <td>    0.257</td>\n",
       "</tr>\n",
       "<tr>\n",
       "  <th>ga_rates__ExitRates</th>                    <td>   -0.8035</td> <td>    0.137</td> <td>   -5.870</td> <td> 0.000</td> <td>   -1.072</td> <td>   -0.535</td>\n",
       "</tr>\n",
       "<tr>\n",
       "  <th>remainder__Administrative</th>              <td>   -0.0029</td> <td>    0.012</td> <td>   -0.231</td> <td> 0.817</td> <td>   -0.027</td> <td>    0.021</td>\n",
       "</tr>\n",
       "<tr>\n",
       "  <th>remainder__Informational</th>               <td>    0.0432</td> <td>    0.030</td> <td>    1.425</td> <td> 0.154</td> <td>   -0.016</td> <td>    0.103</td>\n",
       "</tr>\n",
       "<tr>\n",
       "  <th>remainder__ProductRelated</th>              <td>    0.0023</td> <td>    0.001</td> <td>    1.779</td> <td> 0.075</td> <td>   -0.000</td> <td>    0.005</td>\n",
       "</tr>\n",
       "<tr>\n",
       "  <th>remainder__PageValues</th>                  <td>    0.0828</td> <td>    0.003</td> <td>   30.205</td> <td> 0.000</td> <td>    0.077</td> <td>    0.088</td>\n",
       "</tr>\n",
       "<tr>\n",
       "  <th>remainder__SpecialDay</th>                  <td>   -0.2549</td> <td>    0.276</td> <td>   -0.925</td> <td> 0.355</td> <td>   -0.795</td> <td>    0.285</td>\n",
       "</tr>\n",
       "</table>"
      ],
      "text/plain": [
       "<class 'statsmodels.iolib.summary.Summary'>\n",
       "\"\"\"\n",
       "                           Logit Regression Results                           \n",
       "==============================================================================\n",
       "Dep. Variable:     remainder__Revenue   No. Observations:                 9864\n",
       "Model:                          Logit   Df Residuals:                     9788\n",
       "Method:                           MLE   Df Model:                           75\n",
       "Date:                Sun, 03 Apr 2022   Pseudo R-squ.:                  0.3427\n",
       "Time:                        17:53:37   Log-Likelihood:                -2792.9\n",
       "converged:                       True   LL-Null:                       -4249.2\n",
       "Covariance Type:            nonrobust   LLR p-value:                     0.000\n",
       "==========================================================================================================\n",
       "                                             coef    std err          z      P>|z|      [0.025      0.975]\n",
       "----------------------------------------------------------------------------------------------------------\n",
       "Intercept                                 -2.3552   5.93e+05  -3.97e-06      1.000   -1.16e+06    1.16e+06\n",
       "nominal__Month_Aug                         0.4175        nan        nan        nan         nan         nan\n",
       "nominal__Month_Dec                        -0.2842        nan        nan        nan         nan         nan\n",
       "nominal__Month_Feb                        -1.5958        nan        nan        nan         nan         nan\n",
       "nominal__Month_Jul                         0.3033        nan        nan        nan         nan         nan\n",
       "nominal__Month_June                        0.0695        nan        nan        nan         nan         nan\n",
       "nominal__Month_Mar                        -0.2504        nan        nan        nan         nan         nan\n",
       "nominal__Month_May                        -0.1755        nan        nan        nan         nan         nan\n",
       "nominal__Month_Nov                         0.7428        nan        nan        nan         nan         nan\n",
       "nominal__Month_Oct                         0.3194        nan        nan        nan         nan         nan\n",
       "nominal__Month_Sep                         0.4552        nan        nan        nan         nan         nan\n",
       "nominal__OperatingSystems_1               -0.3107   8.44e+05  -3.68e-07      1.000   -1.66e+06    1.66e+06\n",
       "nominal__OperatingSystems_2               -0.1428   8.29e+05  -1.72e-07      1.000   -1.62e+06    1.62e+06\n",
       "nominal__OperatingSystems_3               -0.3828   7.98e+05   -4.8e-07      1.000   -1.56e+06    1.56e+06\n",
       "nominal__OperatingSystems_4               -0.3684   7.71e+05  -4.78e-07      1.000   -1.51e+06    1.51e+06\n",
       "nominal__OperatingSystems_5               -0.1145        nan        nan        nan         nan         nan\n",
       "nominal__OperatingSystems_6               -1.2593   8.23e+05  -1.53e-06      1.000   -1.61e+06    1.61e+06\n",
       "nominal__OperatingSystems_7                1.3339    7.9e+05   1.69e-06      1.000   -1.55e+06    1.55e+06\n",
       "nominal__OperatingSystems_8               -0.1844   7.99e+05  -2.31e-07      1.000   -1.57e+06    1.57e+06\n",
       "nominal__Browser_1                        -0.0347        nan        nan        nan         nan         nan\n",
       "nominal__Browser_2                        -0.1640        nan        nan        nan         nan         nan\n",
       "nominal__Browser_3                        -0.8865   3.14e+05  -2.82e-06      1.000   -6.16e+05    6.16e+05\n",
       "nominal__Browser_4                        -0.1018        nan        nan        nan         nan         nan\n",
       "nominal__Browser_5                         0.0168        nan        nan        nan         nan         nan\n",
       "nominal__Browser_6                        -0.3720        nan        nan        nan         nan         nan\n",
       "nominal__Browser_7                        -1.2822        nan        nan        nan         nan         nan\n",
       "nominal__Browser_8                        -0.4708        nan        nan        nan         nan         nan\n",
       "nominal__Browser_9                        -0.8309        nan        nan        nan         nan         nan\n",
       "nominal__Browser_10                        0.2353        nan        nan        nan         nan         nan\n",
       "nominal__Browser_11                       -0.1145        nan        nan        nan         nan         nan\n",
       "nominal__Browser_12                        2.4005        nan        nan        nan         nan         nan\n",
       "nominal__Browser_13                        0.4738   2.22e+05   2.13e-06      1.000   -4.36e+05    4.36e+05\n",
       "nominal__Region_1                         -0.2151        nan        nan        nan         nan         nan\n",
       "nominal__Region_2                         -0.0126        nan        nan        nan         nan         nan\n",
       "nominal__Region_3                         -0.1835        nan        nan        nan         nan         nan\n",
       "nominal__Region_4                         -0.3253        nan        nan        nan         nan         nan\n",
       "nominal__Region_5                         -0.3690        nan        nan        nan         nan         nan\n",
       "nominal__Region_6                         -0.1727        nan        nan        nan         nan         nan\n",
       "nominal__Region_7                         -0.2389        nan        nan        nan         nan         nan\n",
       "nominal__Region_8                         -0.0172        nan        nan        nan         nan         nan\n",
       "nominal__Region_9                         -0.4850        nan        nan        nan         nan         nan\n",
       "nominal__TrafficType_1                     0.7587        nan        nan        nan         nan         nan\n",
       "nominal__TrafficType_2                     1.0372        nan        nan        nan         nan         nan\n",
       "nominal__TrafficType_3                     0.6290        nan        nan        nan         nan         nan\n",
       "nominal__TrafficType_4                     0.8608        nan        nan        nan         nan         nan\n",
       "nominal__TrafficType_5                     1.1529        nan        nan        nan         nan         nan\n",
       "nominal__TrafficType_6                     0.6935        nan        nan        nan         nan         nan\n",
       "nominal__TrafficType_7                     1.1676        nan        nan        nan         nan         nan\n",
       "nominal__TrafficType_8                     1.4788        nan        nan        nan         nan         nan\n",
       "nominal__TrafficType_9                     0.9895   4.94e+04      2e-05      1.000   -9.67e+04    9.67e+04\n",
       "nominal__TrafficType_10                    1.2848        nan        nan        nan         nan         nan\n",
       "nominal__TrafficType_11                    1.2375        nan        nan        nan         nan         nan\n",
       "nominal__TrafficType_12                   -0.6762        nan        nan        nan         nan         nan\n",
       "nominal__TrafficType_13                    0.4731        nan        nan        nan         nan         nan\n",
       "nominal__TrafficType_14                    0.2279        nan        nan        nan         nan         nan\n",
       "nominal__TrafficType_15                   -7.1993        nan        nan        nan         nan         nan\n",
       "nominal__TrafficType_16                    2.6677        nan        nan        nan         nan         nan\n",
       "nominal__TrafficType_17                   -0.4612        nan        nan        nan         nan         nan\n",
       "nominal__TrafficType_18                   -4.5825        nan        nan        nan         nan         nan\n",
       "nominal__TrafficType_19                   -0.0073        nan        nan        nan         nan         nan\n",
       "nominal__TrafficType_20                    1.2758        nan        nan        nan         nan         nan\n",
       "nominal__VisitorType_New_Visitor           0.3027   5.95e+05   5.09e-07      1.000   -1.17e+06    1.17e+06\n",
       "nominal__VisitorType_Other                -0.5465   5.92e+05  -9.23e-07      1.000   -1.16e+06    1.16e+06\n",
       "nominal__VisitorType_Returning_Visitor     0.1899   5.95e+05   3.19e-07      1.000   -1.17e+06    1.17e+06\n",
       "nominal__Weekend_0                        -1.1851    4.8e+05  -2.47e-06      1.000    -9.4e+05     9.4e+05\n",
       "nominal__Weekend_1                        -1.0507    4.8e+05  -2.19e-06      1.000    -9.4e+05     9.4e+05\n",
       "page_duration__Administrative_Duration     0.0175      0.038      0.464      0.642      -0.056       0.091\n",
       "page_duration__Informational_Duration     -0.0107      0.036     -0.295      0.768      -0.082       0.061\n",
       "page_duration__ProductRelated_Duration     0.0739      0.055      1.335      0.182      -0.035       0.182\n",
       "ga_rates__BounceRates                     -0.1066      0.186     -0.574      0.566      -0.471       0.257\n",
       "ga_rates__ExitRates                       -0.8035      0.137     -5.870      0.000      -1.072      -0.535\n",
       "remainder__Administrative                 -0.0029      0.012     -0.231      0.817      -0.027       0.021\n",
       "remainder__Informational                   0.0432      0.030      1.425      0.154      -0.016       0.103\n",
       "remainder__ProductRelated                  0.0023      0.001      1.779      0.075      -0.000       0.005\n",
       "remainder__PageValues                      0.0828      0.003     30.205      0.000       0.077       0.088\n",
       "remainder__SpecialDay                     -0.2549      0.276     -0.925      0.355      -0.795       0.285\n",
       "==========================================================================================================\n",
       "\"\"\""
      ]
     },
     "execution_count": 7,
     "metadata": {},
     "output_type": "execute_result"
    }
   ],
   "source": [
    "formula = \"remainder__Revenue ~ \" + \" + \".join(df_train.columns.drop('remainder__Revenue'))\n",
    "\n",
    "LR_model = smf.logit(formula=formula, data=df_train).fit_regularized(method='l1')\n",
    "LR_model.summary()"
   ]
  },
  {
   "cell_type": "markdown",
   "id": "51cf0104",
   "metadata": {},
   "source": [
    "As the classes are not balanced, the intercept/threshold needs to be scaled accordingly."
   ]
  },
  {
   "cell_type": "code",
   "execution_count": 8,
   "id": "f10005cb",
   "metadata": {},
   "outputs": [
    {
     "name": "stdout",
     "output_type": "stream",
     "text": [
      "                   pre       rec       spe        f1       geo       iba       sup\n",
      "\n",
      "        0.0       0.94      0.87      0.71      0.91      0.79      0.63      2084\n",
      "        1.0       0.50      0.71      0.87      0.59      0.79      0.61       382\n",
      "\n",
      "avg / total       0.88      0.85      0.74      0.86      0.79      0.63      2466\n",
      "\n"
     ]
    }
   ],
   "source": [
    "weights = df_train.remainder__Revenue.value_counts()\n",
    "\n",
    "threshold = weights[1]/weights[0]\n",
    "\n",
    "LR_test_preds_raw = LR_model.predict(exog=df_test.drop(columns=['remainder__Revenue']))\n",
    "LR_test_preds = (LR_test_preds_raw > threshold).astype('int')\n",
    "\n",
    "print(classification_report_imbalanced(df_test['remainder__Revenue'], LR_test_preds))"
   ]
  },
  {
   "cell_type": "markdown",
   "id": "d9ef6c4a",
   "metadata": {},
   "source": [
    "### Approach 2 - Boosted Decision Trees"
   ]
  },
  {
   "cell_type": "markdown",
   "id": "26ae97c3",
   "metadata": {},
   "source": [
    "Implemented using XGBoost"
   ]
  },
  {
   "cell_type": "code",
   "execution_count": 9,
   "id": "12564a29",
   "metadata": {},
   "outputs": [],
   "source": [
    "X_train = df_train.drop(columns='remainder__Revenue')\n",
    "y_train = df_train[['remainder__Revenue']]\n",
    "\n",
    "X_test = df_test.drop(columns='remainder__Revenue')\n",
    "y_test = df_test[['remainder__Revenue']]"
   ]
  },
  {
   "cell_type": "code",
   "execution_count": 10,
   "id": "c29a43f0",
   "metadata": {},
   "outputs": [
    {
     "name": "stdout",
     "output_type": "stream",
     "text": [
      "[17:53:37] WARNING: ../src/learner.cc:1095: Starting in XGBoost 1.3.0, the default evaluation metric used with the objective 'binary:logistic' was changed from 'error' to 'logloss'. Explicitly set eval_metric if you'd like to restore the old behavior.\n"
     ]
    },
    {
     "name": "stderr",
     "output_type": "stream",
     "text": [
      "/home/kavish/anaconda3/lib/python3.8/site-packages/xgboost/sklearn.py:1146: UserWarning: The use of label encoder in XGBClassifier is deprecated and will be removed in a future release. To remove this warning, do the following: 1) Pass option use_label_encoder=False when constructing XGBClassifier object; and 2) Encode your labels (y) as integers starting with 0, i.e. 0, 1, 2, ..., [num_class - 1].\n",
      "  warnings.warn(label_encoder_deprecation_msg, UserWarning)\n",
      "/home/kavish/anaconda3/lib/python3.8/site-packages/sklearn/preprocessing/_label.py:98: DataConversionWarning: A column-vector y was passed when a 1d array was expected. Please change the shape of y to (n_samples, ), for example using ravel().\n",
      "  y = column_or_1d(y, warn=True)\n",
      "/home/kavish/anaconda3/lib/python3.8/site-packages/sklearn/preprocessing/_label.py:133: DataConversionWarning: A column-vector y was passed when a 1d array was expected. Please change the shape of y to (n_samples, ), for example using ravel().\n",
      "  y = column_or_1d(y, warn=True)\n"
     ]
    }
   ],
   "source": [
    "sample_weights = class_weight.compute_sample_weight(class_weight='balanced', y=y_train)  # To help tackle imbalanced classes\n",
    "\n",
    "xgb_model = xgb.XGBClassifier().fit(X_train, y_train, sample_weight=sample_weights)"
   ]
  },
  {
   "cell_type": "code",
   "execution_count": 11,
   "id": "914fb756",
   "metadata": {},
   "outputs": [
    {
     "name": "stdout",
     "output_type": "stream",
     "text": [
      "                   pre       rec       spe        f1       geo       iba       sup\n",
      "\n",
      "        0.0       0.95      0.91      0.73      0.93      0.82      0.68      2084\n",
      "        1.0       0.60      0.73      0.91      0.66      0.82      0.66       382\n",
      "\n",
      "avg / total       0.89      0.88      0.76      0.89      0.82      0.68      2466\n",
      "\n"
     ]
    }
   ],
   "source": [
    "xgb_test_preds = xgb_model.predict(X_test)\n",
    "\n",
    "print(classification_report_imbalanced(y_test, xgb_test_preds))"
   ]
  },
  {
   "cell_type": "markdown",
   "id": "b3489e46",
   "metadata": {},
   "source": [
    "## Results"
   ]
  },
  {
   "cell_type": "markdown",
   "id": "527dd483",
   "metadata": {},
   "source": [
    "The results from both approaches perform almost equally well on the test set with the logistic regression having an F1 score of 0.86 to the 0.88 for XGBoost"
   ]
  }
 ],
 "metadata": {
  "kernelspec": {
   "display_name": "Python 3 (ipykernel)",
   "language": "python",
   "name": "python3"
  },
  "language_info": {
   "codemirror_mode": {
    "name": "ipython",
    "version": 3
   },
   "file_extension": ".py",
   "mimetype": "text/x-python",
   "name": "python",
   "nbconvert_exporter": "python",
   "pygments_lexer": "ipython3",
   "version": "3.8.8"
  }
 },
 "nbformat": 4,
 "nbformat_minor": 5
}
