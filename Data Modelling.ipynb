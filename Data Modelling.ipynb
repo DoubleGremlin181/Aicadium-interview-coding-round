{
 "cells": [
  {
   "cell_type": "markdown",
   "id": "a7e83648",
   "metadata": {},
   "source": [
    "## Initializing Libraries"
   ]
  },
  {
   "cell_type": "code",
   "execution_count": 1,
   "id": "1a551de6",
   "metadata": {},
   "outputs": [],
   "source": [
    "import pandas as pd\n",
    "import numpy as np\n",
    "import matplotlib.pyplot as plt\n",
    "from matplotlib import style\n",
    "plt.style.use(\"seaborn-dark\")\n",
    "\n",
    "from sklearn.model_selection import train_test_split\n",
    "from sklearn.metrics import *\n",
    "from sklearn.utils import class_weight\n",
    "from sklearn.preprocessing import OneHotEncoder\n",
    "from sklearn.preprocessing import StandardScaler\n",
    "from sklearn.compose import ColumnTransformer\n",
    "\n",
    "from imblearn.metrics import classification_report_imbalanced\n",
    "\n",
    "import statsmodels.api as sm\n",
    "import statsmodels.formula.api as smf\n",
    "\n",
    "import xgboost as xgb\n",
    "import lightgbm as lgb"
   ]
  },
  {
   "cell_type": "markdown",
   "id": "517a3c74",
   "metadata": {},
   "source": [
    "## Importing Data"
   ]
  },
  {
   "cell_type": "code",
   "execution_count": 2,
   "id": "9d28f677",
   "metadata": {},
   "outputs": [],
   "source": [
    "df = pd.read_csv('coding_round_data.csv')"
   ]
  },
  {
   "cell_type": "markdown",
   "id": "ac420fbc",
   "metadata": {},
   "source": [
    "### Fixing import issues"
   ]
  },
  {
   "cell_type": "code",
   "execution_count": 3,
   "id": "dd0bf10f",
   "metadata": {},
   "outputs": [
    {
     "name": "stdout",
     "output_type": "stream",
     "text": [
      "<class 'pandas.core.frame.DataFrame'>\n",
      "RangeIndex: 12330 entries, 0 to 12329\n",
      "Data columns (total 18 columns):\n",
      " #   Column                   Non-Null Count  Dtype  \n",
      "---  ------                   --------------  -----  \n",
      " 0   Administrative           12330 non-null  int64  \n",
      " 1   Administrative_Duration  12330 non-null  float64\n",
      " 2   Informational            12330 non-null  int64  \n",
      " 3   Informational_Duration   12330 non-null  float64\n",
      " 4   ProductRelated           12330 non-null  int64  \n",
      " 5   ProductRelated_Duration  12330 non-null  float64\n",
      " 6   BounceRates              12330 non-null  float64\n",
      " 7   ExitRates                12330 non-null  float64\n",
      " 8   PageValues               12330 non-null  float64\n",
      " 9   SpecialDay               12330 non-null  float64\n",
      " 10  Month                    12330 non-null  object \n",
      " 11  OperatingSystems         12330 non-null  int64  \n",
      " 12  Browser                  12330 non-null  int64  \n",
      " 13  Region                   12330 non-null  int64  \n",
      " 14  TrafficType              12330 non-null  int64  \n",
      " 15  VisitorType              12330 non-null  object \n",
      " 16  Weekend                  12330 non-null  bool   \n",
      " 17  Revenue                  12330 non-null  bool   \n",
      "dtypes: bool(2), float64(7), int64(7), object(2)\n",
      "memory usage: 1.5+ MB\n"
     ]
    }
   ],
   "source": [
    "df.info()"
   ]
  },
  {
   "cell_type": "code",
   "execution_count": 4,
   "id": "6d0ba33c",
   "metadata": {},
   "outputs": [],
   "source": [
    "for col in ['OperatingSystems', 'Browser', 'Region', 'TrafficType', 'VisitorType', 'Month']:\n",
    "    df[col] = df[col].astype('category')\n",
    "\n",
    "for col in ['Weekend', 'Revenue']:\n",
    "    df[col] = df[col].astype('int')"
   ]
  },
  {
   "cell_type": "markdown",
   "id": "eca101d2",
   "metadata": {},
   "source": [
    "## Splitting Data"
   ]
  },
  {
   "cell_type": "markdown",
   "id": "3e48a3ed",
   "metadata": {},
   "source": [
    "Using a stratified split as the data is very imbalanced"
   ]
  },
  {
   "cell_type": "code",
   "execution_count": 5,
   "id": "964b8227",
   "metadata": {},
   "outputs": [],
   "source": [
    "df_train, df_test = train_test_split(df, stratify=df['Revenue'], test_size=0.10, random_state=42)\n",
    "df_train, df_val = train_test_split(df_train, stratify=df_train['Revenue'], test_size=1/9, random_state=42)"
   ]
  },
  {
   "cell_type": "markdown",
   "id": "5625b620",
   "metadata": {},
   "source": [
    "## Column Manipulation"
   ]
  },
  {
   "cell_type": "code",
   "execution_count": 6,
   "id": "a75be8ae",
   "metadata": {},
   "outputs": [],
   "source": [
    "nominal_features = ['Month','OperatingSystems', 'Browser', 'Region', 'TrafficType', 'VisitorType','Weekend']\n",
    "nominal_transformer = OneHotEncoder(handle_unknown=\"ignore\")\n",
    "\n",
    "page_duration_features = ['Administrative_Duration', 'Informational_Duration', 'ProductRelated_Duration']\n",
    "ss_transformer = StandardScaler()\n",
    "\n",
    "ga_rates_features = ['BounceRates', 'ExitRates']\n",
    "\n",
    "preprocessor = ColumnTransformer(\n",
    "    transformers=[\n",
    "        (\"nominal\", nominal_transformer, nominal_features),\n",
    "        (\"page_duration\", ss_transformer, page_duration_features),\n",
    "        (\"ga_rates\", ss_transformer, ga_rates_features),\n",
    "    ],\n",
    "    sparse_threshold=0,\n",
    "    remainder='passthrough'\n",
    ")\n",
    "\n",
    "preprocessor.fit(df_train)\n",
    "\n",
    "df_train = pd.DataFrame(preprocessor.transform(df_train), columns=preprocessor.get_feature_names_out())\n",
    "df_val = pd.DataFrame(preprocessor.transform(df_val), columns=preprocessor.get_feature_names_out())\n",
    "df_test = pd.DataFrame(preprocessor.transform(df_test), columns=preprocessor.get_feature_names_out())"
   ]
  },
  {
   "cell_type": "markdown",
   "id": "a78796d4",
   "metadata": {},
   "source": [
    "## Modelling"
   ]
  },
  {
   "cell_type": "markdown",
   "id": "4015e934",
   "metadata": {},
   "source": [
    "There are 2 main approaches that I will be taking for modelling. Their results will be compared on the df_val set to decide a final approach through the F1-score of the positive class as the goal is to predict whether a user makes a purchase or not."
   ]
  },
  {
   "cell_type": "markdown",
   "id": "8abdddc5",
   "metadata": {},
   "source": [
    "### Approach 1 - Logistic Regression"
   ]
  },
  {
   "cell_type": "code",
   "execution_count": 7,
   "id": "8bb8befb",
   "metadata": {},
   "outputs": [
    {
     "name": "stderr",
     "output_type": "stream",
     "text": [
      "/home/kavish/anaconda3/lib/python3.8/site-packages/statsmodels/discrete/discrete_model.py:1810: RuntimeWarning: overflow encountered in exp\n",
      "  return 1/(1+np.exp(-X))\n",
      "/home/kavish/anaconda3/lib/python3.8/site-packages/statsmodels/discrete/discrete_model.py:1863: RuntimeWarning: divide by zero encountered in log\n",
      "  return np.sum(np.log(self.cdf(q*np.dot(X,params))))\n"
     ]
    },
    {
     "name": "stdout",
     "output_type": "stream",
     "text": [
      "Optimization terminated successfully    (Exit mode 0)\n",
      "            Current function value: 0.286191599843355\n",
      "            Iterations: 487\n",
      "            Function evaluations: 495\n",
      "            Gradient evaluations: 487\n"
     ]
    },
    {
     "data": {
      "text/html": [
       "<table class=\"simpletable\">\n",
       "<caption>Logit Regression Results</caption>\n",
       "<tr>\n",
       "  <th>Dep. Variable:</th>   <td>remainder__Revenue</td> <th>  No. Observations:  </th>  <td>  9864</td> \n",
       "</tr>\n",
       "<tr>\n",
       "  <th>Model:</th>                  <td>Logit</td>       <th>  Df Residuals:      </th>  <td>  9789</td> \n",
       "</tr>\n",
       "<tr>\n",
       "  <th>Method:</th>                  <td>MLE</td>        <th>  Df Model:          </th>  <td>    74</td> \n",
       "</tr>\n",
       "<tr>\n",
       "  <th>Date:</th>             <td>Sun, 03 Apr 2022</td>  <th>  Pseudo R-squ.:     </th>  <td>0.3356</td> \n",
       "</tr>\n",
       "<tr>\n",
       "  <th>Time:</th>                 <td>18:38:44</td>      <th>  Log-Likelihood:    </th> <td> -2823.0</td>\n",
       "</tr>\n",
       "<tr>\n",
       "  <th>converged:</th>              <td>True</td>        <th>  LL-Null:           </th> <td> -4249.2</td>\n",
       "</tr>\n",
       "<tr>\n",
       "  <th>Covariance Type:</th>      <td>nonrobust</td>     <th>  LLR p-value:       </th>  <td> 0.000</td> \n",
       "</tr>\n",
       "</table>\n",
       "<table class=\"simpletable\">\n",
       "<tr>\n",
       "                     <td></td>                       <th>coef</th>     <th>std err</th>      <th>z</th>      <th>P>|z|</th>  <th>[0.025</th>    <th>0.975]</th>  \n",
       "</tr>\n",
       "<tr>\n",
       "  <th>Intercept</th>                              <td>   -2.1836</td> <td> 1.48e+06</td> <td>-1.48e-06</td> <td> 1.000</td> <td> -2.9e+06</td> <td>  2.9e+06</td>\n",
       "</tr>\n",
       "<tr>\n",
       "  <th>nominal__Month_Aug</th>                     <td>    0.1609</td> <td> 2.09e+06</td> <td> 7.71e-08</td> <td> 1.000</td> <td>-4.09e+06</td> <td> 4.09e+06</td>\n",
       "</tr>\n",
       "<tr>\n",
       "  <th>nominal__Month_Dec</th>                     <td>   -0.5800</td> <td> 2.08e+06</td> <td>-2.79e-07</td> <td> 1.000</td> <td>-4.07e+06</td> <td> 4.07e+06</td>\n",
       "</tr>\n",
       "<tr>\n",
       "  <th>nominal__Month_Feb</th>                     <td>   -1.2774</td> <td> 2.11e+06</td> <td>-6.05e-07</td> <td> 1.000</td> <td>-4.14e+06</td> <td> 4.14e+06</td>\n",
       "</tr>\n",
       "<tr>\n",
       "  <th>nominal__Month_Jul</th>                     <td>    0.1823</td> <td>  2.1e+06</td> <td> 8.69e-08</td> <td> 1.000</td> <td>-4.11e+06</td> <td> 4.11e+06</td>\n",
       "</tr>\n",
       "<tr>\n",
       "  <th>nominal__Month_June</th>                    <td>   -0.3670</td> <td> 2.09e+06</td> <td>-1.76e-07</td> <td> 1.000</td> <td>-4.09e+06</td> <td> 4.09e+06</td>\n",
       "</tr>\n",
       "<tr>\n",
       "  <th>nominal__Month_Mar</th>                     <td>   -0.3864</td> <td> 2.09e+06</td> <td>-1.84e-07</td> <td> 1.000</td> <td>-4.11e+06</td> <td> 4.11e+06</td>\n",
       "</tr>\n",
       "<tr>\n",
       "  <th>nominal__Month_May</th>                     <td>   -0.3565</td> <td>  2.1e+06</td> <td> -1.7e-07</td> <td> 1.000</td> <td>-4.11e+06</td> <td> 4.11e+06</td>\n",
       "</tr>\n",
       "<tr>\n",
       "  <th>nominal__Month_Nov</th>                     <td>    0.5742</td> <td> 2.09e+06</td> <td> 2.75e-07</td> <td> 1.000</td> <td> -4.1e+06</td> <td>  4.1e+06</td>\n",
       "</tr>\n",
       "<tr>\n",
       "  <th>nominal__Month_Oct</th>                     <td>    0.0980</td> <td> 2.09e+06</td> <td> 4.68e-08</td> <td> 1.000</td> <td>-4.11e+06</td> <td> 4.11e+06</td>\n",
       "</tr>\n",
       "<tr>\n",
       "  <th>nominal__Month_Sep</th>                     <td>    0.1398</td> <td> 2.08e+06</td> <td> 6.71e-08</td> <td> 1.000</td> <td>-4.08e+06</td> <td> 4.08e+06</td>\n",
       "</tr>\n",
       "<tr>\n",
       "  <th>nominal__OperatingSystems_1</th>            <td>   -0.3060</td> <td> 2.05e+06</td> <td>-1.49e-07</td> <td> 1.000</td> <td>-4.02e+06</td> <td> 4.02e+06</td>\n",
       "</tr>\n",
       "<tr>\n",
       "  <th>nominal__OperatingSystems_2</th>            <td>   -0.0312</td> <td> 2.05e+06</td> <td>-1.52e-08</td> <td> 1.000</td> <td>-4.02e+06</td> <td> 4.02e+06</td>\n",
       "</tr>\n",
       "<tr>\n",
       "  <th>nominal__OperatingSystems_3</th>            <td>   -0.2797</td> <td> 2.06e+06</td> <td>-1.36e-07</td> <td> 1.000</td> <td>-4.04e+06</td> <td> 4.04e+06</td>\n",
       "</tr>\n",
       "<tr>\n",
       "  <th>nominal__OperatingSystems_4</th>            <td>   -0.3495</td> <td> 2.05e+06</td> <td> -1.7e-07</td> <td> 1.000</td> <td>-4.02e+06</td> <td> 4.02e+06</td>\n",
       "</tr>\n",
       "<tr>\n",
       "  <th>nominal__OperatingSystems_5</th>            <td>   -0.0357</td> <td>      nan</td> <td>      nan</td> <td>   nan</td> <td>      nan</td> <td>      nan</td>\n",
       "</tr>\n",
       "<tr>\n",
       "  <th>nominal__OperatingSystems_6</th>            <td>   -1.6059</td> <td> 2.05e+06</td> <td>-7.83e-07</td> <td> 1.000</td> <td>-4.02e+06</td> <td> 4.02e+06</td>\n",
       "</tr>\n",
       "<tr>\n",
       "  <th>nominal__OperatingSystems_7</th>            <td>    1.2586</td> <td> 2.05e+06</td> <td> 6.13e-07</td> <td> 1.000</td> <td>-4.03e+06</td> <td> 4.03e+06</td>\n",
       "</tr>\n",
       "<tr>\n",
       "  <th>nominal__OperatingSystems_8</th>            <td>   -0.6463</td> <td> 2.05e+06</td> <td>-3.15e-07</td> <td> 1.000</td> <td>-4.03e+06</td> <td> 4.03e+06</td>\n",
       "</tr>\n",
       "<tr>\n",
       "  <th>nominal__Browser_1</th>                     <td>    0.0026</td> <td> 8.29e+05</td> <td>  3.1e-09</td> <td> 1.000</td> <td>-1.62e+06</td> <td> 1.62e+06</td>\n",
       "</tr>\n",
       "<tr>\n",
       "  <th>nominal__Browser_2</th>                     <td>   -0.2528</td> <td> 8.28e+05</td> <td>-3.05e-07</td> <td> 1.000</td> <td>-1.62e+06</td> <td> 1.62e+06</td>\n",
       "</tr>\n",
       "<tr>\n",
       "  <th>nominal__Browser_3</th>                     <td>   -1.2409</td> <td> 8.35e+05</td> <td>-1.49e-06</td> <td> 1.000</td> <td>-1.64e+06</td> <td> 1.64e+06</td>\n",
       "</tr>\n",
       "<tr>\n",
       "  <th>nominal__Browser_4</th>                     <td>   -0.1994</td> <td> 8.35e+05</td> <td>-2.39e-07</td> <td> 1.000</td> <td>-1.64e+06</td> <td> 1.64e+06</td>\n",
       "</tr>\n",
       "<tr>\n",
       "  <th>nominal__Browser_5</th>                     <td>   -0.0265</td> <td> 8.33e+05</td> <td>-3.18e-08</td> <td> 1.000</td> <td>-1.63e+06</td> <td> 1.63e+06</td>\n",
       "</tr>\n",
       "<tr>\n",
       "  <th>nominal__Browser_6</th>                     <td>   -0.3530</td> <td> 8.34e+05</td> <td>-4.24e-07</td> <td> 1.000</td> <td>-1.63e+06</td> <td> 1.63e+06</td>\n",
       "</tr>\n",
       "<tr>\n",
       "  <th>nominal__Browser_7</th>                     <td>   -0.7390</td> <td> 8.31e+05</td> <td>-8.89e-07</td> <td> 1.000</td> <td>-1.63e+06</td> <td> 1.63e+06</td>\n",
       "</tr>\n",
       "<tr>\n",
       "  <th>nominal__Browser_8</th>                     <td>   -0.3551</td> <td> 8.33e+05</td> <td>-4.27e-07</td> <td> 1.000</td> <td>-1.63e+06</td> <td> 1.63e+06</td>\n",
       "</tr>\n",
       "<tr>\n",
       "  <th>nominal__Browser_10</th>                    <td>    0.1394</td> <td> 8.35e+05</td> <td> 1.67e-07</td> <td> 1.000</td> <td>-1.64e+06</td> <td> 1.64e+06</td>\n",
       "</tr>\n",
       "<tr>\n",
       "  <th>nominal__Browser_11</th>                    <td>   -0.0357</td> <td>      nan</td> <td>      nan</td> <td>   nan</td> <td>      nan</td> <td>      nan</td>\n",
       "</tr>\n",
       "<tr>\n",
       "  <th>nominal__Browser_12</th>                    <td>    1.6054</td> <td> 8.39e+05</td> <td> 1.91e-06</td> <td> 1.000</td> <td>-1.64e+06</td> <td> 1.64e+06</td>\n",
       "</tr>\n",
       "<tr>\n",
       "  <th>nominal__Browser_13</th>                    <td>    0.0528</td> <td> 8.31e+05</td> <td> 6.35e-08</td> <td> 1.000</td> <td>-1.63e+06</td> <td> 1.63e+06</td>\n",
       "</tr>\n",
       "<tr>\n",
       "  <th>nominal__Region_1</th>                      <td>   -0.0413</td> <td>      nan</td> <td>      nan</td> <td>   nan</td> <td>      nan</td> <td>      nan</td>\n",
       "</tr>\n",
       "<tr>\n",
       "  <th>nominal__Region_2</th>                      <td>    0.1566</td> <td>      nan</td> <td>      nan</td> <td>   nan</td> <td>      nan</td> <td>      nan</td>\n",
       "</tr>\n",
       "<tr>\n",
       "  <th>nominal__Region_3</th>                      <td>    0.0016</td> <td>      nan</td> <td>      nan</td> <td>   nan</td> <td>      nan</td> <td>      nan</td>\n",
       "</tr>\n",
       "<tr>\n",
       "  <th>nominal__Region_4</th>                      <td>   -0.0964</td> <td>      nan</td> <td>      nan</td> <td>   nan</td> <td>      nan</td> <td>      nan</td>\n",
       "</tr>\n",
       "<tr>\n",
       "  <th>nominal__Region_5</th>                      <td>   -0.3419</td> <td>      nan</td> <td>      nan</td> <td>   nan</td> <td>      nan</td> <td>      nan</td>\n",
       "</tr>\n",
       "<tr>\n",
       "  <th>nominal__Region_6</th>                      <td>   -0.0113</td> <td>      nan</td> <td>      nan</td> <td>   nan</td> <td>      nan</td> <td>      nan</td>\n",
       "</tr>\n",
       "<tr>\n",
       "  <th>nominal__Region_7</th>                      <td>    0.0224</td> <td>      nan</td> <td>      nan</td> <td>   nan</td> <td>      nan</td> <td>      nan</td>\n",
       "</tr>\n",
       "<tr>\n",
       "  <th>nominal__Region_8</th>                      <td>    0.0112</td> <td>      nan</td> <td>      nan</td> <td>   nan</td> <td>      nan</td> <td>      nan</td>\n",
       "</tr>\n",
       "<tr>\n",
       "  <th>nominal__Region_9</th>                      <td>   -0.3264</td> <td>      nan</td> <td>      nan</td> <td>   nan</td> <td>      nan</td> <td>      nan</td>\n",
       "</tr>\n",
       "<tr>\n",
       "  <th>nominal__TrafficType_1</th>                 <td>    1.4053</td> <td>      nan</td> <td>      nan</td> <td>   nan</td> <td>      nan</td> <td>      nan</td>\n",
       "</tr>\n",
       "<tr>\n",
       "  <th>nominal__TrafficType_2</th>                 <td>    1.6194</td> <td>      nan</td> <td>      nan</td> <td>   nan</td> <td>      nan</td> <td>      nan</td>\n",
       "</tr>\n",
       "<tr>\n",
       "  <th>nominal__TrafficType_3</th>                 <td>    1.2283</td> <td>      nan</td> <td>      nan</td> <td>   nan</td> <td>      nan</td> <td>      nan</td>\n",
       "</tr>\n",
       "<tr>\n",
       "  <th>nominal__TrafficType_4</th>                 <td>    1.5157</td> <td>      nan</td> <td>      nan</td> <td>   nan</td> <td>      nan</td> <td>      nan</td>\n",
       "</tr>\n",
       "<tr>\n",
       "  <th>nominal__TrafficType_5</th>                 <td>    1.7889</td> <td>      nan</td> <td>      nan</td> <td>   nan</td> <td>      nan</td> <td>      nan</td>\n",
       "</tr>\n",
       "<tr>\n",
       "  <th>nominal__TrafficType_6</th>                 <td>    1.3288</td> <td>      nan</td> <td>      nan</td> <td>   nan</td> <td>      nan</td> <td>      nan</td>\n",
       "</tr>\n",
       "<tr>\n",
       "  <th>nominal__TrafficType_7</th>                 <td>    1.5506</td> <td>      nan</td> <td>      nan</td> <td>   nan</td> <td>      nan</td> <td>      nan</td>\n",
       "</tr>\n",
       "<tr>\n",
       "  <th>nominal__TrafficType_8</th>                 <td>    1.9655</td> <td>      nan</td> <td>      nan</td> <td>   nan</td> <td>      nan</td> <td>      nan</td>\n",
       "</tr>\n",
       "<tr>\n",
       "  <th>nominal__TrafficType_9</th>                 <td>    1.0966</td> <td>      nan</td> <td>      nan</td> <td>   nan</td> <td>      nan</td> <td>      nan</td>\n",
       "</tr>\n",
       "<tr>\n",
       "  <th>nominal__TrafficType_10</th>                <td>    1.8195</td> <td>      nan</td> <td>      nan</td> <td>   nan</td> <td>      nan</td> <td>      nan</td>\n",
       "</tr>\n",
       "<tr>\n",
       "  <th>nominal__TrafficType_11</th>                <td>    1.8745</td> <td>      nan</td> <td>      nan</td> <td>   nan</td> <td>      nan</td> <td>      nan</td>\n",
       "</tr>\n",
       "<tr>\n",
       "  <th>nominal__TrafficType_12</th>                <td>   -0.6232</td> <td>      nan</td> <td>      nan</td> <td>   nan</td> <td>      nan</td> <td>      nan</td>\n",
       "</tr>\n",
       "<tr>\n",
       "  <th>nominal__TrafficType_13</th>                <td>    1.0656</td> <td>      nan</td> <td>      nan</td> <td>   nan</td> <td>      nan</td> <td>      nan</td>\n",
       "</tr>\n",
       "<tr>\n",
       "  <th>nominal__TrafficType_14</th>                <td>    0.7838</td> <td>      nan</td> <td>      nan</td> <td>   nan</td> <td>      nan</td> <td>      nan</td>\n",
       "</tr>\n",
       "<tr>\n",
       "  <th>nominal__TrafficType_15</th>                <td>   -7.6849</td> <td>      nan</td> <td>      nan</td> <td>   nan</td> <td>      nan</td> <td>      nan</td>\n",
       "</tr>\n",
       "<tr>\n",
       "  <th>nominal__TrafficType_16</th>                <td>   -2.5353</td> <td>      nan</td> <td>      nan</td> <td>   nan</td> <td>      nan</td> <td>      nan</td>\n",
       "</tr>\n",
       "<tr>\n",
       "  <th>nominal__TrafficType_17</th>                <td>   -0.4491</td> <td>      nan</td> <td>      nan</td> <td>   nan</td> <td>      nan</td> <td>      nan</td>\n",
       "</tr>\n",
       "<tr>\n",
       "  <th>nominal__TrafficType_18</th>                <td>   -4.8611</td> <td>      nan</td> <td>      nan</td> <td>   nan</td> <td>      nan</td> <td>      nan</td>\n",
       "</tr>\n",
       "<tr>\n",
       "  <th>nominal__TrafficType_19</th>                <td>    0.7220</td> <td>      nan</td> <td>      nan</td> <td>   nan</td> <td>      nan</td> <td>      nan</td>\n",
       "</tr>\n",
       "<tr>\n",
       "  <th>nominal__TrafficType_20</th>                <td>    1.8645</td> <td>      nan</td> <td>      nan</td> <td>   nan</td> <td>      nan</td> <td>      nan</td>\n",
       "</tr>\n",
       "<tr>\n",
       "  <th>nominal__VisitorType_New_Visitor</th>       <td>   -0.1919</td> <td> 2.38e+06</td> <td>-8.07e-08</td> <td> 1.000</td> <td>-4.66e+06</td> <td> 4.66e+06</td>\n",
       "</tr>\n",
       "<tr>\n",
       "  <th>nominal__VisitorType_Other</th>             <td>   -0.3662</td> <td> 2.38e+06</td> <td>-1.54e-07</td> <td> 1.000</td> <td>-4.66e+06</td> <td> 4.66e+06</td>\n",
       "</tr>\n",
       "<tr>\n",
       "  <th>nominal__VisitorType_Returning_Visitor</th> <td>   -0.3817</td> <td> 2.38e+06</td> <td>-1.61e-07</td> <td> 1.000</td> <td>-4.66e+06</td> <td> 4.66e+06</td>\n",
       "</tr>\n",
       "<tr>\n",
       "  <th>nominal__Weekend_0</th>                     <td>   -1.3244</td> <td> 8.03e+05</td> <td>-1.65e-06</td> <td> 1.000</td> <td>-1.57e+06</td> <td> 1.57e+06</td>\n",
       "</tr>\n",
       "<tr>\n",
       "  <th>nominal__Weekend_1</th>                     <td>   -1.2621</td> <td> 8.03e+05</td> <td>-1.57e-06</td> <td> 1.000</td> <td>-1.57e+06</td> <td> 1.57e+06</td>\n",
       "</tr>\n",
       "<tr>\n",
       "  <th>page_duration__Administrative_Duration</th> <td>    0.0139</td> <td>    0.038</td> <td>    0.371</td> <td> 0.711</td> <td>   -0.060</td> <td>    0.088</td>\n",
       "</tr>\n",
       "<tr>\n",
       "  <th>page_duration__Informational_Duration</th>  <td>    0.0235</td> <td>    0.035</td> <td>    0.661</td> <td> 0.509</td> <td>   -0.046</td> <td>    0.093</td>\n",
       "</tr>\n",
       "<tr>\n",
       "  <th>page_duration__ProductRelated_Duration</th> <td>    0.0779</td> <td>    0.057</td> <td>    1.362</td> <td> 0.173</td> <td>   -0.034</td> <td>    0.190</td>\n",
       "</tr>\n",
       "<tr>\n",
       "  <th>ga_rates__BounceRates</th>                  <td>   -0.0629</td> <td>    0.174</td> <td>   -0.362</td> <td> 0.717</td> <td>   -0.403</td> <td>    0.277</td>\n",
       "</tr>\n",
       "<tr>\n",
       "  <th>ga_rates__ExitRates</th>                    <td>   -0.7581</td> <td>    0.133</td> <td>   -5.715</td> <td> 0.000</td> <td>   -1.018</td> <td>   -0.498</td>\n",
       "</tr>\n",
       "<tr>\n",
       "  <th>remainder__Administrative</th>              <td>   -0.0020</td> <td>    0.013</td> <td>   -0.155</td> <td> 0.877</td> <td>   -0.027</td> <td>    0.023</td>\n",
       "</tr>\n",
       "<tr>\n",
       "  <th>remainder__Informational</th>               <td>    0.0091</td> <td>    0.031</td> <td>    0.294</td> <td> 0.768</td> <td>   -0.052</td> <td>    0.070</td>\n",
       "</tr>\n",
       "<tr>\n",
       "  <th>remainder__ProductRelated</th>              <td>    0.0024</td> <td>    0.001</td> <td>    1.862</td> <td> 0.063</td> <td>   -0.000</td> <td>    0.005</td>\n",
       "</tr>\n",
       "<tr>\n",
       "  <th>remainder__PageValues</th>                  <td>    0.0811</td> <td>    0.003</td> <td>   30.031</td> <td> 0.000</td> <td>    0.076</td> <td>    0.086</td>\n",
       "</tr>\n",
       "<tr>\n",
       "  <th>remainder__SpecialDay</th>                  <td>   -0.1384</td> <td>    0.264</td> <td>   -0.524</td> <td> 0.601</td> <td>   -0.656</td> <td>    0.380</td>\n",
       "</tr>\n",
       "</table>"
      ],
      "text/plain": [
       "<class 'statsmodels.iolib.summary.Summary'>\n",
       "\"\"\"\n",
       "                           Logit Regression Results                           \n",
       "==============================================================================\n",
       "Dep. Variable:     remainder__Revenue   No. Observations:                 9864\n",
       "Model:                          Logit   Df Residuals:                     9789\n",
       "Method:                           MLE   Df Model:                           74\n",
       "Date:                Sun, 03 Apr 2022   Pseudo R-squ.:                  0.3356\n",
       "Time:                        18:38:44   Log-Likelihood:                -2823.0\n",
       "converged:                       True   LL-Null:                       -4249.2\n",
       "Covariance Type:            nonrobust   LLR p-value:                     0.000\n",
       "==========================================================================================================\n",
       "                                             coef    std err          z      P>|z|      [0.025      0.975]\n",
       "----------------------------------------------------------------------------------------------------------\n",
       "Intercept                                 -2.1836   1.48e+06  -1.48e-06      1.000    -2.9e+06     2.9e+06\n",
       "nominal__Month_Aug                         0.1609   2.09e+06   7.71e-08      1.000   -4.09e+06    4.09e+06\n",
       "nominal__Month_Dec                        -0.5800   2.08e+06  -2.79e-07      1.000   -4.07e+06    4.07e+06\n",
       "nominal__Month_Feb                        -1.2774   2.11e+06  -6.05e-07      1.000   -4.14e+06    4.14e+06\n",
       "nominal__Month_Jul                         0.1823    2.1e+06   8.69e-08      1.000   -4.11e+06    4.11e+06\n",
       "nominal__Month_June                       -0.3670   2.09e+06  -1.76e-07      1.000   -4.09e+06    4.09e+06\n",
       "nominal__Month_Mar                        -0.3864   2.09e+06  -1.84e-07      1.000   -4.11e+06    4.11e+06\n",
       "nominal__Month_May                        -0.3565    2.1e+06   -1.7e-07      1.000   -4.11e+06    4.11e+06\n",
       "nominal__Month_Nov                         0.5742   2.09e+06   2.75e-07      1.000    -4.1e+06     4.1e+06\n",
       "nominal__Month_Oct                         0.0980   2.09e+06   4.68e-08      1.000   -4.11e+06    4.11e+06\n",
       "nominal__Month_Sep                         0.1398   2.08e+06   6.71e-08      1.000   -4.08e+06    4.08e+06\n",
       "nominal__OperatingSystems_1               -0.3060   2.05e+06  -1.49e-07      1.000   -4.02e+06    4.02e+06\n",
       "nominal__OperatingSystems_2               -0.0312   2.05e+06  -1.52e-08      1.000   -4.02e+06    4.02e+06\n",
       "nominal__OperatingSystems_3               -0.2797   2.06e+06  -1.36e-07      1.000   -4.04e+06    4.04e+06\n",
       "nominal__OperatingSystems_4               -0.3495   2.05e+06   -1.7e-07      1.000   -4.02e+06    4.02e+06\n",
       "nominal__OperatingSystems_5               -0.0357        nan        nan        nan         nan         nan\n",
       "nominal__OperatingSystems_6               -1.6059   2.05e+06  -7.83e-07      1.000   -4.02e+06    4.02e+06\n",
       "nominal__OperatingSystems_7                1.2586   2.05e+06   6.13e-07      1.000   -4.03e+06    4.03e+06\n",
       "nominal__OperatingSystems_8               -0.6463   2.05e+06  -3.15e-07      1.000   -4.03e+06    4.03e+06\n",
       "nominal__Browser_1                         0.0026   8.29e+05    3.1e-09      1.000   -1.62e+06    1.62e+06\n",
       "nominal__Browser_2                        -0.2528   8.28e+05  -3.05e-07      1.000   -1.62e+06    1.62e+06\n",
       "nominal__Browser_3                        -1.2409   8.35e+05  -1.49e-06      1.000   -1.64e+06    1.64e+06\n",
       "nominal__Browser_4                        -0.1994   8.35e+05  -2.39e-07      1.000   -1.64e+06    1.64e+06\n",
       "nominal__Browser_5                        -0.0265   8.33e+05  -3.18e-08      1.000   -1.63e+06    1.63e+06\n",
       "nominal__Browser_6                        -0.3530   8.34e+05  -4.24e-07      1.000   -1.63e+06    1.63e+06\n",
       "nominal__Browser_7                        -0.7390   8.31e+05  -8.89e-07      1.000   -1.63e+06    1.63e+06\n",
       "nominal__Browser_8                        -0.3551   8.33e+05  -4.27e-07      1.000   -1.63e+06    1.63e+06\n",
       "nominal__Browser_10                        0.1394   8.35e+05   1.67e-07      1.000   -1.64e+06    1.64e+06\n",
       "nominal__Browser_11                       -0.0357        nan        nan        nan         nan         nan\n",
       "nominal__Browser_12                        1.6054   8.39e+05   1.91e-06      1.000   -1.64e+06    1.64e+06\n",
       "nominal__Browser_13                        0.0528   8.31e+05   6.35e-08      1.000   -1.63e+06    1.63e+06\n",
       "nominal__Region_1                         -0.0413        nan        nan        nan         nan         nan\n",
       "nominal__Region_2                          0.1566        nan        nan        nan         nan         nan\n",
       "nominal__Region_3                          0.0016        nan        nan        nan         nan         nan\n",
       "nominal__Region_4                         -0.0964        nan        nan        nan         nan         nan\n",
       "nominal__Region_5                         -0.3419        nan        nan        nan         nan         nan\n",
       "nominal__Region_6                         -0.0113        nan        nan        nan         nan         nan\n",
       "nominal__Region_7                          0.0224        nan        nan        nan         nan         nan\n",
       "nominal__Region_8                          0.0112        nan        nan        nan         nan         nan\n",
       "nominal__Region_9                         -0.3264        nan        nan        nan         nan         nan\n",
       "nominal__TrafficType_1                     1.4053        nan        nan        nan         nan         nan\n",
       "nominal__TrafficType_2                     1.6194        nan        nan        nan         nan         nan\n",
       "nominal__TrafficType_3                     1.2283        nan        nan        nan         nan         nan\n",
       "nominal__TrafficType_4                     1.5157        nan        nan        nan         nan         nan\n",
       "nominal__TrafficType_5                     1.7889        nan        nan        nan         nan         nan\n",
       "nominal__TrafficType_6                     1.3288        nan        nan        nan         nan         nan\n",
       "nominal__TrafficType_7                     1.5506        nan        nan        nan         nan         nan\n",
       "nominal__TrafficType_8                     1.9655        nan        nan        nan         nan         nan\n",
       "nominal__TrafficType_9                     1.0966        nan        nan        nan         nan         nan\n",
       "nominal__TrafficType_10                    1.8195        nan        nan        nan         nan         nan\n",
       "nominal__TrafficType_11                    1.8745        nan        nan        nan         nan         nan\n",
       "nominal__TrafficType_12                   -0.6232        nan        nan        nan         nan         nan\n",
       "nominal__TrafficType_13                    1.0656        nan        nan        nan         nan         nan\n",
       "nominal__TrafficType_14                    0.7838        nan        nan        nan         nan         nan\n",
       "nominal__TrafficType_15                   -7.6849        nan        nan        nan         nan         nan\n",
       "nominal__TrafficType_16                   -2.5353        nan        nan        nan         nan         nan\n",
       "nominal__TrafficType_17                   -0.4491        nan        nan        nan         nan         nan\n",
       "nominal__TrafficType_18                   -4.8611        nan        nan        nan         nan         nan\n",
       "nominal__TrafficType_19                    0.7220        nan        nan        nan         nan         nan\n",
       "nominal__TrafficType_20                    1.8645        nan        nan        nan         nan         nan\n",
       "nominal__VisitorType_New_Visitor          -0.1919   2.38e+06  -8.07e-08      1.000   -4.66e+06    4.66e+06\n",
       "nominal__VisitorType_Other                -0.3662   2.38e+06  -1.54e-07      1.000   -4.66e+06    4.66e+06\n",
       "nominal__VisitorType_Returning_Visitor    -0.3817   2.38e+06  -1.61e-07      1.000   -4.66e+06    4.66e+06\n",
       "nominal__Weekend_0                        -1.3244   8.03e+05  -1.65e-06      1.000   -1.57e+06    1.57e+06\n",
       "nominal__Weekend_1                        -1.2621   8.03e+05  -1.57e-06      1.000   -1.57e+06    1.57e+06\n",
       "page_duration__Administrative_Duration     0.0139      0.038      0.371      0.711      -0.060       0.088\n",
       "page_duration__Informational_Duration      0.0235      0.035      0.661      0.509      -0.046       0.093\n",
       "page_duration__ProductRelated_Duration     0.0779      0.057      1.362      0.173      -0.034       0.190\n",
       "ga_rates__BounceRates                     -0.0629      0.174     -0.362      0.717      -0.403       0.277\n",
       "ga_rates__ExitRates                       -0.7581      0.133     -5.715      0.000      -1.018      -0.498\n",
       "remainder__Administrative                 -0.0020      0.013     -0.155      0.877      -0.027       0.023\n",
       "remainder__Informational                   0.0091      0.031      0.294      0.768      -0.052       0.070\n",
       "remainder__ProductRelated                  0.0024      0.001      1.862      0.063      -0.000       0.005\n",
       "remainder__PageValues                      0.0811      0.003     30.031      0.000       0.076       0.086\n",
       "remainder__SpecialDay                     -0.1384      0.264     -0.524      0.601      -0.656       0.380\n",
       "==========================================================================================================\n",
       "\"\"\""
      ]
     },
     "execution_count": 7,
     "metadata": {},
     "output_type": "execute_result"
    }
   ],
   "source": [
    "formula = \"remainder__Revenue ~ \" + \" + \".join(df_train.columns.drop('remainder__Revenue'))\n",
    "\n",
    "LR_model = smf.logit(formula=formula, data=df_train).fit_regularized(method='l1')\n",
    "LR_model.summary()"
   ]
  },
  {
   "cell_type": "markdown",
   "id": "75c257aa",
   "metadata": {},
   "source": [
    "As the classes are not balanced, the intercept/threshold needs to be scaled accordingly."
   ]
  },
  {
   "cell_type": "code",
   "execution_count": 8,
   "id": "15970d87",
   "metadata": {},
   "outputs": [
    {
     "name": "stdout",
     "output_type": "stream",
     "text": [
      "                   pre       rec       spe        f1       geo       iba       sup\n",
      "\n",
      "        0.0       0.94      0.87      0.70      0.91      0.78      0.62      1042\n",
      "        1.0       0.50      0.70      0.87      0.59      0.78      0.60       191\n",
      "\n",
      "avg / total       0.87      0.85      0.73      0.86      0.78      0.62      1233\n",
      "\n"
     ]
    }
   ],
   "source": [
    "weights = df_train.remainder__Revenue.value_counts()\n",
    "\n",
    "threshold = weights[1]/weights[0]\n",
    "\n",
    "LR_val_preds_raw = LR_model.predict(exog=df_val.drop(columns=['remainder__Revenue']))\n",
    "LR_val_preds = (LR_val_preds_raw > threshold).astype('int')\n",
    "\n",
    "print(classification_report_imbalanced(df_val['remainder__Revenue'], LR_val_preds))"
   ]
  },
  {
   "cell_type": "markdown",
   "id": "2cf89895",
   "metadata": {},
   "source": [
    "### Approach 2 - Boosted Decision Trees"
   ]
  },
  {
   "cell_type": "markdown",
   "id": "65652ae8",
   "metadata": {},
   "source": [
    "Implemented using XGBoost"
   ]
  },
  {
   "cell_type": "code",
   "execution_count": 9,
   "id": "7d4ebd34",
   "metadata": {},
   "outputs": [],
   "source": [
    "X_train = df_train.drop(columns='remainder__Revenue')\n",
    "y_train = df_train[['remainder__Revenue']]\n",
    "\n",
    "X_val = df_val.drop(columns='remainder__Revenue')\n",
    "y_val = df_val[['remainder__Revenue']]"
   ]
  },
  {
   "cell_type": "code",
   "execution_count": 10,
   "id": "083538a4",
   "metadata": {},
   "outputs": [
    {
     "name": "stdout",
     "output_type": "stream",
     "text": [
      "[18:38:44] WARNING: ../src/learner.cc:1095: Starting in XGBoost 1.3.0, the default evaluation metric used with the objective 'binary:logistic' was changed from 'error' to 'logloss'. Explicitly set eval_metric if you'd like to restore the old behavior.\n"
     ]
    },
    {
     "name": "stderr",
     "output_type": "stream",
     "text": [
      "/home/kavish/anaconda3/lib/python3.8/site-packages/xgboost/sklearn.py:1146: UserWarning: The use of label encoder in XGBClassifier is deprecated and will be removed in a future release. To remove this warning, do the following: 1) Pass option use_label_encoder=False when constructing XGBClassifier object; and 2) Encode your labels (y) as integers starting with 0, i.e. 0, 1, 2, ..., [num_class - 1].\n",
      "  warnings.warn(label_encoder_deprecation_msg, UserWarning)\n",
      "/home/kavish/anaconda3/lib/python3.8/site-packages/sklearn/preprocessing/_label.py:98: DataConversionWarning: A column-vector y was passed when a 1d array was expected. Please change the shape of y to (n_samples, ), for example using ravel().\n",
      "  y = column_or_1d(y, warn=True)\n",
      "/home/kavish/anaconda3/lib/python3.8/site-packages/sklearn/preprocessing/_label.py:133: DataConversionWarning: A column-vector y was passed when a 1d array was expected. Please change the shape of y to (n_samples, ), for example using ravel().\n",
      "  y = column_or_1d(y, warn=True)\n"
     ]
    }
   ],
   "source": [
    "sample_weights = class_weight.compute_sample_weight(class_weight='balanced', y=y_train)  # To help tackle imbalanced classes\n",
    "\n",
    "xgb_model = xgb.XGBClassifier().fit(X_train, y_train, sample_weight=sample_weights)"
   ]
  },
  {
   "cell_type": "code",
   "execution_count": 11,
   "id": "4478f392",
   "metadata": {},
   "outputs": [
    {
     "name": "stdout",
     "output_type": "stream",
     "text": [
      "                   pre       rec       spe        f1       geo       iba       sup\n",
      "\n",
      "        0.0       0.94      0.91      0.70      0.93      0.80      0.65      1042\n",
      "        1.0       0.58      0.70      0.91      0.63      0.80      0.62       191\n",
      "\n",
      "avg / total       0.89      0.88      0.73      0.88      0.80      0.64      1233\n",
      "\n"
     ]
    }
   ],
   "source": [
    "xgb_val_preds = xgb_model.predict(X_val)\n",
    "\n",
    "print(classification_report_imbalanced(y_val, xgb_val_preds))"
   ]
  },
  {
   "cell_type": "markdown",
   "id": "4de4fb60",
   "metadata": {},
   "source": [
    "## Results"
   ]
  },
  {
   "cell_type": "markdown",
   "id": "d2190b57",
   "metadata": {},
   "source": [
    "The results from both approaches are close with the logistic regression having an F1 score of 0.59 (for Revenue=True) to the 0.63 for XGBoost\n",
    "\n",
    "Additionally, the precision for TP is significantly higher for XGBoost (0.58 vs 0.5)"
   ]
  },
  {
   "cell_type": "markdown",
   "id": "c5928315",
   "metadata": {},
   "source": [
    "Based on these results, we can focus on using boosted decision trees"
   ]
  },
  {
   "cell_type": "markdown",
   "id": "90530413",
   "metadata": {},
   "source": [
    "### Approach 3 - More Boosted Trees"
   ]
  },
  {
   "cell_type": "markdown",
   "id": "50c6dafb",
   "metadata": {},
   "source": [
    "Comparing XGBoost with LightGBM"
   ]
  },
  {
   "cell_type": "code",
   "execution_count": 12,
   "id": "4dc89aab",
   "metadata": {},
   "outputs": [
    {
     "name": "stderr",
     "output_type": "stream",
     "text": [
      "/home/kavish/anaconda3/lib/python3.8/site-packages/sklearn/preprocessing/_label.py:98: DataConversionWarning: A column-vector y was passed when a 1d array was expected. Please change the shape of y to (n_samples, ), for example using ravel().\n",
      "  y = column_or_1d(y, warn=True)\n",
      "/home/kavish/anaconda3/lib/python3.8/site-packages/sklearn/preprocessing/_label.py:133: DataConversionWarning: A column-vector y was passed when a 1d array was expected. Please change the shape of y to (n_samples, ), for example using ravel().\n",
      "  y = column_or_1d(y, warn=True)\n"
     ]
    }
   ],
   "source": [
    "lgb_model = lgb.LGBMClassifier().fit(X_train, y_train, sample_weight=sample_weights)"
   ]
  },
  {
   "cell_type": "code",
   "execution_count": 13,
   "id": "1ae8e951",
   "metadata": {},
   "outputs": [
    {
     "name": "stdout",
     "output_type": "stream",
     "text": [
      "                   pre       rec       spe        f1       geo       iba       sup\n",
      "\n",
      "        0.0       0.94      0.91      0.70      0.93      0.80      0.65      1042\n",
      "        1.0       0.58      0.70      0.91      0.63      0.80      0.62       191\n",
      "\n",
      "avg / total       0.89      0.88      0.73      0.88      0.80      0.64      1233\n",
      "\n"
     ]
    }
   ],
   "source": [
    "lgb_val_preds = lgb_model.predict(X_val)\n",
    "\n",
    "print(classification_report_imbalanced(y_val, xgb_val_preds))"
   ]
  },
  {
   "cell_type": "markdown",
   "id": "bfbda471",
   "metadata": {},
   "source": [
    "## Results"
   ]
  },
  {
   "cell_type": "markdown",
   "id": "d8d4d466",
   "metadata": {},
   "source": [
    "Since they both have matching results, I would prefer LightGBM due to its speed advantage, allowing for better scalability"
   ]
  }
 ],
 "metadata": {
  "kernelspec": {
   "display_name": "Python 3 (ipykernel)",
   "language": "python",
   "name": "python3"
  },
  "language_info": {
   "codemirror_mode": {
    "name": "ipython",
    "version": 3
   },
   "file_extension": ".py",
   "mimetype": "text/x-python",
   "name": "python",
   "nbconvert_exporter": "python",
   "pygments_lexer": "ipython3",
   "version": "3.8.8"
  }
 },
 "nbformat": 4,
 "nbformat_minor": 5
}
