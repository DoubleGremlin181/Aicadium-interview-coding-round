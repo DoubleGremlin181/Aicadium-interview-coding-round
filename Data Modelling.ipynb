{
 "cells": [
  {
   "cell_type": "markdown",
   "id": "a7e83648",
   "metadata": {},
   "source": [
    "## Initializing Libraries"
   ]
  },
  {
   "cell_type": "code",
   "execution_count": 1,
   "id": "94f36ff8",
   "metadata": {},
   "outputs": [],
   "source": [
    "import pandas as pd\n",
    "import numpy as np\n",
    "import matplotlib.pyplot as plt\n",
    "from matplotlib import style\n",
    "plt.style.use(\"seaborn-dark\")\n",
    "\n",
    "from sklearn.model_selection import train_test_split\n",
    "from sklearn.metrics import *\n",
    "from sklearn.utils import class_weight\n",
    "from sklearn.preprocessing import OneHotEncoder\n",
    "from sklearn.preprocessing import StandardScaler\n",
    "from sklearn.compose import ColumnTransformer\n",
    "\n",
    "from imblearn.metrics import classification_report_imbalanced\n",
    "from imblearn.over_sampling import SMOTENC\n",
    "from imblearn.under_sampling import RandomUnderSampler\n",
    "\n",
    "import statsmodels.api as sm\n",
    "import statsmodels.formula.api as smf\n",
    "\n",
    "import xgboost as xgb\n",
    "import lightgbm as lgb\n",
    "\n",
    "from flaml import AutoML"
   ]
  },
  {
   "cell_type": "markdown",
   "id": "517a3c74",
   "metadata": {},
   "source": [
    "## Importing Data"
   ]
  },
  {
   "cell_type": "code",
   "execution_count": 2,
   "id": "9d28f677",
   "metadata": {},
   "outputs": [],
   "source": [
    "df = pd.read_csv('coding_round_data.csv')"
   ]
  },
  {
   "cell_type": "markdown",
   "id": "7f463385",
   "metadata": {},
   "source": [
    "### Fixing import issues"
   ]
  },
  {
   "cell_type": "code",
   "execution_count": 3,
   "id": "9a4966ed",
   "metadata": {},
   "outputs": [
    {
     "name": "stdout",
     "output_type": "stream",
     "text": [
      "<class 'pandas.core.frame.DataFrame'>\n",
      "RangeIndex: 12330 entries, 0 to 12329\n",
      "Data columns (total 18 columns):\n",
      " #   Column                   Non-Null Count  Dtype  \n",
      "---  ------                   --------------  -----  \n",
      " 0   Administrative           12330 non-null  int64  \n",
      " 1   Administrative_Duration  12330 non-null  float64\n",
      " 2   Informational            12330 non-null  int64  \n",
      " 3   Informational_Duration   12330 non-null  float64\n",
      " 4   ProductRelated           12330 non-null  int64  \n",
      " 5   ProductRelated_Duration  12330 non-null  float64\n",
      " 6   BounceRates              12330 non-null  float64\n",
      " 7   ExitRates                12330 non-null  float64\n",
      " 8   PageValues               12330 non-null  float64\n",
      " 9   SpecialDay               12330 non-null  float64\n",
      " 10  Month                    12330 non-null  object \n",
      " 11  OperatingSystems         12330 non-null  int64  \n",
      " 12  Browser                  12330 non-null  int64  \n",
      " 13  Region                   12330 non-null  int64  \n",
      " 14  TrafficType              12330 non-null  int64  \n",
      " 15  VisitorType              12330 non-null  object \n",
      " 16  Weekend                  12330 non-null  bool   \n",
      " 17  Revenue                  12330 non-null  bool   \n",
      "dtypes: bool(2), float64(7), int64(7), object(2)\n",
      "memory usage: 1.5+ MB\n"
     ]
    }
   ],
   "source": [
    "df.info()"
   ]
  },
  {
   "cell_type": "code",
   "execution_count": 4,
   "id": "cee2fb43",
   "metadata": {},
   "outputs": [],
   "source": [
    "for col in ['OperatingSystems', 'Browser', 'Region', 'TrafficType', 'VisitorType', 'Month']:\n",
    "    df[col] = df[col].astype('category')\n",
    "\n",
    "for col in ['Weekend', 'Revenue']:\n",
    "    df[col] = df[col].astype('int')"
   ]
  },
  {
   "cell_type": "markdown",
   "id": "99c4b521",
   "metadata": {},
   "source": [
    "## Splitting Data"
   ]
  },
  {
   "cell_type": "markdown",
   "id": "e535b4cc",
   "metadata": {},
   "source": [
    "Using a stratified split as the data is very imbalanced"
   ]
  },
  {
   "cell_type": "code",
   "execution_count": 5,
   "id": "02cb1f82",
   "metadata": {},
   "outputs": [],
   "source": [
    "df_train, df_test = train_test_split(df, stratify=df['Revenue'], test_size=0.10, random_state=42)\n",
    "df_train, df_val = train_test_split(df_train, stratify=df_train['Revenue'], test_size=1/9, random_state=42)"
   ]
  },
  {
   "cell_type": "markdown",
   "id": "75eef71d",
   "metadata": {},
   "source": [
    "## Data Manipulation"
   ]
  },
  {
   "cell_type": "code",
   "execution_count": 6,
   "id": "07f43295",
   "metadata": {},
   "outputs": [],
   "source": [
    "nominal_features = ['Month','OperatingSystems', 'Browser', 'Region', 'TrafficType', 'VisitorType','Weekend']\n",
    "nominal_transformer = OneHotEncoder(handle_unknown=\"ignore\")\n",
    "\n",
    "page_duration_features = ['Administrative_Duration', 'Informational_Duration', 'ProductRelated_Duration']\n",
    "ss_transformer = StandardScaler()\n",
    "\n",
    "ga_rates_features = ['BounceRates', 'ExitRates']\n",
    "\n",
    "preprocessor = ColumnTransformer(\n",
    "    transformers=[\n",
    "        (\"nominal\", nominal_transformer, nominal_features),\n",
    "        (\"page_duration\", ss_transformer, page_duration_features),\n",
    "        (\"ga_rates\", ss_transformer, ga_rates_features),\n",
    "    ],\n",
    "    sparse_threshold=0,\n",
    "    remainder='passthrough'\n",
    ")\n",
    "\n",
    "preprocessor.fit(df_train)\n",
    "\n",
    "df_train = pd.DataFrame(preprocessor.transform(df_train), columns=preprocessor.get_feature_names_out())\n",
    "df_val = pd.DataFrame(preprocessor.transform(df_val), columns=preprocessor.get_feature_names_out())\n",
    "df_test = pd.DataFrame(preprocessor.transform(df_test), columns=preprocessor.get_feature_names_out())"
   ]
  },
  {
   "cell_type": "code",
   "execution_count": 7,
   "id": "6abfc1db",
   "metadata": {},
   "outputs": [],
   "source": [
    "X_train = df_train.drop(columns='remainder__Revenue')\n",
    "y_train = df_train[['remainder__Revenue']]\n",
    "\n",
    "X_val = df_val.drop(columns='remainder__Revenue')\n",
    "y_val = df_val[['remainder__Revenue']]\n",
    "\n",
    "X_test = df_test.drop(columns='remainder__Revenue')\n",
    "y_test = df_test[['remainder__Revenue']]"
   ]
  },
  {
   "cell_type": "code",
   "execution_count": 8,
   "id": "af9538c8",
   "metadata": {},
   "outputs": [],
   "source": [
    "categorical_features = [idx for idx, i in enumerate(preprocessor.get_feature_names_out()) if i.startswith('nominal')]\n",
    "\n",
    "sm = SMOTENC(random_state=42, categorical_features=categorical_features)\n",
    "X_train, y_train = sm.fit_resample(X_train, y_train)"
   ]
  },
  {
   "cell_type": "markdown",
   "id": "6bb722d3",
   "metadata": {},
   "source": [
    "## Modelling"
   ]
  },
  {
   "cell_type": "markdown",
   "id": "fdbda03f",
   "metadata": {},
   "source": [
    "There are 2 main approaches that I will be taking for modelling. Their results will be compared on the df_val set to decide a final approach through the F1-score of the positive class as the goal is to predict whether a user makes a purchase or not."
   ]
  },
  {
   "cell_type": "markdown",
   "id": "d24d0a84",
   "metadata": {},
   "source": [
    "### Approach 1 - Logistic Regression"
   ]
  },
  {
   "cell_type": "code",
   "execution_count": 9,
   "id": "2c8a0fcb",
   "metadata": {},
   "outputs": [
    {
     "name": "stderr",
     "output_type": "stream",
     "text": [
      "/home/kavish/anaconda3/lib/python3.8/site-packages/statsmodels/discrete/discrete_model.py:1810: RuntimeWarning: overflow encountered in exp\n",
      "  return 1/(1+np.exp(-X))\n",
      "/home/kavish/anaconda3/lib/python3.8/site-packages/statsmodels/discrete/discrete_model.py:1863: RuntimeWarning: divide by zero encountered in log\n",
      "  return np.sum(np.log(self.cdf(q*np.dot(X,params))))\n"
     ]
    },
    {
     "name": "stdout",
     "output_type": "stream",
     "text": [
      "Optimization terminated successfully    (Exit mode 0)\n",
      "            Current function value: 0.286191599843355\n",
      "            Iterations: 487\n",
      "            Function evaluations: 495\n",
      "            Gradient evaluations: 487\n"
     ]
    },
    {
     "data": {
      "text/html": [
       "<table class=\"simpletable\">\n",
       "<caption>Logit Regression Results</caption>\n",
       "<tr>\n",
       "  <th>Dep. Variable:</th>   <td>remainder__Revenue</td> <th>  No. Observations:  </th>  <td>  9864</td> \n",
       "</tr>\n",
       "<tr>\n",
       "  <th>Model:</th>                  <td>Logit</td>       <th>  Df Residuals:      </th>  <td>  9789</td> \n",
       "</tr>\n",
       "<tr>\n",
       "  <th>Method:</th>                  <td>MLE</td>        <th>  Df Model:          </th>  <td>    74</td> \n",
       "</tr>\n",
       "<tr>\n",
       "  <th>Date:</th>             <td>Sun, 03 Apr 2022</td>  <th>  Pseudo R-squ.:     </th>  <td>0.3356</td> \n",
       "</tr>\n",
       "<tr>\n",
       "  <th>Time:</th>                 <td>19:54:43</td>      <th>  Log-Likelihood:    </th> <td> -2823.0</td>\n",
       "</tr>\n",
       "<tr>\n",
       "  <th>converged:</th>              <td>True</td>        <th>  LL-Null:           </th> <td> -4249.2</td>\n",
       "</tr>\n",
       "<tr>\n",
       "  <th>Covariance Type:</th>      <td>nonrobust</td>     <th>  LLR p-value:       </th>  <td> 0.000</td> \n",
       "</tr>\n",
       "</table>\n",
       "<table class=\"simpletable\">\n",
       "<tr>\n",
       "                     <td></td>                       <th>coef</th>     <th>std err</th>      <th>z</th>      <th>P>|z|</th>  <th>[0.025</th>    <th>0.975]</th>  \n",
       "</tr>\n",
       "<tr>\n",
       "  <th>Intercept</th>                              <td>   -2.1836</td> <td> 1.48e+06</td> <td>-1.48e-06</td> <td> 1.000</td> <td> -2.9e+06</td> <td>  2.9e+06</td>\n",
       "</tr>\n",
       "<tr>\n",
       "  <th>nominal__Month_Aug</th>                     <td>    0.1609</td> <td> 2.09e+06</td> <td> 7.71e-08</td> <td> 1.000</td> <td>-4.09e+06</td> <td> 4.09e+06</td>\n",
       "</tr>\n",
       "<tr>\n",
       "  <th>nominal__Month_Dec</th>                     <td>   -0.5800</td> <td> 2.08e+06</td> <td>-2.79e-07</td> <td> 1.000</td> <td>-4.07e+06</td> <td> 4.07e+06</td>\n",
       "</tr>\n",
       "<tr>\n",
       "  <th>nominal__Month_Feb</th>                     <td>   -1.2774</td> <td> 2.11e+06</td> <td>-6.05e-07</td> <td> 1.000</td> <td>-4.14e+06</td> <td> 4.14e+06</td>\n",
       "</tr>\n",
       "<tr>\n",
       "  <th>nominal__Month_Jul</th>                     <td>    0.1823</td> <td>  2.1e+06</td> <td> 8.69e-08</td> <td> 1.000</td> <td>-4.11e+06</td> <td> 4.11e+06</td>\n",
       "</tr>\n",
       "<tr>\n",
       "  <th>nominal__Month_June</th>                    <td>   -0.3670</td> <td> 2.09e+06</td> <td>-1.76e-07</td> <td> 1.000</td> <td>-4.09e+06</td> <td> 4.09e+06</td>\n",
       "</tr>\n",
       "<tr>\n",
       "  <th>nominal__Month_Mar</th>                     <td>   -0.3864</td> <td> 2.09e+06</td> <td>-1.84e-07</td> <td> 1.000</td> <td>-4.11e+06</td> <td> 4.11e+06</td>\n",
       "</tr>\n",
       "<tr>\n",
       "  <th>nominal__Month_May</th>                     <td>   -0.3565</td> <td>  2.1e+06</td> <td> -1.7e-07</td> <td> 1.000</td> <td>-4.11e+06</td> <td> 4.11e+06</td>\n",
       "</tr>\n",
       "<tr>\n",
       "  <th>nominal__Month_Nov</th>                     <td>    0.5742</td> <td> 2.09e+06</td> <td> 2.75e-07</td> <td> 1.000</td> <td> -4.1e+06</td> <td>  4.1e+06</td>\n",
       "</tr>\n",
       "<tr>\n",
       "  <th>nominal__Month_Oct</th>                     <td>    0.0980</td> <td> 2.09e+06</td> <td> 4.68e-08</td> <td> 1.000</td> <td>-4.11e+06</td> <td> 4.11e+06</td>\n",
       "</tr>\n",
       "<tr>\n",
       "  <th>nominal__Month_Sep</th>                     <td>    0.1398</td> <td> 2.08e+06</td> <td> 6.71e-08</td> <td> 1.000</td> <td>-4.08e+06</td> <td> 4.08e+06</td>\n",
       "</tr>\n",
       "<tr>\n",
       "  <th>nominal__OperatingSystems_1</th>            <td>   -0.3060</td> <td> 2.05e+06</td> <td>-1.49e-07</td> <td> 1.000</td> <td>-4.02e+06</td> <td> 4.02e+06</td>\n",
       "</tr>\n",
       "<tr>\n",
       "  <th>nominal__OperatingSystems_2</th>            <td>   -0.0312</td> <td> 2.05e+06</td> <td>-1.52e-08</td> <td> 1.000</td> <td>-4.02e+06</td> <td> 4.02e+06</td>\n",
       "</tr>\n",
       "<tr>\n",
       "  <th>nominal__OperatingSystems_3</th>            <td>   -0.2797</td> <td> 2.06e+06</td> <td>-1.36e-07</td> <td> 1.000</td> <td>-4.04e+06</td> <td> 4.04e+06</td>\n",
       "</tr>\n",
       "<tr>\n",
       "  <th>nominal__OperatingSystems_4</th>            <td>   -0.3495</td> <td> 2.05e+06</td> <td> -1.7e-07</td> <td> 1.000</td> <td>-4.02e+06</td> <td> 4.02e+06</td>\n",
       "</tr>\n",
       "<tr>\n",
       "  <th>nominal__OperatingSystems_5</th>            <td>   -0.0357</td> <td>      nan</td> <td>      nan</td> <td>   nan</td> <td>      nan</td> <td>      nan</td>\n",
       "</tr>\n",
       "<tr>\n",
       "  <th>nominal__OperatingSystems_6</th>            <td>   -1.6059</td> <td> 2.05e+06</td> <td>-7.83e-07</td> <td> 1.000</td> <td>-4.02e+06</td> <td> 4.02e+06</td>\n",
       "</tr>\n",
       "<tr>\n",
       "  <th>nominal__OperatingSystems_7</th>            <td>    1.2586</td> <td> 2.05e+06</td> <td> 6.13e-07</td> <td> 1.000</td> <td>-4.03e+06</td> <td> 4.03e+06</td>\n",
       "</tr>\n",
       "<tr>\n",
       "  <th>nominal__OperatingSystems_8</th>            <td>   -0.6463</td> <td> 2.05e+06</td> <td>-3.15e-07</td> <td> 1.000</td> <td>-4.03e+06</td> <td> 4.03e+06</td>\n",
       "</tr>\n",
       "<tr>\n",
       "  <th>nominal__Browser_1</th>                     <td>    0.0026</td> <td> 8.29e+05</td> <td>  3.1e-09</td> <td> 1.000</td> <td>-1.62e+06</td> <td> 1.62e+06</td>\n",
       "</tr>\n",
       "<tr>\n",
       "  <th>nominal__Browser_2</th>                     <td>   -0.2528</td> <td> 8.28e+05</td> <td>-3.05e-07</td> <td> 1.000</td> <td>-1.62e+06</td> <td> 1.62e+06</td>\n",
       "</tr>\n",
       "<tr>\n",
       "  <th>nominal__Browser_3</th>                     <td>   -1.2409</td> <td> 8.35e+05</td> <td>-1.49e-06</td> <td> 1.000</td> <td>-1.64e+06</td> <td> 1.64e+06</td>\n",
       "</tr>\n",
       "<tr>\n",
       "  <th>nominal__Browser_4</th>                     <td>   -0.1994</td> <td> 8.35e+05</td> <td>-2.39e-07</td> <td> 1.000</td> <td>-1.64e+06</td> <td> 1.64e+06</td>\n",
       "</tr>\n",
       "<tr>\n",
       "  <th>nominal__Browser_5</th>                     <td>   -0.0265</td> <td> 8.33e+05</td> <td>-3.18e-08</td> <td> 1.000</td> <td>-1.63e+06</td> <td> 1.63e+06</td>\n",
       "</tr>\n",
       "<tr>\n",
       "  <th>nominal__Browser_6</th>                     <td>   -0.3530</td> <td> 8.34e+05</td> <td>-4.24e-07</td> <td> 1.000</td> <td>-1.63e+06</td> <td> 1.63e+06</td>\n",
       "</tr>\n",
       "<tr>\n",
       "  <th>nominal__Browser_7</th>                     <td>   -0.7390</td> <td> 8.31e+05</td> <td>-8.89e-07</td> <td> 1.000</td> <td>-1.63e+06</td> <td> 1.63e+06</td>\n",
       "</tr>\n",
       "<tr>\n",
       "  <th>nominal__Browser_8</th>                     <td>   -0.3551</td> <td> 8.33e+05</td> <td>-4.27e-07</td> <td> 1.000</td> <td>-1.63e+06</td> <td> 1.63e+06</td>\n",
       "</tr>\n",
       "<tr>\n",
       "  <th>nominal__Browser_10</th>                    <td>    0.1394</td> <td> 8.35e+05</td> <td> 1.67e-07</td> <td> 1.000</td> <td>-1.64e+06</td> <td> 1.64e+06</td>\n",
       "</tr>\n",
       "<tr>\n",
       "  <th>nominal__Browser_11</th>                    <td>   -0.0357</td> <td>      nan</td> <td>      nan</td> <td>   nan</td> <td>      nan</td> <td>      nan</td>\n",
       "</tr>\n",
       "<tr>\n",
       "  <th>nominal__Browser_12</th>                    <td>    1.6054</td> <td> 8.39e+05</td> <td> 1.91e-06</td> <td> 1.000</td> <td>-1.64e+06</td> <td> 1.64e+06</td>\n",
       "</tr>\n",
       "<tr>\n",
       "  <th>nominal__Browser_13</th>                    <td>    0.0528</td> <td> 8.31e+05</td> <td> 6.35e-08</td> <td> 1.000</td> <td>-1.63e+06</td> <td> 1.63e+06</td>\n",
       "</tr>\n",
       "<tr>\n",
       "  <th>nominal__Region_1</th>                      <td>   -0.0413</td> <td>      nan</td> <td>      nan</td> <td>   nan</td> <td>      nan</td> <td>      nan</td>\n",
       "</tr>\n",
       "<tr>\n",
       "  <th>nominal__Region_2</th>                      <td>    0.1566</td> <td>      nan</td> <td>      nan</td> <td>   nan</td> <td>      nan</td> <td>      nan</td>\n",
       "</tr>\n",
       "<tr>\n",
       "  <th>nominal__Region_3</th>                      <td>    0.0016</td> <td>      nan</td> <td>      nan</td> <td>   nan</td> <td>      nan</td> <td>      nan</td>\n",
       "</tr>\n",
       "<tr>\n",
       "  <th>nominal__Region_4</th>                      <td>   -0.0964</td> <td>      nan</td> <td>      nan</td> <td>   nan</td> <td>      nan</td> <td>      nan</td>\n",
       "</tr>\n",
       "<tr>\n",
       "  <th>nominal__Region_5</th>                      <td>   -0.3419</td> <td>      nan</td> <td>      nan</td> <td>   nan</td> <td>      nan</td> <td>      nan</td>\n",
       "</tr>\n",
       "<tr>\n",
       "  <th>nominal__Region_6</th>                      <td>   -0.0113</td> <td>      nan</td> <td>      nan</td> <td>   nan</td> <td>      nan</td> <td>      nan</td>\n",
       "</tr>\n",
       "<tr>\n",
       "  <th>nominal__Region_7</th>                      <td>    0.0224</td> <td>      nan</td> <td>      nan</td> <td>   nan</td> <td>      nan</td> <td>      nan</td>\n",
       "</tr>\n",
       "<tr>\n",
       "  <th>nominal__Region_8</th>                      <td>    0.0112</td> <td>      nan</td> <td>      nan</td> <td>   nan</td> <td>      nan</td> <td>      nan</td>\n",
       "</tr>\n",
       "<tr>\n",
       "  <th>nominal__Region_9</th>                      <td>   -0.3264</td> <td>      nan</td> <td>      nan</td> <td>   nan</td> <td>      nan</td> <td>      nan</td>\n",
       "</tr>\n",
       "<tr>\n",
       "  <th>nominal__TrafficType_1</th>                 <td>    1.4053</td> <td>      nan</td> <td>      nan</td> <td>   nan</td> <td>      nan</td> <td>      nan</td>\n",
       "</tr>\n",
       "<tr>\n",
       "  <th>nominal__TrafficType_2</th>                 <td>    1.6194</td> <td>      nan</td> <td>      nan</td> <td>   nan</td> <td>      nan</td> <td>      nan</td>\n",
       "</tr>\n",
       "<tr>\n",
       "  <th>nominal__TrafficType_3</th>                 <td>    1.2283</td> <td>      nan</td> <td>      nan</td> <td>   nan</td> <td>      nan</td> <td>      nan</td>\n",
       "</tr>\n",
       "<tr>\n",
       "  <th>nominal__TrafficType_4</th>                 <td>    1.5157</td> <td>      nan</td> <td>      nan</td> <td>   nan</td> <td>      nan</td> <td>      nan</td>\n",
       "</tr>\n",
       "<tr>\n",
       "  <th>nominal__TrafficType_5</th>                 <td>    1.7889</td> <td>      nan</td> <td>      nan</td> <td>   nan</td> <td>      nan</td> <td>      nan</td>\n",
       "</tr>\n",
       "<tr>\n",
       "  <th>nominal__TrafficType_6</th>                 <td>    1.3288</td> <td>      nan</td> <td>      nan</td> <td>   nan</td> <td>      nan</td> <td>      nan</td>\n",
       "</tr>\n",
       "<tr>\n",
       "  <th>nominal__TrafficType_7</th>                 <td>    1.5506</td> <td>      nan</td> <td>      nan</td> <td>   nan</td> <td>      nan</td> <td>      nan</td>\n",
       "</tr>\n",
       "<tr>\n",
       "  <th>nominal__TrafficType_8</th>                 <td>    1.9655</td> <td>      nan</td> <td>      nan</td> <td>   nan</td> <td>      nan</td> <td>      nan</td>\n",
       "</tr>\n",
       "<tr>\n",
       "  <th>nominal__TrafficType_9</th>                 <td>    1.0966</td> <td>      nan</td> <td>      nan</td> <td>   nan</td> <td>      nan</td> <td>      nan</td>\n",
       "</tr>\n",
       "<tr>\n",
       "  <th>nominal__TrafficType_10</th>                <td>    1.8195</td> <td>      nan</td> <td>      nan</td> <td>   nan</td> <td>      nan</td> <td>      nan</td>\n",
       "</tr>\n",
       "<tr>\n",
       "  <th>nominal__TrafficType_11</th>                <td>    1.8745</td> <td>      nan</td> <td>      nan</td> <td>   nan</td> <td>      nan</td> <td>      nan</td>\n",
       "</tr>\n",
       "<tr>\n",
       "  <th>nominal__TrafficType_12</th>                <td>   -0.6232</td> <td>      nan</td> <td>      nan</td> <td>   nan</td> <td>      nan</td> <td>      nan</td>\n",
       "</tr>\n",
       "<tr>\n",
       "  <th>nominal__TrafficType_13</th>                <td>    1.0656</td> <td>      nan</td> <td>      nan</td> <td>   nan</td> <td>      nan</td> <td>      nan</td>\n",
       "</tr>\n",
       "<tr>\n",
       "  <th>nominal__TrafficType_14</th>                <td>    0.7838</td> <td>      nan</td> <td>      nan</td> <td>   nan</td> <td>      nan</td> <td>      nan</td>\n",
       "</tr>\n",
       "<tr>\n",
       "  <th>nominal__TrafficType_15</th>                <td>   -7.6849</td> <td>      nan</td> <td>      nan</td> <td>   nan</td> <td>      nan</td> <td>      nan</td>\n",
       "</tr>\n",
       "<tr>\n",
       "  <th>nominal__TrafficType_16</th>                <td>   -2.5353</td> <td>      nan</td> <td>      nan</td> <td>   nan</td> <td>      nan</td> <td>      nan</td>\n",
       "</tr>\n",
       "<tr>\n",
       "  <th>nominal__TrafficType_17</th>                <td>   -0.4491</td> <td>      nan</td> <td>      nan</td> <td>   nan</td> <td>      nan</td> <td>      nan</td>\n",
       "</tr>\n",
       "<tr>\n",
       "  <th>nominal__TrafficType_18</th>                <td>   -4.8611</td> <td>      nan</td> <td>      nan</td> <td>   nan</td> <td>      nan</td> <td>      nan</td>\n",
       "</tr>\n",
       "<tr>\n",
       "  <th>nominal__TrafficType_19</th>                <td>    0.7220</td> <td>      nan</td> <td>      nan</td> <td>   nan</td> <td>      nan</td> <td>      nan</td>\n",
       "</tr>\n",
       "<tr>\n",
       "  <th>nominal__TrafficType_20</th>                <td>    1.8645</td> <td>      nan</td> <td>      nan</td> <td>   nan</td> <td>      nan</td> <td>      nan</td>\n",
       "</tr>\n",
       "<tr>\n",
       "  <th>nominal__VisitorType_New_Visitor</th>       <td>   -0.1919</td> <td> 2.38e+06</td> <td>-8.07e-08</td> <td> 1.000</td> <td>-4.66e+06</td> <td> 4.66e+06</td>\n",
       "</tr>\n",
       "<tr>\n",
       "  <th>nominal__VisitorType_Other</th>             <td>   -0.3662</td> <td> 2.38e+06</td> <td>-1.54e-07</td> <td> 1.000</td> <td>-4.66e+06</td> <td> 4.66e+06</td>\n",
       "</tr>\n",
       "<tr>\n",
       "  <th>nominal__VisitorType_Returning_Visitor</th> <td>   -0.3817</td> <td> 2.38e+06</td> <td>-1.61e-07</td> <td> 1.000</td> <td>-4.66e+06</td> <td> 4.66e+06</td>\n",
       "</tr>\n",
       "<tr>\n",
       "  <th>nominal__Weekend_0</th>                     <td>   -1.3244</td> <td> 8.03e+05</td> <td>-1.65e-06</td> <td> 1.000</td> <td>-1.57e+06</td> <td> 1.57e+06</td>\n",
       "</tr>\n",
       "<tr>\n",
       "  <th>nominal__Weekend_1</th>                     <td>   -1.2621</td> <td> 8.03e+05</td> <td>-1.57e-06</td> <td> 1.000</td> <td>-1.57e+06</td> <td> 1.57e+06</td>\n",
       "</tr>\n",
       "<tr>\n",
       "  <th>page_duration__Administrative_Duration</th> <td>    0.0139</td> <td>    0.038</td> <td>    0.371</td> <td> 0.711</td> <td>   -0.060</td> <td>    0.088</td>\n",
       "</tr>\n",
       "<tr>\n",
       "  <th>page_duration__Informational_Duration</th>  <td>    0.0235</td> <td>    0.035</td> <td>    0.661</td> <td> 0.509</td> <td>   -0.046</td> <td>    0.093</td>\n",
       "</tr>\n",
       "<tr>\n",
       "  <th>page_duration__ProductRelated_Duration</th> <td>    0.0779</td> <td>    0.057</td> <td>    1.362</td> <td> 0.173</td> <td>   -0.034</td> <td>    0.190</td>\n",
       "</tr>\n",
       "<tr>\n",
       "  <th>ga_rates__BounceRates</th>                  <td>   -0.0629</td> <td>    0.174</td> <td>   -0.362</td> <td> 0.717</td> <td>   -0.403</td> <td>    0.277</td>\n",
       "</tr>\n",
       "<tr>\n",
       "  <th>ga_rates__ExitRates</th>                    <td>   -0.7581</td> <td>    0.133</td> <td>   -5.715</td> <td> 0.000</td> <td>   -1.018</td> <td>   -0.498</td>\n",
       "</tr>\n",
       "<tr>\n",
       "  <th>remainder__Administrative</th>              <td>   -0.0020</td> <td>    0.013</td> <td>   -0.155</td> <td> 0.877</td> <td>   -0.027</td> <td>    0.023</td>\n",
       "</tr>\n",
       "<tr>\n",
       "  <th>remainder__Informational</th>               <td>    0.0091</td> <td>    0.031</td> <td>    0.294</td> <td> 0.768</td> <td>   -0.052</td> <td>    0.070</td>\n",
       "</tr>\n",
       "<tr>\n",
       "  <th>remainder__ProductRelated</th>              <td>    0.0024</td> <td>    0.001</td> <td>    1.862</td> <td> 0.063</td> <td>   -0.000</td> <td>    0.005</td>\n",
       "</tr>\n",
       "<tr>\n",
       "  <th>remainder__PageValues</th>                  <td>    0.0811</td> <td>    0.003</td> <td>   30.031</td> <td> 0.000</td> <td>    0.076</td> <td>    0.086</td>\n",
       "</tr>\n",
       "<tr>\n",
       "  <th>remainder__SpecialDay</th>                  <td>   -0.1384</td> <td>    0.264</td> <td>   -0.524</td> <td> 0.601</td> <td>   -0.656</td> <td>    0.380</td>\n",
       "</tr>\n",
       "</table>"
      ],
      "text/plain": [
       "<class 'statsmodels.iolib.summary.Summary'>\n",
       "\"\"\"\n",
       "                           Logit Regression Results                           \n",
       "==============================================================================\n",
       "Dep. Variable:     remainder__Revenue   No. Observations:                 9864\n",
       "Model:                          Logit   Df Residuals:                     9789\n",
       "Method:                           MLE   Df Model:                           74\n",
       "Date:                Sun, 03 Apr 2022   Pseudo R-squ.:                  0.3356\n",
       "Time:                        19:54:43   Log-Likelihood:                -2823.0\n",
       "converged:                       True   LL-Null:                       -4249.2\n",
       "Covariance Type:            nonrobust   LLR p-value:                     0.000\n",
       "==========================================================================================================\n",
       "                                             coef    std err          z      P>|z|      [0.025      0.975]\n",
       "----------------------------------------------------------------------------------------------------------\n",
       "Intercept                                 -2.1836   1.48e+06  -1.48e-06      1.000    -2.9e+06     2.9e+06\n",
       "nominal__Month_Aug                         0.1609   2.09e+06   7.71e-08      1.000   -4.09e+06    4.09e+06\n",
       "nominal__Month_Dec                        -0.5800   2.08e+06  -2.79e-07      1.000   -4.07e+06    4.07e+06\n",
       "nominal__Month_Feb                        -1.2774   2.11e+06  -6.05e-07      1.000   -4.14e+06    4.14e+06\n",
       "nominal__Month_Jul                         0.1823    2.1e+06   8.69e-08      1.000   -4.11e+06    4.11e+06\n",
       "nominal__Month_June                       -0.3670   2.09e+06  -1.76e-07      1.000   -4.09e+06    4.09e+06\n",
       "nominal__Month_Mar                        -0.3864   2.09e+06  -1.84e-07      1.000   -4.11e+06    4.11e+06\n",
       "nominal__Month_May                        -0.3565    2.1e+06   -1.7e-07      1.000   -4.11e+06    4.11e+06\n",
       "nominal__Month_Nov                         0.5742   2.09e+06   2.75e-07      1.000    -4.1e+06     4.1e+06\n",
       "nominal__Month_Oct                         0.0980   2.09e+06   4.68e-08      1.000   -4.11e+06    4.11e+06\n",
       "nominal__Month_Sep                         0.1398   2.08e+06   6.71e-08      1.000   -4.08e+06    4.08e+06\n",
       "nominal__OperatingSystems_1               -0.3060   2.05e+06  -1.49e-07      1.000   -4.02e+06    4.02e+06\n",
       "nominal__OperatingSystems_2               -0.0312   2.05e+06  -1.52e-08      1.000   -4.02e+06    4.02e+06\n",
       "nominal__OperatingSystems_3               -0.2797   2.06e+06  -1.36e-07      1.000   -4.04e+06    4.04e+06\n",
       "nominal__OperatingSystems_4               -0.3495   2.05e+06   -1.7e-07      1.000   -4.02e+06    4.02e+06\n",
       "nominal__OperatingSystems_5               -0.0357        nan        nan        nan         nan         nan\n",
       "nominal__OperatingSystems_6               -1.6059   2.05e+06  -7.83e-07      1.000   -4.02e+06    4.02e+06\n",
       "nominal__OperatingSystems_7                1.2586   2.05e+06   6.13e-07      1.000   -4.03e+06    4.03e+06\n",
       "nominal__OperatingSystems_8               -0.6463   2.05e+06  -3.15e-07      1.000   -4.03e+06    4.03e+06\n",
       "nominal__Browser_1                         0.0026   8.29e+05    3.1e-09      1.000   -1.62e+06    1.62e+06\n",
       "nominal__Browser_2                        -0.2528   8.28e+05  -3.05e-07      1.000   -1.62e+06    1.62e+06\n",
       "nominal__Browser_3                        -1.2409   8.35e+05  -1.49e-06      1.000   -1.64e+06    1.64e+06\n",
       "nominal__Browser_4                        -0.1994   8.35e+05  -2.39e-07      1.000   -1.64e+06    1.64e+06\n",
       "nominal__Browser_5                        -0.0265   8.33e+05  -3.18e-08      1.000   -1.63e+06    1.63e+06\n",
       "nominal__Browser_6                        -0.3530   8.34e+05  -4.24e-07      1.000   -1.63e+06    1.63e+06\n",
       "nominal__Browser_7                        -0.7390   8.31e+05  -8.89e-07      1.000   -1.63e+06    1.63e+06\n",
       "nominal__Browser_8                        -0.3551   8.33e+05  -4.27e-07      1.000   -1.63e+06    1.63e+06\n",
       "nominal__Browser_10                        0.1394   8.35e+05   1.67e-07      1.000   -1.64e+06    1.64e+06\n",
       "nominal__Browser_11                       -0.0357        nan        nan        nan         nan         nan\n",
       "nominal__Browser_12                        1.6054   8.39e+05   1.91e-06      1.000   -1.64e+06    1.64e+06\n",
       "nominal__Browser_13                        0.0528   8.31e+05   6.35e-08      1.000   -1.63e+06    1.63e+06\n",
       "nominal__Region_1                         -0.0413        nan        nan        nan         nan         nan\n",
       "nominal__Region_2                          0.1566        nan        nan        nan         nan         nan\n",
       "nominal__Region_3                          0.0016        nan        nan        nan         nan         nan\n",
       "nominal__Region_4                         -0.0964        nan        nan        nan         nan         nan\n",
       "nominal__Region_5                         -0.3419        nan        nan        nan         nan         nan\n",
       "nominal__Region_6                         -0.0113        nan        nan        nan         nan         nan\n",
       "nominal__Region_7                          0.0224        nan        nan        nan         nan         nan\n",
       "nominal__Region_8                          0.0112        nan        nan        nan         nan         nan\n",
       "nominal__Region_9                         -0.3264        nan        nan        nan         nan         nan\n",
       "nominal__TrafficType_1                     1.4053        nan        nan        nan         nan         nan\n",
       "nominal__TrafficType_2                     1.6194        nan        nan        nan         nan         nan\n",
       "nominal__TrafficType_3                     1.2283        nan        nan        nan         nan         nan\n",
       "nominal__TrafficType_4                     1.5157        nan        nan        nan         nan         nan\n",
       "nominal__TrafficType_5                     1.7889        nan        nan        nan         nan         nan\n",
       "nominal__TrafficType_6                     1.3288        nan        nan        nan         nan         nan\n",
       "nominal__TrafficType_7                     1.5506        nan        nan        nan         nan         nan\n",
       "nominal__TrafficType_8                     1.9655        nan        nan        nan         nan         nan\n",
       "nominal__TrafficType_9                     1.0966        nan        nan        nan         nan         nan\n",
       "nominal__TrafficType_10                    1.8195        nan        nan        nan         nan         nan\n",
       "nominal__TrafficType_11                    1.8745        nan        nan        nan         nan         nan\n",
       "nominal__TrafficType_12                   -0.6232        nan        nan        nan         nan         nan\n",
       "nominal__TrafficType_13                    1.0656        nan        nan        nan         nan         nan\n",
       "nominal__TrafficType_14                    0.7838        nan        nan        nan         nan         nan\n",
       "nominal__TrafficType_15                   -7.6849        nan        nan        nan         nan         nan\n",
       "nominal__TrafficType_16                   -2.5353        nan        nan        nan         nan         nan\n",
       "nominal__TrafficType_17                   -0.4491        nan        nan        nan         nan         nan\n",
       "nominal__TrafficType_18                   -4.8611        nan        nan        nan         nan         nan\n",
       "nominal__TrafficType_19                    0.7220        nan        nan        nan         nan         nan\n",
       "nominal__TrafficType_20                    1.8645        nan        nan        nan         nan         nan\n",
       "nominal__VisitorType_New_Visitor          -0.1919   2.38e+06  -8.07e-08      1.000   -4.66e+06    4.66e+06\n",
       "nominal__VisitorType_Other                -0.3662   2.38e+06  -1.54e-07      1.000   -4.66e+06    4.66e+06\n",
       "nominal__VisitorType_Returning_Visitor    -0.3817   2.38e+06  -1.61e-07      1.000   -4.66e+06    4.66e+06\n",
       "nominal__Weekend_0                        -1.3244   8.03e+05  -1.65e-06      1.000   -1.57e+06    1.57e+06\n",
       "nominal__Weekend_1                        -1.2621   8.03e+05  -1.57e-06      1.000   -1.57e+06    1.57e+06\n",
       "page_duration__Administrative_Duration     0.0139      0.038      0.371      0.711      -0.060       0.088\n",
       "page_duration__Informational_Duration      0.0235      0.035      0.661      0.509      -0.046       0.093\n",
       "page_duration__ProductRelated_Duration     0.0779      0.057      1.362      0.173      -0.034       0.190\n",
       "ga_rates__BounceRates                     -0.0629      0.174     -0.362      0.717      -0.403       0.277\n",
       "ga_rates__ExitRates                       -0.7581      0.133     -5.715      0.000      -1.018      -0.498\n",
       "remainder__Administrative                 -0.0020      0.013     -0.155      0.877      -0.027       0.023\n",
       "remainder__Informational                   0.0091      0.031      0.294      0.768      -0.052       0.070\n",
       "remainder__ProductRelated                  0.0024      0.001      1.862      0.063      -0.000       0.005\n",
       "remainder__PageValues                      0.0811      0.003     30.031      0.000       0.076       0.086\n",
       "remainder__SpecialDay                     -0.1384      0.264     -0.524      0.601      -0.656       0.380\n",
       "==========================================================================================================\n",
       "\"\"\""
      ]
     },
     "execution_count": 9,
     "metadata": {},
     "output_type": "execute_result"
    }
   ],
   "source": [
    "formula = \"remainder__Revenue ~ \" + \" + \".join(X_train)\n",
    "\n",
    "LR_model = smf.logit(formula=formula, data=df_train).fit_regularized(method='l1')\n",
    "LR_model.summary()"
   ]
  },
  {
   "cell_type": "markdown",
   "id": "44e4890c",
   "metadata": {},
   "source": [
    "As the classes are not balanced, the intercept/threshold needs to be scaled accordingly."
   ]
  },
  {
   "cell_type": "code",
   "execution_count": 10,
   "id": "99aef2cc",
   "metadata": {},
   "outputs": [
    {
     "name": "stdout",
     "output_type": "stream",
     "text": [
      "                   pre       rec       spe        f1       geo       iba       sup\n",
      "\n",
      "        0.0       0.94      0.87      0.70      0.91      0.78      0.62      1042\n",
      "        1.0       0.51      0.70      0.87      0.59      0.78      0.60       191\n",
      "\n",
      "avg / total       0.87      0.85      0.73      0.86      0.78      0.62      1233\n",
      "\n"
     ]
    }
   ],
   "source": [
    "weights = y_val.value_counts()\n",
    "\n",
    "threshold = weights[1]/weights[0]\n",
    "\n",
    "LR_val_preds_raw = LR_model.predict(exog=X_val)\n",
    "LR_val_preds = (LR_val_preds_raw > threshold).astype('int')\n",
    "\n",
    "print(classification_report_imbalanced(y_val, LR_val_preds))"
   ]
  },
  {
   "cell_type": "markdown",
   "id": "4563154a",
   "metadata": {},
   "source": [
    "### Approach 2 - Boosted Decision Trees"
   ]
  },
  {
   "cell_type": "markdown",
   "id": "9477473d",
   "metadata": {},
   "source": [
    "Implemented using XGBoost"
   ]
  },
  {
   "cell_type": "code",
   "execution_count": 11,
   "id": "8c2f4101",
   "metadata": {},
   "outputs": [
    {
     "name": "stderr",
     "output_type": "stream",
     "text": [
      "/home/kavish/anaconda3/lib/python3.8/site-packages/xgboost/sklearn.py:888: UserWarning: The use of label encoder in XGBClassifier is deprecated and will be removed in a future release. To remove this warning, do the following: 1) Pass option use_label_encoder=False when constructing XGBClassifier object; and 2) Encode your labels (y) as integers starting with 0, i.e. 0, 1, 2, ..., [num_class - 1].\n",
      "  warnings.warn(label_encoder_deprecation_msg, UserWarning)\n",
      "/home/kavish/anaconda3/lib/python3.8/site-packages/sklearn/preprocessing/_label.py:98: DataConversionWarning: A column-vector y was passed when a 1d array was expected. Please change the shape of y to (n_samples, ), for example using ravel().\n",
      "  y = column_or_1d(y, warn=True)\n",
      "/home/kavish/anaconda3/lib/python3.8/site-packages/sklearn/preprocessing/_label.py:133: DataConversionWarning: A column-vector y was passed when a 1d array was expected. Please change the shape of y to (n_samples, ), for example using ravel().\n",
      "  y = column_or_1d(y, warn=True)\n"
     ]
    },
    {
     "name": "stdout",
     "output_type": "stream",
     "text": [
      "[19:54:45] WARNING: ../src/learner.cc:1061: Starting in XGBoost 1.3.0, the default evaluation metric used with the objective 'binary:logistic' was changed from 'error' to 'logloss'. Explicitly set eval_metric if you'd like to restore the old behavior.\n"
     ]
    }
   ],
   "source": [
    "sample_weights = class_weight.compute_sample_weight(class_weight='balanced', y=y_train)  # To help tackle imbalanced classes\n",
    "\n",
    "xgb_model = xgb.XGBClassifier().fit(X_train, y_train, sample_weight=sample_weights)"
   ]
  },
  {
   "cell_type": "code",
   "execution_count": 12,
   "id": "139bca75",
   "metadata": {},
   "outputs": [
    {
     "name": "stdout",
     "output_type": "stream",
     "text": [
      "                   pre       rec       spe        f1       geo       iba       sup\n",
      "\n",
      "        0.0       0.93      0.95      0.59      0.94      0.75      0.58      1042\n",
      "        1.0       0.69      0.59      0.95      0.64      0.75      0.54       191\n",
      "\n",
      "avg / total       0.89      0.90      0.65      0.89      0.75      0.58      1233\n",
      "\n"
     ]
    }
   ],
   "source": [
    "xgb_val_preds = xgb_model.predict(X_val)\n",
    "\n",
    "print(classification_report_imbalanced(y_val, xgb_val_preds))"
   ]
  },
  {
   "cell_type": "markdown",
   "id": "cd16fd34",
   "metadata": {},
   "source": [
    "## Results"
   ]
  },
  {
   "cell_type": "markdown",
   "id": "c93a3dbc",
   "metadata": {},
   "source": [
    "The results from both approaches are close with the logistic regression having an F1 score of 0.59 (for Revenue=True) to the 0.63 for XGBoost\n",
    "\n",
    "Additionally, the precision for TP is significantly higher for XGBoost (0.58 vs 0.51) while the recall is the same"
   ]
  },
  {
   "cell_type": "markdown",
   "id": "9999a1a5",
   "metadata": {},
   "source": [
    "Based on these results, we can focus on using boosted decision trees"
   ]
  },
  {
   "cell_type": "markdown",
   "id": "8d3b1d52",
   "metadata": {},
   "source": [
    "### Approach 3 - More Boosted Trees"
   ]
  },
  {
   "cell_type": "markdown",
   "id": "95973463",
   "metadata": {},
   "source": [
    "Comparing XGBoost with LightGBM"
   ]
  },
  {
   "cell_type": "code",
   "execution_count": 13,
   "id": "c1517330",
   "metadata": {},
   "outputs": [
    {
     "name": "stderr",
     "output_type": "stream",
     "text": [
      "/home/kavish/anaconda3/lib/python3.8/site-packages/sklearn/preprocessing/_label.py:98: DataConversionWarning: A column-vector y was passed when a 1d array was expected. Please change the shape of y to (n_samples, ), for example using ravel().\n",
      "  y = column_or_1d(y, warn=True)\n",
      "/home/kavish/anaconda3/lib/python3.8/site-packages/sklearn/preprocessing/_label.py:133: DataConversionWarning: A column-vector y was passed when a 1d array was expected. Please change the shape of y to (n_samples, ), for example using ravel().\n",
      "  y = column_or_1d(y, warn=True)\n"
     ]
    }
   ],
   "source": [
    "lgb_model = lgb.LGBMClassifier().fit(X_train, y_train, sample_weight=sample_weights)"
   ]
  },
  {
   "cell_type": "code",
   "execution_count": 14,
   "id": "052d17f0",
   "metadata": {},
   "outputs": [
    {
     "name": "stdout",
     "output_type": "stream",
     "text": [
      "                   pre       rec       spe        f1       geo       iba       sup\n",
      "\n",
      "        0.0       0.93      0.95      0.59      0.94      0.75      0.58      1042\n",
      "        1.0       0.69      0.59      0.95      0.64      0.75      0.54       191\n",
      "\n",
      "avg / total       0.89      0.90      0.65      0.89      0.75      0.58      1233\n",
      "\n"
     ]
    }
   ],
   "source": [
    "lgb_val_preds = lgb_model.predict(X_val)\n",
    "\n",
    "print(classification_report_imbalanced(y_val, xgb_val_preds))"
   ]
  },
  {
   "cell_type": "markdown",
   "id": "91593187",
   "metadata": {},
   "source": [
    "## Results"
   ]
  },
  {
   "cell_type": "markdown",
   "id": "4093a3e5",
   "metadata": {},
   "source": [
    "Since they both have matching results, I would prefer LightGBM due to its speed advantage, allowing for better scalability"
   ]
  },
  {
   "cell_type": "markdown",
   "id": "0649ce5c",
   "metadata": {},
   "source": [
    "## Hyperparameter tuning"
   ]
  },
  {
   "cell_type": "markdown",
   "id": "e00f8753",
   "metadata": {},
   "source": [
    "Via FLAML"
   ]
  },
  {
   "cell_type": "code",
   "execution_count": 15,
   "id": "3e04b268",
   "metadata": {},
   "outputs": [
    {
     "name": "stderr",
     "output_type": "stream",
     "text": [
      "[flaml.automl: 04-03 19:54:46] {2105} INFO - task = classification\n",
      "[flaml.automl: 04-03 19:54:46] {2107} INFO - Data split method: stratified\n",
      "[flaml.automl: 04-03 19:54:46] {2111} INFO - Evaluation method: holdout\n",
      "[flaml.automl: 04-03 19:54:46] {2188} INFO - Minimizing error metric: 1-f1\n",
      "[flaml.automl: 04-03 19:54:46] {2281} INFO - List of ML learners in AutoML Run: ['lgbm']\n",
      "[flaml.automl: 04-03 19:54:46] {2567} INFO - iteration 0, current learner lgbm\n",
      "[flaml.automl: 04-03 19:54:46] {2697} INFO - Estimated sufficient time budget=467s. Estimated necessary time budget=0s.\n",
      "[flaml.automl: 04-03 19:54:46] {2744} INFO -  at 0.2s,\testimator lgbm's best error=0.1455,\tbest estimator lgbm's best error=0.1455\n",
      "[flaml.automl: 04-03 19:54:46] {2567} INFO - iteration 1, current learner lgbm\n",
      "[flaml.automl: 04-03 19:54:46] {2744} INFO -  at 0.3s,\testimator lgbm's best error=0.1455,\tbest estimator lgbm's best error=0.1455\n",
      "[flaml.automl: 04-03 19:54:46] {2567} INFO - iteration 2, current learner lgbm\n",
      "[flaml.automl: 04-03 19:54:46] {2744} INFO -  at 0.3s,\testimator lgbm's best error=0.1327,\tbest estimator lgbm's best error=0.1327\n",
      "[flaml.automl: 04-03 19:54:46] {2567} INFO - iteration 3, current learner lgbm\n",
      "[flaml.automl: 04-03 19:54:46] {2744} INFO -  at 0.4s,\testimator lgbm's best error=0.1296,\tbest estimator lgbm's best error=0.1296\n",
      "[flaml.automl: 04-03 19:54:46] {2567} INFO - iteration 4, current learner lgbm\n",
      "[flaml.automl: 04-03 19:54:46] {2744} INFO -  at 0.4s,\testimator lgbm's best error=0.1296,\tbest estimator lgbm's best error=0.1296\n",
      "[flaml.automl: 04-03 19:54:46] {2567} INFO - iteration 5, current learner lgbm\n",
      "[flaml.automl: 04-03 19:54:46] {2744} INFO -  at 0.4s,\testimator lgbm's best error=0.1157,\tbest estimator lgbm's best error=0.1157\n",
      "[flaml.automl: 04-03 19:54:46] {2567} INFO - iteration 6, current learner lgbm\n",
      "[flaml.automl: 04-03 19:54:46] {2744} INFO -  at 0.5s,\testimator lgbm's best error=0.1157,\tbest estimator lgbm's best error=0.1157\n",
      "[flaml.automl: 04-03 19:54:46] {2567} INFO - iteration 7, current learner lgbm\n",
      "[flaml.automl: 04-03 19:54:46] {2744} INFO -  at 0.5s,\testimator lgbm's best error=0.0599,\tbest estimator lgbm's best error=0.0599\n",
      "[flaml.automl: 04-03 19:54:46] {2567} INFO - iteration 8, current learner lgbm\n",
      "[flaml.automl: 04-03 19:54:46] {2744} INFO -  at 0.6s,\testimator lgbm's best error=0.0599,\tbest estimator lgbm's best error=0.0599\n",
      "[flaml.automl: 04-03 19:54:46] {2567} INFO - iteration 9, current learner lgbm\n",
      "[flaml.automl: 04-03 19:54:46] {2744} INFO -  at 0.6s,\testimator lgbm's best error=0.0599,\tbest estimator lgbm's best error=0.0599\n",
      "[flaml.automl: 04-03 19:54:46] {2567} INFO - iteration 10, current learner lgbm\n",
      "[flaml.automl: 04-03 19:54:46] {2744} INFO -  at 0.7s,\testimator lgbm's best error=0.0599,\tbest estimator lgbm's best error=0.0599\n",
      "[flaml.automl: 04-03 19:54:46] {2567} INFO - iteration 11, current learner lgbm\n",
      "[flaml.automl: 04-03 19:54:46] {2744} INFO -  at 0.7s,\testimator lgbm's best error=0.0578,\tbest estimator lgbm's best error=0.0578\n",
      "[flaml.automl: 04-03 19:54:46] {2567} INFO - iteration 12, current learner lgbm\n",
      "[flaml.automl: 04-03 19:54:46] {2744} INFO -  at 0.8s,\testimator lgbm's best error=0.0578,\tbest estimator lgbm's best error=0.0578\n",
      "[flaml.automl: 04-03 19:54:46] {2567} INFO - iteration 13, current learner lgbm\n",
      "[flaml.automl: 04-03 19:54:47] {2744} INFO -  at 1.0s,\testimator lgbm's best error=0.0578,\tbest estimator lgbm's best error=0.0578\n",
      "[flaml.automl: 04-03 19:54:47] {2567} INFO - iteration 14, current learner lgbm\n",
      "[flaml.automl: 04-03 19:54:47] {2744} INFO -  at 1.4s,\testimator lgbm's best error=0.0578,\tbest estimator lgbm's best error=0.0578\n",
      "[flaml.automl: 04-03 19:54:47] {2567} INFO - iteration 15, current learner lgbm\n",
      "[flaml.automl: 04-03 19:54:47] {2744} INFO -  at 1.5s,\testimator lgbm's best error=0.0578,\tbest estimator lgbm's best error=0.0578\n",
      "[flaml.automl: 04-03 19:54:47] {2567} INFO - iteration 16, current learner lgbm\n",
      "[flaml.automl: 04-03 19:54:47] {2744} INFO -  at 1.5s,\testimator lgbm's best error=0.0578,\tbest estimator lgbm's best error=0.0578\n",
      "[flaml.automl: 04-03 19:54:47] {2567} INFO - iteration 17, current learner lgbm\n",
      "[flaml.automl: 04-03 19:54:48] {2744} INFO -  at 2.1s,\testimator lgbm's best error=0.0578,\tbest estimator lgbm's best error=0.0578\n",
      "[flaml.automl: 04-03 19:54:48] {2567} INFO - iteration 18, current learner lgbm\n",
      "[flaml.automl: 04-03 19:54:48] {2744} INFO -  at 2.6s,\testimator lgbm's best error=0.0578,\tbest estimator lgbm's best error=0.0578\n",
      "[flaml.automl: 04-03 19:54:48] {2567} INFO - iteration 19, current learner lgbm\n",
      "[flaml.automl: 04-03 19:54:48] {2744} INFO -  at 2.7s,\testimator lgbm's best error=0.0578,\tbest estimator lgbm's best error=0.0578\n",
      "[flaml.automl: 04-03 19:54:48] {2567} INFO - iteration 20, current learner lgbm\n",
      "[flaml.automl: 04-03 19:54:49] {2744} INFO -  at 2.9s,\testimator lgbm's best error=0.0578,\tbest estimator lgbm's best error=0.0578\n",
      "[flaml.automl: 04-03 19:54:49] {2567} INFO - iteration 21, current learner lgbm\n",
      "[flaml.automl: 04-03 19:54:49] {2744} INFO -  at 3.0s,\testimator lgbm's best error=0.0578,\tbest estimator lgbm's best error=0.0578\n",
      "[flaml.automl: 04-03 19:54:49] {2567} INFO - iteration 22, current learner lgbm\n",
      "[flaml.automl: 04-03 19:54:49] {2744} INFO -  at 3.1s,\testimator lgbm's best error=0.0578,\tbest estimator lgbm's best error=0.0578\n",
      "[flaml.automl: 04-03 19:54:49] {2567} INFO - iteration 23, current learner lgbm\n",
      "[flaml.automl: 04-03 19:54:49] {2744} INFO -  at 3.7s,\testimator lgbm's best error=0.0557,\tbest estimator lgbm's best error=0.0557\n",
      "[flaml.automl: 04-03 19:54:49] {2567} INFO - iteration 24, current learner lgbm\n",
      "[flaml.automl: 04-03 19:54:50] {2744} INFO -  at 4.4s,\testimator lgbm's best error=0.0557,\tbest estimator lgbm's best error=0.0557\n",
      "[flaml.automl: 04-03 19:54:50] {2567} INFO - iteration 25, current learner lgbm\n",
      "[flaml.automl: 04-03 19:54:51] {2744} INFO -  at 5.0s,\testimator lgbm's best error=0.0557,\tbest estimator lgbm's best error=0.0557\n",
      "[flaml.automl: 04-03 19:54:51] {2567} INFO - iteration 26, current learner lgbm\n",
      "[flaml.automl: 04-03 19:54:51] {2744} INFO -  at 5.3s,\testimator lgbm's best error=0.0557,\tbest estimator lgbm's best error=0.0557\n",
      "[flaml.automl: 04-03 19:54:51] {2567} INFO - iteration 27, current learner lgbm\n",
      "[flaml.automl: 04-03 19:54:52] {2744} INFO -  at 6.1s,\testimator lgbm's best error=0.0557,\tbest estimator lgbm's best error=0.0557\n",
      "[flaml.automl: 04-03 19:54:52] {2567} INFO - iteration 28, current learner lgbm\n",
      "[flaml.automl: 04-03 19:54:52] {2744} INFO -  at 6.6s,\testimator lgbm's best error=0.0552,\tbest estimator lgbm's best error=0.0552\n",
      "[flaml.automl: 04-03 19:54:52] {2567} INFO - iteration 29, current learner lgbm\n",
      "[flaml.automl: 04-03 19:54:53] {2744} INFO -  at 7.2s,\testimator lgbm's best error=0.0552,\tbest estimator lgbm's best error=0.0552\n",
      "[flaml.automl: 04-03 19:54:53] {2567} INFO - iteration 30, current learner lgbm\n",
      "[flaml.automl: 04-03 19:54:53] {2744} INFO -  at 7.5s,\testimator lgbm's best error=0.0535,\tbest estimator lgbm's best error=0.0535\n",
      "[flaml.automl: 04-03 19:54:53] {2567} INFO - iteration 31, current learner lgbm\n",
      "[flaml.automl: 04-03 19:54:54] {2744} INFO -  at 8.0s,\testimator lgbm's best error=0.0535,\tbest estimator lgbm's best error=0.0535\n",
      "[flaml.automl: 04-03 19:54:54] {2567} INFO - iteration 32, current learner lgbm\n",
      "[flaml.automl: 04-03 19:54:54] {2744} INFO -  at 8.7s,\testimator lgbm's best error=0.0535,\tbest estimator lgbm's best error=0.0535\n",
      "[flaml.automl: 04-03 19:54:54] {2567} INFO - iteration 33, current learner lgbm\n",
      "[flaml.automl: 04-03 19:54:54] {2744} INFO -  at 8.8s,\testimator lgbm's best error=0.0535,\tbest estimator lgbm's best error=0.0535\n",
      "[flaml.automl: 04-03 19:54:54] {2567} INFO - iteration 34, current learner lgbm\n",
      "[flaml.automl: 04-03 19:54:55] {2744} INFO -  at 9.1s,\testimator lgbm's best error=0.0535,\tbest estimator lgbm's best error=0.0535\n",
      "[flaml.automl: 04-03 19:54:55] {2567} INFO - iteration 35, current learner lgbm\n",
      "[flaml.automl: 04-03 19:54:55] {2744} INFO -  at 9.5s,\testimator lgbm's best error=0.0535,\tbest estimator lgbm's best error=0.0535\n",
      "[flaml.automl: 04-03 19:54:55] {2567} INFO - iteration 36, current learner lgbm\n",
      "[flaml.automl: 04-03 19:54:55] {2744} INFO -  at 9.9s,\testimator lgbm's best error=0.0535,\tbest estimator lgbm's best error=0.0535\n"
     ]
    },
    {
     "name": "stderr",
     "output_type": "stream",
     "text": [
      "[flaml.automl: 04-03 19:54:55] {2567} INFO - iteration 37, current learner lgbm\n",
      "[flaml.automl: 04-03 19:54:56] {2744} INFO -  at 10.8s,\testimator lgbm's best error=0.0535,\tbest estimator lgbm's best error=0.0535\n",
      "[flaml.automl: 04-03 19:54:56] {2567} INFO - iteration 38, current learner lgbm\n",
      "[flaml.automl: 04-03 19:54:58] {2744} INFO -  at 11.9s,\testimator lgbm's best error=0.0535,\tbest estimator lgbm's best error=0.0535\n",
      "[flaml.automl: 04-03 19:54:58] {2567} INFO - iteration 39, current learner lgbm\n",
      "[flaml.automl: 04-03 19:54:58] {2744} INFO -  at 12.3s,\testimator lgbm's best error=0.0535,\tbest estimator lgbm's best error=0.0535\n",
      "[flaml.automl: 04-03 19:54:58] {2567} INFO - iteration 40, current learner lgbm\n",
      "[flaml.automl: 04-03 19:54:58] {2744} INFO -  at 12.8s,\testimator lgbm's best error=0.0535,\tbest estimator lgbm's best error=0.0535\n",
      "[flaml.automl: 04-03 19:54:58] {2567} INFO - iteration 41, current learner lgbm\n",
      "[flaml.automl: 04-03 19:54:59] {2744} INFO -  at 13.3s,\testimator lgbm's best error=0.0535,\tbest estimator lgbm's best error=0.0535\n",
      "[flaml.automl: 04-03 19:54:59] {2567} INFO - iteration 42, current learner lgbm\n",
      "[flaml.automl: 04-03 19:55:00] {2744} INFO -  at 14.3s,\testimator lgbm's best error=0.0535,\tbest estimator lgbm's best error=0.0535\n",
      "[flaml.automl: 04-03 19:55:00] {2567} INFO - iteration 43, current learner lgbm\n",
      "[flaml.automl: 04-03 19:55:00] {2744} INFO -  at 14.4s,\testimator lgbm's best error=0.0535,\tbest estimator lgbm's best error=0.0535\n",
      "[flaml.automl: 04-03 19:55:00] {2567} INFO - iteration 44, current learner lgbm\n",
      "[flaml.automl: 04-03 19:55:00] {2744} INFO -  at 14.7s,\testimator lgbm's best error=0.0535,\tbest estimator lgbm's best error=0.0535\n",
      "[flaml.automl: 04-03 19:55:00] {2567} INFO - iteration 45, current learner lgbm\n",
      "[flaml.automl: 04-03 19:55:01] {2744} INFO -  at 15.2s,\testimator lgbm's best error=0.0535,\tbest estimator lgbm's best error=0.0535\n",
      "[flaml.automl: 04-03 19:55:01] {2567} INFO - iteration 46, current learner lgbm\n",
      "[flaml.automl: 04-03 19:55:02] {2744} INFO -  at 15.9s,\testimator lgbm's best error=0.0535,\tbest estimator lgbm's best error=0.0535\n",
      "[flaml.automl: 04-03 19:55:02] {2567} INFO - iteration 47, current learner lgbm\n",
      "[flaml.automl: 04-03 19:55:02] {2744} INFO -  at 16.1s,\testimator lgbm's best error=0.0535,\tbest estimator lgbm's best error=0.0535\n",
      "[flaml.automl: 04-03 19:55:02] {2567} INFO - iteration 48, current learner lgbm\n",
      "[flaml.automl: 04-03 19:55:02] {2744} INFO -  at 16.9s,\testimator lgbm's best error=0.0529,\tbest estimator lgbm's best error=0.0529\n",
      "[flaml.automl: 04-03 19:55:02] {2567} INFO - iteration 49, current learner lgbm\n",
      "[flaml.automl: 04-03 19:55:03] {2744} INFO -  at 17.2s,\testimator lgbm's best error=0.0529,\tbest estimator lgbm's best error=0.0529\n",
      "[flaml.automl: 04-03 19:55:03] {2567} INFO - iteration 50, current learner lgbm\n",
      "[flaml.automl: 04-03 19:55:06] {2744} INFO -  at 20.3s,\testimator lgbm's best error=0.0529,\tbest estimator lgbm's best error=0.0529\n",
      "[flaml.automl: 04-03 19:55:06] {2567} INFO - iteration 51, current learner lgbm\n",
      "[flaml.automl: 04-03 19:55:06] {2744} INFO -  at 20.5s,\testimator lgbm's best error=0.0529,\tbest estimator lgbm's best error=0.0529\n",
      "[flaml.automl: 04-03 19:55:06] {2567} INFO - iteration 52, current learner lgbm\n",
      "[flaml.automl: 04-03 19:55:07] {2744} INFO -  at 21.5s,\testimator lgbm's best error=0.0529,\tbest estimator lgbm's best error=0.0529\n",
      "[flaml.automl: 04-03 19:55:07] {2567} INFO - iteration 53, current learner lgbm\n",
      "[flaml.automl: 04-03 19:55:08] {2744} INFO -  at 22.1s,\testimator lgbm's best error=0.0529,\tbest estimator lgbm's best error=0.0529\n",
      "[flaml.automl: 04-03 19:55:08] {2567} INFO - iteration 54, current learner lgbm\n",
      "[flaml.automl: 04-03 19:55:08] {2744} INFO -  at 22.4s,\testimator lgbm's best error=0.0529,\tbest estimator lgbm's best error=0.0529\n",
      "[flaml.automl: 04-03 19:55:08] {2567} INFO - iteration 55, current learner lgbm\n",
      "[flaml.automl: 04-03 19:55:11] {2744} INFO -  at 25.1s,\testimator lgbm's best error=0.0529,\tbest estimator lgbm's best error=0.0529\n",
      "[flaml.automl: 04-03 19:55:11] {2567} INFO - iteration 56, current learner lgbm\n",
      "[flaml.automl: 04-03 19:55:11] {2744} INFO -  at 25.4s,\testimator lgbm's best error=0.0529,\tbest estimator lgbm's best error=0.0529\n",
      "[flaml.automl: 04-03 19:55:11] {2567} INFO - iteration 57, current learner lgbm\n",
      "[flaml.automl: 04-03 19:55:14] {2744} INFO -  at 27.9s,\testimator lgbm's best error=0.0529,\tbest estimator lgbm's best error=0.0529\n",
      "[flaml.automl: 04-03 19:55:14] {2567} INFO - iteration 58, current learner lgbm\n",
      "[flaml.automl: 04-03 19:55:15] {2744} INFO -  at 29.2s,\testimator lgbm's best error=0.0529,\tbest estimator lgbm's best error=0.0529\n",
      "[flaml.automl: 04-03 19:55:15] {2567} INFO - iteration 59, current learner lgbm\n",
      "[flaml.automl: 04-03 19:55:15] {2744} INFO -  at 29.8s,\testimator lgbm's best error=0.0529,\tbest estimator lgbm's best error=0.0529\n",
      "[flaml.automl: 04-03 19:55:15] {2567} INFO - iteration 60, current learner lgbm\n",
      "[flaml.automl: 04-03 19:55:16] {2744} INFO -  at 30.6s,\testimator lgbm's best error=0.0529,\tbest estimator lgbm's best error=0.0529\n",
      "[flaml.automl: 04-03 19:55:16] {2567} INFO - iteration 61, current learner lgbm\n",
      "[flaml.automl: 04-03 19:55:17] {2744} INFO -  at 31.3s,\testimator lgbm's best error=0.0529,\tbest estimator lgbm's best error=0.0529\n",
      "[flaml.automl: 04-03 19:55:17] {2567} INFO - iteration 62, current learner lgbm\n",
      "[flaml.automl: 04-03 19:55:18] {2744} INFO -  at 32.0s,\testimator lgbm's best error=0.0529,\tbest estimator lgbm's best error=0.0529\n",
      "[flaml.automl: 04-03 19:55:18] {2567} INFO - iteration 63, current learner lgbm\n",
      "[flaml.automl: 04-03 19:55:19] {2744} INFO -  at 33.1s,\testimator lgbm's best error=0.0529,\tbest estimator lgbm's best error=0.0529\n",
      "[flaml.automl: 04-03 19:55:19] {2567} INFO - iteration 64, current learner lgbm\n",
      "[flaml.automl: 04-03 19:55:19] {2744} INFO -  at 33.6s,\testimator lgbm's best error=0.0529,\tbest estimator lgbm's best error=0.0529\n",
      "[flaml.automl: 04-03 19:55:19] {2567} INFO - iteration 65, current learner lgbm\n",
      "[flaml.automl: 04-03 19:55:21] {2744} INFO -  at 35.3s,\testimator lgbm's best error=0.0529,\tbest estimator lgbm's best error=0.0529\n",
      "[flaml.automl: 04-03 19:55:21] {2567} INFO - iteration 66, current learner lgbm\n",
      "[flaml.automl: 04-03 19:55:22] {2744} INFO -  at 36.7s,\testimator lgbm's best error=0.0529,\tbest estimator lgbm's best error=0.0529\n",
      "[flaml.automl: 04-03 19:55:22] {2567} INFO - iteration 67, current learner lgbm\n",
      "[flaml.automl: 04-03 19:55:23] {2744} INFO -  at 37.1s,\testimator lgbm's best error=0.0529,\tbest estimator lgbm's best error=0.0529\n",
      "[flaml.automl: 04-03 19:55:23] {2567} INFO - iteration 68, current learner lgbm\n",
      "[flaml.automl: 04-03 19:55:24] {2744} INFO -  at 38.4s,\testimator lgbm's best error=0.0529,\tbest estimator lgbm's best error=0.0529\n",
      "[flaml.automl: 04-03 19:55:24] {2567} INFO - iteration 69, current learner lgbm\n",
      "[flaml.automl: 04-03 19:55:25] {2744} INFO -  at 39.0s,\testimator lgbm's best error=0.0529,\tbest estimator lgbm's best error=0.0529\n",
      "[flaml.automl: 04-03 19:55:25] {2567} INFO - iteration 70, current learner lgbm\n",
      "[flaml.automl: 04-03 19:55:26] {2744} INFO -  at 40.2s,\testimator lgbm's best error=0.0529,\tbest estimator lgbm's best error=0.0529\n",
      "[flaml.automl: 04-03 19:55:26] {2567} INFO - iteration 71, current learner lgbm\n",
      "[flaml.automl: 04-03 19:55:26] {2744} INFO -  at 40.6s,\testimator lgbm's best error=0.0529,\tbest estimator lgbm's best error=0.0529\n",
      "[flaml.automl: 04-03 19:55:26] {2567} INFO - iteration 72, current learner lgbm\n",
      "[flaml.automl: 04-03 19:55:27] {2744} INFO -  at 41.4s,\testimator lgbm's best error=0.0529,\tbest estimator lgbm's best error=0.0529\n",
      "[flaml.automl: 04-03 19:55:27] {2567} INFO - iteration 73, current learner lgbm\n",
      "[flaml.automl: 04-03 19:55:28] {2744} INFO -  at 42.3s,\testimator lgbm's best error=0.0529,\tbest estimator lgbm's best error=0.0529\n",
      "[flaml.automl: 04-03 19:55:28] {2567} INFO - iteration 74, current learner lgbm\n",
      "[flaml.automl: 04-03 19:55:28] {2744} INFO -  at 42.7s,\testimator lgbm's best error=0.0529,\tbest estimator lgbm's best error=0.0529\n",
      "[flaml.automl: 04-03 19:55:28] {2567} INFO - iteration 75, current learner lgbm\n",
      "[flaml.automl: 04-03 19:55:30] {2744} INFO -  at 44.7s,\testimator lgbm's best error=0.0529,\tbest estimator lgbm's best error=0.0529\n"
     ]
    },
    {
     "name": "stderr",
     "output_type": "stream",
     "text": [
      "[flaml.automl: 04-03 19:55:30] {2567} INFO - iteration 76, current learner lgbm\n",
      "[flaml.automl: 04-03 19:55:31] {2744} INFO -  at 45.5s,\testimator lgbm's best error=0.0529,\tbest estimator lgbm's best error=0.0529\n",
      "[flaml.automl: 04-03 19:55:31] {2567} INFO - iteration 77, current learner lgbm\n",
      "[flaml.automl: 04-03 19:55:32] {2744} INFO -  at 46.4s,\testimator lgbm's best error=0.0529,\tbest estimator lgbm's best error=0.0529\n",
      "[flaml.automl: 04-03 19:55:32] {2567} INFO - iteration 78, current learner lgbm\n",
      "[flaml.automl: 04-03 19:55:32] {2744} INFO -  at 46.7s,\testimator lgbm's best error=0.0529,\tbest estimator lgbm's best error=0.0529\n",
      "[flaml.automl: 04-03 19:55:32] {2567} INFO - iteration 79, current learner lgbm\n",
      "[flaml.automl: 04-03 19:55:34] {2744} INFO -  at 48.3s,\testimator lgbm's best error=0.0529,\tbest estimator lgbm's best error=0.0529\n",
      "[flaml.automl: 04-03 19:55:34] {2567} INFO - iteration 80, current learner lgbm\n",
      "[flaml.automl: 04-03 19:55:35] {2744} INFO -  at 49.0s,\testimator lgbm's best error=0.0529,\tbest estimator lgbm's best error=0.0529\n",
      "[flaml.automl: 04-03 19:55:35] {2567} INFO - iteration 81, current learner lgbm\n",
      "[flaml.automl: 04-03 19:55:35] {2744} INFO -  at 49.8s,\testimator lgbm's best error=0.0529,\tbest estimator lgbm's best error=0.0529\n",
      "[flaml.automl: 04-03 19:55:35] {2567} INFO - iteration 82, current learner lgbm\n",
      "[flaml.automl: 04-03 19:55:36] {2744} INFO -  at 50.6s,\testimator lgbm's best error=0.0529,\tbest estimator lgbm's best error=0.0529\n",
      "[flaml.automl: 04-03 19:55:36] {2567} INFO - iteration 83, current learner lgbm\n",
      "[flaml.automl: 04-03 19:55:37] {2744} INFO -  at 51.4s,\testimator lgbm's best error=0.0529,\tbest estimator lgbm's best error=0.0529\n",
      "[flaml.automl: 04-03 19:55:37] {2567} INFO - iteration 84, current learner lgbm\n",
      "[flaml.automl: 04-03 19:55:38] {2744} INFO -  at 52.0s,\testimator lgbm's best error=0.0529,\tbest estimator lgbm's best error=0.0529\n",
      "[flaml.automl: 04-03 19:55:38] {2567} INFO - iteration 85, current learner lgbm\n",
      "[flaml.automl: 04-03 19:55:39] {2744} INFO -  at 52.9s,\testimator lgbm's best error=0.0529,\tbest estimator lgbm's best error=0.0529\n",
      "[flaml.automl: 04-03 19:55:39] {2567} INFO - iteration 86, current learner lgbm\n",
      "[flaml.automl: 04-03 19:55:40] {2744} INFO -  at 54.5s,\testimator lgbm's best error=0.0529,\tbest estimator lgbm's best error=0.0529\n",
      "[flaml.automl: 04-03 19:55:40] {2567} INFO - iteration 87, current learner lgbm\n",
      "[flaml.automl: 04-03 19:55:41] {2744} INFO -  at 55.4s,\testimator lgbm's best error=0.0528,\tbest estimator lgbm's best error=0.0528\n",
      "[flaml.automl: 04-03 19:55:41] {2567} INFO - iteration 88, current learner lgbm\n",
      "[flaml.automl: 04-03 19:55:41] {2744} INFO -  at 55.8s,\testimator lgbm's best error=0.0528,\tbest estimator lgbm's best error=0.0528\n",
      "[flaml.automl: 04-03 19:55:41] {2567} INFO - iteration 89, current learner lgbm\n",
      "[flaml.automl: 04-03 19:55:43] {2744} INFO -  at 56.9s,\testimator lgbm's best error=0.0528,\tbest estimator lgbm's best error=0.0528\n",
      "[flaml.automl: 04-03 19:55:43] {2567} INFO - iteration 90, current learner lgbm\n",
      "[flaml.automl: 04-03 19:55:43] {2744} INFO -  at 57.4s,\testimator lgbm's best error=0.0528,\tbest estimator lgbm's best error=0.0528\n",
      "[flaml.automl: 04-03 19:55:43] {2567} INFO - iteration 91, current learner lgbm\n",
      "[flaml.automl: 04-03 19:55:44] {2744} INFO -  at 58.4s,\testimator lgbm's best error=0.0528,\tbest estimator lgbm's best error=0.0528\n",
      "[flaml.automl: 04-03 19:55:44] {2567} INFO - iteration 92, current learner lgbm\n",
      "[flaml.automl: 04-03 19:55:45] {2744} INFO -  at 59.0s,\testimator lgbm's best error=0.0528,\tbest estimator lgbm's best error=0.0528\n",
      "[flaml.automl: 04-03 19:55:45] {2567} INFO - iteration 93, current learner lgbm\n",
      "[flaml.automl: 04-03 19:55:45] {2744} INFO -  at 59.4s,\testimator lgbm's best error=0.0528,\tbest estimator lgbm's best error=0.0528\n",
      "[flaml.automl: 04-03 19:55:46] {2974} INFO - retrain lgbm for 1.0s\n",
      "[flaml.automl: 04-03 19:55:46] {2981} INFO - retrained model: LGBMClassifier(colsample_bytree=0.8282336849063104,\n",
      "               learning_rate=0.11933672136202565, max_bin=255,\n",
      "               min_child_samples=5, n_estimators=1326, num_leaves=21,\n",
      "               reg_alpha=0.4456003069086682, reg_lambda=0.007867129581608068,\n",
      "               verbose=-1)\n",
      "[flaml.automl: 04-03 19:55:46] {2310} INFO - fit succeeded\n",
      "[flaml.automl: 04-03 19:55:46] {2311} INFO - Time taken to find the best model: 55.40133571624756\n",
      "[flaml.automl: 04-03 19:55:46] {2322} WARNING - Time taken to find the best model is 92% of the provided time budget and not all estimators' hyperparameter search converged. Consider increasing the time budget.\n"
     ]
    }
   ],
   "source": [
    "automl = AutoML()\n",
    "settings = {\n",
    "    \"time_budget\": 60,\n",
    "    \"metric\": 'f1',\n",
    "    \"estimator_list\": ['lgbm'],\n",
    "    \"task\": 'classification',\n",
    "    \"seed\": 42,\n",
    "}\n",
    "automl.fit(X_train=X_train, y_train=y_train['remainder__Revenue'], **settings)"
   ]
  },
  {
   "cell_type": "code",
   "execution_count": 16,
   "id": "a5654e83",
   "metadata": {},
   "outputs": [
    {
     "name": "stdout",
     "output_type": "stream",
     "text": [
      "Val set\n",
      "                   pre       rec       spe        f1       geo       iba       sup\n",
      "\n",
      "        0.0       0.92      0.95      0.57      0.94      0.74      0.56      1042\n",
      "        1.0       0.69      0.57      0.95      0.62      0.74      0.52       191\n",
      "\n",
      "avg / total       0.89      0.89      0.63      0.89      0.74      0.56      1233\n",
      "\n",
      "----------------------------------------------------------------------------------------------------\n",
      "Test set\n",
      "                   pre       rec       spe        f1       geo       iba       sup\n",
      "\n",
      "        0.0       0.93      0.94      0.59      0.93      0.74      0.57      1042\n",
      "        1.0       0.63      0.59      0.94      0.61      0.74      0.54       191\n",
      "\n",
      "avg / total       0.88      0.88      0.65      0.88      0.74      0.57      1233\n",
      "\n"
     ]
    }
   ],
   "source": [
    "best_estimator = automl.model.estimator\n",
    "\n",
    "best_val_preds = best_estimator.predict(X_val)\n",
    "print(\"Val set\")\n",
    "print(classification_report_imbalanced(y_val, best_val_preds))\n",
    "\n",
    "print(\"-\"*100)\n",
    "\n",
    "best_test_preds = best_estimator.predict(X_test)\n",
    "print(\"Test set\")\n",
    "print(classification_report_imbalanced(y_test, best_test_preds))"
   ]
  },
  {
   "cell_type": "markdown",
   "id": "363ad6f6",
   "metadata": {},
   "source": [
    "## Results"
   ]
  },
  {
   "cell_type": "markdown",
   "id": "25452a7f",
   "metadata": {},
   "source": [
    "Based on these results, we can expect a final F1 score of 0.64"
   ]
  },
  {
   "cell_type": "markdown",
   "id": "39ea8764",
   "metadata": {},
   "source": [
    "## Feature Importance"
   ]
  },
  {
   "cell_type": "code",
   "execution_count": 17,
   "id": "dbebc9cc",
   "metadata": {},
   "outputs": [
    {
     "data": {
      "text/plain": [
       "<AxesSubplot:title={'center':'Feature importance'}, xlabel='Feature importance', ylabel='Features'>"
      ]
     },
     "execution_count": 17,
     "metadata": {},
     "output_type": "execute_result"
    },
    {
     "data": {
      "image/png": "[encoded data removed]",
      "text/plain": [
       "<Figure size 432x288 with 1 Axes>"
      ]
     },
     "metadata": {},
     "output_type": "display_data"
    }
   ],
   "source": [
    "lgb.plot_importance(best_estimator, max_num_features=20)"
   ]
  }
 ],
 "metadata": {
  "kernelspec": {
   "display_name": "Python 3 (ipykernel)",
   "language": "python",
   "name": "python3"
  },
  "language_info": {
   "codemirror_mode": {
    "name": "ipython",
    "version": 3
   },
   "file_extension": ".py",
   "mimetype": "text/x-python",
   "name": "python",
   "nbconvert_exporter": "python",
   "pygments_lexer": "ipython3",
   "version": "3.8.8"
  }
 },
 "nbformat": 4,
 "nbformat_minor": 5
}
