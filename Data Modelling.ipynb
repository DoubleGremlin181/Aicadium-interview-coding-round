{
 "cells": [
  {
   "cell_type": "markdown",
   "id": "a7e83648",
   "metadata": {},
   "source": [
    "## Initializing Libraries"
   ]
  },
  {
   "cell_type": "code",
   "execution_count": 1,
   "id": "29c84d7c",
   "metadata": {},
   "outputs": [],
   "source": [
    "import pandas as pd\n",
    "import numpy as np\n",
    "import matplotlib.pyplot as plt\n",
    "from matplotlib import style\n",
    "plt.style.use(\"seaborn-dark\")\n",
    "\n",
    "from sklearn.model_selection import train_test_split\n",
    "from sklearn.metrics import *\n",
    "from sklearn.utils import class_weight\n",
    "from sklearn.preprocessing import OneHotEncoder\n",
    "from sklearn.preprocessing import StandardScaler\n",
    "from sklearn.compose import ColumnTransformer\n",
    "\n",
    "from imblearn.metrics import classification_report_imbalanced\n",
    "from imblearn.over_sampling import SMOTENC\n",
    "from imblearn.under_sampling import RandomUnderSampler\n",
    "\n",
    "import statsmodels.api as sm\n",
    "import statsmodels.formula.api as smf\n",
    "\n",
    "import xgboost as xgb\n",
    "import lightgbm as lgb\n",
    "\n",
    "from flaml import AutoML"
   ]
  },
  {
   "cell_type": "markdown",
   "id": "517a3c74",
   "metadata": {},
   "source": [
    "## Importing Data"
   ]
  },
  {
   "cell_type": "code",
   "execution_count": 2,
   "id": "9d28f677",
   "metadata": {},
   "outputs": [],
   "source": [
    "df = pd.read_csv('coding_round_data.csv')"
   ]
  },
  {
   "cell_type": "markdown",
   "id": "e2817bc4",
   "metadata": {},
   "source": [
    "### Fixing import issues"
   ]
  },
  {
   "cell_type": "code",
   "execution_count": 3,
   "id": "be5a2ab9",
   "metadata": {},
   "outputs": [
    {
     "name": "stdout",
     "output_type": "stream",
     "text": [
      "<class 'pandas.core.frame.DataFrame'>\n",
      "RangeIndex: 12330 entries, 0 to 12329\n",
      "Data columns (total 18 columns):\n",
      " #   Column                   Non-Null Count  Dtype  \n",
      "---  ------                   --------------  -----  \n",
      " 0   Administrative           12330 non-null  int64  \n",
      " 1   Administrative_Duration  12330 non-null  float64\n",
      " 2   Informational            12330 non-null  int64  \n",
      " 3   Informational_Duration   12330 non-null  float64\n",
      " 4   ProductRelated           12330 non-null  int64  \n",
      " 5   ProductRelated_Duration  12330 non-null  float64\n",
      " 6   BounceRates              12330 non-null  float64\n",
      " 7   ExitRates                12330 non-null  float64\n",
      " 8   PageValues               12330 non-null  float64\n",
      " 9   SpecialDay               12330 non-null  float64\n",
      " 10  Month                    12330 non-null  object \n",
      " 11  OperatingSystems         12330 non-null  int64  \n",
      " 12  Browser                  12330 non-null  int64  \n",
      " 13  Region                   12330 non-null  int64  \n",
      " 14  TrafficType              12330 non-null  int64  \n",
      " 15  VisitorType              12330 non-null  object \n",
      " 16  Weekend                  12330 non-null  bool   \n",
      " 17  Revenue                  12330 non-null  bool   \n",
      "dtypes: bool(2), float64(7), int64(7), object(2)\n",
      "memory usage: 1.5+ MB\n"
     ]
    }
   ],
   "source": [
    "df.info()"
   ]
  },
  {
   "cell_type": "code",
   "execution_count": 4,
   "id": "61718e0b",
   "metadata": {},
   "outputs": [],
   "source": [
    "for col in ['OperatingSystems', 'Browser', 'Region', 'TrafficType', 'VisitorType', 'Month']:\n",
    "    df[col] = df[col].astype('category')\n",
    "\n",
    "for col in ['Weekend', 'Revenue']:\n",
    "    df[col] = df[col].astype('int')"
   ]
  },
  {
   "cell_type": "markdown",
   "id": "91348aad",
   "metadata": {},
   "source": [
    "## Splitting Data"
   ]
  },
  {
   "cell_type": "markdown",
   "id": "9d914b36",
   "metadata": {},
   "source": [
    "Using a stratified split as the data is very imbalanced"
   ]
  },
  {
   "cell_type": "code",
   "execution_count": 5,
   "id": "c698e09b",
   "metadata": {},
   "outputs": [],
   "source": [
    "df_train, df_test = train_test_split(df, stratify=df['Revenue'], test_size=0.10, random_state=42)\n",
    "df_train, df_val = train_test_split(df_train, stratify=df_train['Revenue'], test_size=1/9, random_state=42)"
   ]
  },
  {
   "cell_type": "markdown",
   "id": "ccf97af3",
   "metadata": {},
   "source": [
    "## Data Manipulation"
   ]
  },
  {
   "cell_type": "code",
   "execution_count": 6,
   "id": "4959d4f5",
   "metadata": {},
   "outputs": [],
   "source": [
    "nominal_features = ['Month','OperatingSystems', 'Browser', 'Region', 'TrafficType', 'VisitorType','Weekend']\n",
    "nominal_transformer = OneHotEncoder(handle_unknown=\"ignore\")\n",
    "\n",
    "page_duration_features = ['Administrative_Duration', 'Informational_Duration', 'ProductRelated_Duration']\n",
    "ss_transformer = StandardScaler()\n",
    "\n",
    "ga_rates_features = ['BounceRates', 'ExitRates']\n",
    "\n",
    "preprocessor = ColumnTransformer(\n",
    "    transformers=[\n",
    "        (\"nominal\", nominal_transformer, nominal_features),\n",
    "        (\"page_duration\", ss_transformer, page_duration_features),\n",
    "        (\"ga_rates\", ss_transformer, ga_rates_features),\n",
    "    ],\n",
    "    sparse_threshold=0,\n",
    "    remainder='passthrough'\n",
    ")\n",
    "\n",
    "preprocessor.fit(df_train)\n",
    "\n",
    "df_train = pd.DataFrame(preprocessor.transform(df_train), columns=preprocessor.get_feature_names_out())\n",
    "df_val = pd.DataFrame(preprocessor.transform(df_val), columns=preprocessor.get_feature_names_out())\n",
    "df_test = pd.DataFrame(preprocessor.transform(df_test), columns=preprocessor.get_feature_names_out())"
   ]
  },
  {
   "cell_type": "code",
   "execution_count": 7,
   "id": "6dbd6d74",
   "metadata": {},
   "outputs": [],
   "source": [
    "X_train = df_train.drop(columns='remainder__Revenue')\n",
    "y_train = df_train[['remainder__Revenue']]\n",
    "\n",
    "X_val = df_val.drop(columns='remainder__Revenue')\n",
    "y_val = df_val[['remainder__Revenue']]\n",
    "\n",
    "X_test = df_test.drop(columns='remainder__Revenue')\n",
    "y_test = df_test[['remainder__Revenue']]"
   ]
  },
  {
   "cell_type": "code",
   "execution_count": null,
   "id": "42ac80f0",
   "metadata": {},
   "outputs": [],
   "source": [
    "categorical_features = [idx for idx, i in enumerate(preprocessor.get_feature_names_out()) if i.startswith('nominal')]\n",
    "\n",
    "sm = SMOTENC(random_state=42, categorical_features=categorical_features)\n",
    "X_train, y_train = sm.fit_resample(X_train, y_train)"
   ]
  },
  {
   "cell_type": "markdown",
   "id": "3f7a83bc",
   "metadata": {},
   "source": [
    "## Modelling"
   ]
  },
  {
   "cell_type": "markdown",
   "id": "b9537fb0",
   "metadata": {},
   "source": [
    "There are 2 main approaches that I will be taking for modelling. Their results will be compared on the df_val set to decide a final approach through the F1-score of the positive class as the goal is to predict whether a user makes a purchase or not."
   ]
  },
  {
   "cell_type": "markdown",
   "id": "0bba2656",
   "metadata": {},
   "source": [
    "### Approach 1 - Logistic Regression"
   ]
  },
  {
   "cell_type": "code",
   "execution_count": null,
   "id": "365fe3b8",
   "metadata": {},
   "outputs": [],
   "source": [
    "formula = \"remainder__Revenue ~ \" + \" + \".join(X_train)\n",
    "\n",
    "LR_model = smf.logit(formula=formula, data=df_train).fit_regularized(method='l1')\n",
    "LR_model.summary()"
   ]
  },
  {
   "cell_type": "markdown",
   "id": "833e5e97",
   "metadata": {},
   "source": [
    "As the classes are not balanced, the intercept/threshold needs to be scaled accordingly."
   ]
  },
  {
   "cell_type": "code",
   "execution_count": null,
   "id": "1d8ee652",
   "metadata": {},
   "outputs": [],
   "source": [
    "weights = y_val.value_counts()\n",
    "\n",
    "threshold = weights[1]/weights[0]\n",
    "\n",
    "LR_val_preds_raw = LR_model.predict(exog=X_val)\n",
    "LR_val_preds = (LR_val_preds_raw > threshold).astype('int')\n",
    "\n",
    "print(classification_report_imbalanced(y_val, LR_val_preds))"
   ]
  },
  {
   "cell_type": "markdown",
   "id": "2188cbaa",
   "metadata": {},
   "source": [
    "### Approach 2 - Boosted Decision Trees"
   ]
  },
  {
   "cell_type": "markdown",
   "id": "5e8a4d77",
   "metadata": {},
   "source": [
    "Implemented using XGBoost"
   ]
  },
  {
   "cell_type": "code",
   "execution_count": null,
   "id": "3e6e7183",
   "metadata": {},
   "outputs": [],
   "source": [
    "sample_weights = class_weight.compute_sample_weight(class_weight='balanced', y=y_train)  # To help tackle imbalanced classes\n",
    "\n",
    "xgb_model = xgb.XGBClassifier().fit(X_train, y_train, sample_weight=sample_weights)"
   ]
  },
  {
   "cell_type": "code",
   "execution_count": null,
   "id": "3a395bd3",
   "metadata": {},
   "outputs": [],
   "source": [
    "xgb_val_preds = xgb_model.predict(X_val)\n",
    "\n",
    "print(classification_report_imbalanced(y_val, xgb_val_preds))"
   ]
  },
  {
   "cell_type": "markdown",
   "id": "22db0edb",
   "metadata": {},
   "source": [
    "## Results"
   ]
  },
  {
   "cell_type": "markdown",
   "id": "62ca9c85",
   "metadata": {},
   "source": [
    "The results from both approaches are close with the logistic regression having an F1 score of 0.59 (for Revenue=True) to the 0.63 for XGBoost\n",
    "\n",
    "Additionally, the precision for TP is significantly higher for XGBoost (0.58 vs 0.51) while the recall is the same"
   ]
  },
  {
   "cell_type": "markdown",
   "id": "d9b4c574",
   "metadata": {},
   "source": [
    "Based on these results, we can focus on using boosted decision trees"
   ]
  },
  {
   "cell_type": "markdown",
   "id": "4e994eb5",
   "metadata": {},
   "source": [
    "### Approach 3 - More Boosted Trees"
   ]
  },
  {
   "cell_type": "markdown",
   "id": "04a5dc10",
   "metadata": {},
   "source": [
    "Comparing XGBoost with LightGBM"
   ]
  },
  {
   "cell_type": "code",
   "execution_count": null,
   "id": "5f756cd0",
   "metadata": {},
   "outputs": [],
   "source": [
    "lgb_model = lgb.LGBMClassifier().fit(X_train, y_train, sample_weight=sample_weights)"
   ]
  },
  {
   "cell_type": "code",
   "execution_count": null,
   "id": "031f74be",
   "metadata": {},
   "outputs": [],
   "source": [
    "lgb_val_preds = lgb_model.predict(X_val)\n",
    "\n",
    "print(classification_report_imbalanced(y_val, xgb_val_preds))"
   ]
  },
  {
   "cell_type": "markdown",
   "id": "f13a0473",
   "metadata": {},
   "source": [
    "## Results"
   ]
  },
  {
   "cell_type": "markdown",
   "id": "777496d6",
   "metadata": {},
   "source": [
    "Since they both have matching results, I would prefer LightGBM due to its speed advantage, allowing for better scalability"
   ]
  },
  {
   "cell_type": "markdown",
   "id": "59bc606e",
   "metadata": {},
   "source": [
    "## Hyperparameter tuning"
   ]
  },
  {
   "cell_type": "markdown",
   "id": "6f19b595",
   "metadata": {},
   "source": [
    "Via FLAML"
   ]
  },
  {
   "cell_type": "code",
   "execution_count": null,
   "id": "a0ebb661",
   "metadata": {},
   "outputs": [],
   "source": [
    "automl = AutoML()\n",
    "settings = {\n",
    "    \"time_budget\": 60,\n",
    "    \"metric\": 'f1',\n",
    "    \"estimator_list\": ['lgbm'],\n",
    "    \"task\": 'classification',\n",
    "    \"seed\": 42,\n",
    "}\n",
    "automl.fit(X_train=X_train, y_train=y_train['remainder__Revenue'], **settings)"
   ]
  },
  {
   "cell_type": "code",
   "execution_count": null,
   "id": "7579253c",
   "metadata": {},
   "outputs": [],
   "source": [
    "best_estimator = automl.model.estimator\n",
    "\n",
    "best_val_preds = best_estimator.predict(X_val)\n",
    "print(\"Val set\")\n",
    "print(classification_report_imbalanced(y_val, best_val_preds))\n",
    "\n",
    "print(\"-\"*100)\n",
    "\n",
    "best_test_preds = best_estimator.predict(X_test)\n",
    "print(\"Test set\")\n",
    "print(classification_report_imbalanced(y_test, best_test_preds))"
   ]
  },
  {
   "cell_type": "markdown",
   "id": "3c90804b",
   "metadata": {},
   "source": [
    "## Results"
   ]
  },
  {
   "cell_type": "markdown",
   "id": "a17ef6f7",
   "metadata": {},
   "source": [
    "Based on these results, we can expect a final F1 score of 0.64"
   ]
  },
  {
   "cell_type": "markdown",
   "id": "b1506811",
   "metadata": {},
   "source": [
    "## Feature Importance"
   ]
  },
  {
   "cell_type": "code",
   "execution_count": null,
   "id": "73d139b4",
   "metadata": {},
   "outputs": [],
   "source": [
    "lgb.plot_importance(best_estimator, max_num_features=20)"
   ]
  }
 ],
 "metadata": {
  "kernelspec": {
   "display_name": "Python 3 (ipykernel)",
   "language": "python",
   "name": "python3"
  },
  "language_info": {
   "codemirror_mode": {
    "name": "ipython",
    "version": 3
   },
   "file_extension": ".py",
   "mimetype": "text/x-python",
   "name": "python",
   "nbconvert_exporter": "python",
   "pygments_lexer": "ipython3",
   "version": "3.8.8"
  }
 },
 "nbformat": 4,
 "nbformat_minor": 5
}
