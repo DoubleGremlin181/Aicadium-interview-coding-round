{
 "cells": [
  {
   "cell_type": "markdown",
   "id": "a7e83648",
   "metadata": {},
   "source": [
    "## Initializing Libraries"
   ]
  },
  {
   "cell_type": "code",
   "execution_count": 1,
   "id": "0e94d5e2",
   "metadata": {},
   "outputs": [],
   "source": [
    "import pandas as pd\n",
    "import numpy as np\n",
    "import matplotlib.pyplot as plt\n",
    "from matplotlib import style\n",
    "plt.style.use(\"seaborn-dark\")\n",
    "\n",
    "from sklearn.model_selection import train_test_split\n",
    "from sklearn.metrics import *\n",
    "from sklearn.utils import class_weight\n",
    "from sklearn.preprocessing import OneHotEncoder\n",
    "from sklearn.compose import ColumnTransformer\n",
    "\n",
    "from imblearn.metrics import classification_report_imbalanced\n",
    "\n",
    "import statsmodels.api as sm\n",
    "import statsmodels.formula.api as smf\n",
    "\n",
    "import xgboost as xgb"
   ]
  },
  {
   "cell_type": "markdown",
   "id": "517a3c74",
   "metadata": {},
   "source": [
    "## Importing Data"
   ]
  },
  {
   "cell_type": "code",
   "execution_count": 2,
   "id": "9d28f677",
   "metadata": {},
   "outputs": [],
   "source": [
    "df = pd.read_csv('coding_round_data.csv')"
   ]
  },
  {
   "cell_type": "markdown",
   "id": "b8be943b",
   "metadata": {},
   "source": [
    "### Fixing import issues"
   ]
  },
  {
   "cell_type": "code",
   "execution_count": 3,
   "id": "3ee213d4",
   "metadata": {},
   "outputs": [
    {
     "name": "stdout",
     "output_type": "stream",
     "text": [
      "<class 'pandas.core.frame.DataFrame'>\n",
      "RangeIndex: 12330 entries, 0 to 12329\n",
      "Data columns (total 18 columns):\n",
      " #   Column                   Non-Null Count  Dtype  \n",
      "---  ------                   --------------  -----  \n",
      " 0   Administrative           12330 non-null  int64  \n",
      " 1   Administrative_Duration  12330 non-null  float64\n",
      " 2   Informational            12330 non-null  int64  \n",
      " 3   Informational_Duration   12330 non-null  float64\n",
      " 4   ProductRelated           12330 non-null  int64  \n",
      " 5   ProductRelated_Duration  12330 non-null  float64\n",
      " 6   BounceRates              12330 non-null  float64\n",
      " 7   ExitRates                12330 non-null  float64\n",
      " 8   PageValues               12330 non-null  float64\n",
      " 9   SpecialDay               12330 non-null  float64\n",
      " 10  Month                    12330 non-null  object \n",
      " 11  OperatingSystems         12330 non-null  int64  \n",
      " 12  Browser                  12330 non-null  int64  \n",
      " 13  Region                   12330 non-null  int64  \n",
      " 14  TrafficType              12330 non-null  int64  \n",
      " 15  VisitorType              12330 non-null  object \n",
      " 16  Weekend                  12330 non-null  bool   \n",
      " 17  Revenue                  12330 non-null  bool   \n",
      "dtypes: bool(2), float64(7), int64(7), object(2)\n",
      "memory usage: 1.5+ MB\n"
     ]
    }
   ],
   "source": [
    "df.info()"
   ]
  },
  {
   "cell_type": "code",
   "execution_count": 4,
   "id": "37636029",
   "metadata": {},
   "outputs": [],
   "source": [
    "for col in ['OperatingSystems', 'Browser', 'Region', 'TrafficType', 'VisitorType', 'Month']:\n",
    "    df[col] = df[col].astype('category')\n",
    "\n",
    "for col in ['Weekend', 'Revenue']:\n",
    "    df[col] = df[col].astype('int')"
   ]
  },
  {
   "cell_type": "markdown",
   "id": "c207fb8d",
   "metadata": {},
   "source": [
    "## Splitting Data"
   ]
  },
  {
   "cell_type": "markdown",
   "id": "1681d3d0",
   "metadata": {},
   "source": [
    "Using a stratified split as the data is very imbalanced"
   ]
  },
  {
   "cell_type": "code",
   "execution_count": 5,
   "id": "df3bc2ab",
   "metadata": {},
   "outputs": [],
   "source": [
    "df_train, df_test = train_test_split(df, stratify=df['Revenue'], test_size=0.20, random_state=42)"
   ]
  },
  {
   "cell_type": "markdown",
   "id": "76d85271",
   "metadata": {},
   "source": [
    "## Column Manipulation"
   ]
  },
  {
   "cell_type": "code",
   "execution_count": 6,
   "id": "ebcf74c5",
   "metadata": {},
   "outputs": [],
   "source": [
    "nominal_features = ['Month','OperatingSystems', 'Browser', 'Region', 'TrafficType', 'VisitorType','Weekend']\n",
    "nominal_transformer = OneHotEncoder(handle_unknown=\"ignore\")\n",
    "\n",
    "preprocessor = ColumnTransformer(\n",
    "    transformers=[\n",
    "        (\"nominal\", nominal_transformer, nominal_features),\n",
    "    ],\n",
    "    sparse_threshold=0,\n",
    "    remainder='passthrough'\n",
    ")\n",
    "\n",
    "preprocessor.fit(df_train)\n",
    "\n",
    "df_train = pd.DataFrame(preprocessor.transform(df_train), columns=preprocessor.get_feature_names_out())\n",
    "df_test = pd.DataFrame(preprocessor.transform(df_test), columns=preprocessor.get_feature_names_out())"
   ]
  },
  {
   "cell_type": "markdown",
   "id": "451dc085",
   "metadata": {},
   "source": [
    "## Modelling"
   ]
  },
  {
   "cell_type": "markdown",
   "id": "6586f7e3",
   "metadata": {},
   "source": [
    "There are 2 main approaches that I will be taking for modelling. Their results will be compared on the df_test set to decide a final approach through the F1-score"
   ]
  },
  {
   "cell_type": "markdown",
   "id": "292cf41c",
   "metadata": {},
   "source": [
    "### Approach 1 - Logistic Regression"
   ]
  },
  {
   "cell_type": "code",
   "execution_count": 7,
   "id": "76020fc0",
   "metadata": {},
   "outputs": [
    {
     "name": "stderr",
     "output_type": "stream",
     "text": [
      "/home/kavish/anaconda3/lib/python3.8/site-packages/statsmodels/discrete/discrete_model.py:1810: RuntimeWarning: overflow encountered in exp\n",
      "  return 1/(1+np.exp(-X))\n",
      "/home/kavish/anaconda3/lib/python3.8/site-packages/statsmodels/discrete/discrete_model.py:1863: RuntimeWarning: divide by zero encountered in log\n",
      "  return np.sum(np.log(self.cdf(q*np.dot(X,params))))\n"
     ]
    },
    {
     "name": "stdout",
     "output_type": "stream",
     "text": [
      "Optimization terminated successfully    (Exit mode 0)\n",
      "            Current function value: 0.28314604909132673\n",
      "            Iterations: 466\n",
      "            Function evaluations: 486\n",
      "            Gradient evaluations: 466\n"
     ]
    },
    {
     "data": {
      "text/html": [
       "<table class=\"simpletable\">\n",
       "<caption>Logit Regression Results</caption>\n",
       "<tr>\n",
       "  <th>Dep. Variable:</th>   <td>remainder__Revenue</td> <th>  No. Observations:  </th>  <td>  9864</td> \n",
       "</tr>\n",
       "<tr>\n",
       "  <th>Model:</th>                  <td>Logit</td>       <th>  Df Residuals:      </th>  <td>  9788</td> \n",
       "</tr>\n",
       "<tr>\n",
       "  <th>Method:</th>                  <td>MLE</td>        <th>  Df Model:          </th>  <td>    75</td> \n",
       "</tr>\n",
       "<tr>\n",
       "  <th>Date:</th>             <td>Sun, 03 Apr 2022</td>  <th>  Pseudo R-squ.:     </th>  <td>0.3427</td> \n",
       "</tr>\n",
       "<tr>\n",
       "  <th>Time:</th>                 <td>17:40:56</td>      <th>  Log-Likelihood:    </th> <td> -2793.0</td>\n",
       "</tr>\n",
       "<tr>\n",
       "  <th>converged:</th>              <td>True</td>        <th>  LL-Null:           </th> <td> -4249.2</td>\n",
       "</tr>\n",
       "<tr>\n",
       "  <th>Covariance Type:</th>      <td>nonrobust</td>     <th>  LLR p-value:       </th>  <td> 0.000</td> \n",
       "</tr>\n",
       "</table>\n",
       "<table class=\"simpletable\">\n",
       "<tr>\n",
       "                     <td></td>                       <th>coef</th>     <th>std err</th>      <th>z</th>      <th>P>|z|</th>  <th>[0.025</th>    <th>0.975]</th>  \n",
       "</tr>\n",
       "<tr>\n",
       "  <th>Intercept</th>                              <td>   -2.1828</td> <td>    1e+06</td> <td>-2.18e-06</td> <td> 1.000</td> <td>-1.96e+06</td> <td> 1.96e+06</td>\n",
       "</tr>\n",
       "<tr>\n",
       "  <th>nominal__Month_Aug</th>                     <td>    0.2679</td> <td>      nan</td> <td>      nan</td> <td>   nan</td> <td>      nan</td> <td>      nan</td>\n",
       "</tr>\n",
       "<tr>\n",
       "  <th>nominal__Month_Dec</th>                     <td>   -0.4336</td> <td>      nan</td> <td>      nan</td> <td>   nan</td> <td>      nan</td> <td>      nan</td>\n",
       "</tr>\n",
       "<tr>\n",
       "  <th>nominal__Month_Feb</th>                     <td>   -1.7480</td> <td>      nan</td> <td>      nan</td> <td>   nan</td> <td>      nan</td> <td>      nan</td>\n",
       "</tr>\n",
       "<tr>\n",
       "  <th>nominal__Month_Jul</th>                     <td>    0.1536</td> <td>      nan</td> <td>      nan</td> <td>   nan</td> <td>      nan</td> <td>      nan</td>\n",
       "</tr>\n",
       "<tr>\n",
       "  <th>nominal__Month_June</th>                    <td>   -0.0799</td> <td>      nan</td> <td>      nan</td> <td>   nan</td> <td>      nan</td> <td>      nan</td>\n",
       "</tr>\n",
       "<tr>\n",
       "  <th>nominal__Month_Mar</th>                     <td>   -0.3999</td> <td>      nan</td> <td>      nan</td> <td>   nan</td> <td>      nan</td> <td>      nan</td>\n",
       "</tr>\n",
       "<tr>\n",
       "  <th>nominal__Month_May</th>                     <td>   -0.3252</td> <td>      nan</td> <td>      nan</td> <td>   nan</td> <td>      nan</td> <td>      nan</td>\n",
       "</tr>\n",
       "<tr>\n",
       "  <th>nominal__Month_Nov</th>                     <td>    0.5935</td> <td>      nan</td> <td>      nan</td> <td>   nan</td> <td>      nan</td> <td>      nan</td>\n",
       "</tr>\n",
       "<tr>\n",
       "  <th>nominal__Month_Oct</th>                     <td>    0.1700</td> <td>      nan</td> <td>      nan</td> <td>   nan</td> <td>      nan</td> <td>      nan</td>\n",
       "</tr>\n",
       "<tr>\n",
       "  <th>nominal__Month_Sep</th>                     <td>    0.3057</td> <td>      nan</td> <td>      nan</td> <td>   nan</td> <td>      nan</td> <td>      nan</td>\n",
       "</tr>\n",
       "<tr>\n",
       "  <th>nominal__OperatingSystems_1</th>            <td>   -0.1742</td> <td>      nan</td> <td>      nan</td> <td>   nan</td> <td>      nan</td> <td>      nan</td>\n",
       "</tr>\n",
       "<tr>\n",
       "  <th>nominal__OperatingSystems_2</th>            <td>   -0.0050</td> <td>      nan</td> <td>      nan</td> <td>   nan</td> <td>      nan</td> <td>      nan</td>\n",
       "</tr>\n",
       "<tr>\n",
       "  <th>nominal__OperatingSystems_3</th>            <td>   -0.2459</td> <td>      nan</td> <td>      nan</td> <td>   nan</td> <td>      nan</td> <td>      nan</td>\n",
       "</tr>\n",
       "<tr>\n",
       "  <th>nominal__OperatingSystems_4</th>            <td>   -0.2310</td> <td>      nan</td> <td>      nan</td> <td>   nan</td> <td>      nan</td> <td>      nan</td>\n",
       "</tr>\n",
       "<tr>\n",
       "  <th>nominal__OperatingSystems_5</th>            <td>   -0.1088</td> <td> 9.49e+07</td> <td>-1.15e-09</td> <td> 1.000</td> <td>-1.86e+08</td> <td> 1.86e+08</td>\n",
       "</tr>\n",
       "<tr>\n",
       "  <th>nominal__OperatingSystems_6</th>            <td>   -1.1027</td> <td>      nan</td> <td>      nan</td> <td>   nan</td> <td>      nan</td> <td>      nan</td>\n",
       "</tr>\n",
       "<tr>\n",
       "  <th>nominal__OperatingSystems_7</th>            <td>    1.4606</td> <td>      nan</td> <td>      nan</td> <td>   nan</td> <td>      nan</td> <td>      nan</td>\n",
       "</tr>\n",
       "<tr>\n",
       "  <th>nominal__OperatingSystems_8</th>            <td>   -0.0651</td> <td>      nan</td> <td>      nan</td> <td>   nan</td> <td>      nan</td> <td>      nan</td>\n",
       "</tr>\n",
       "<tr>\n",
       "  <th>nominal__Browser_1</th>                     <td>   -0.1679</td> <td> 9.36e+05</td> <td>-1.79e-07</td> <td> 1.000</td> <td>-1.83e+06</td> <td> 1.83e+06</td>\n",
       "</tr>\n",
       "<tr>\n",
       "  <th>nominal__Browser_2</th>                     <td>   -0.2979</td> <td>  9.3e+05</td> <td> -3.2e-07</td> <td> 1.000</td> <td>-1.82e+06</td> <td> 1.82e+06</td>\n",
       "</tr>\n",
       "<tr>\n",
       "  <th>nominal__Browser_3</th>                     <td>   -1.0189</td> <td> 9.12e+05</td> <td>-1.12e-06</td> <td> 1.000</td> <td>-1.79e+06</td> <td> 1.79e+06</td>\n",
       "</tr>\n",
       "<tr>\n",
       "  <th>nominal__Browser_4</th>                     <td>   -0.2359</td> <td> 9.18e+05</td> <td>-2.57e-07</td> <td> 1.000</td> <td> -1.8e+06</td> <td>  1.8e+06</td>\n",
       "</tr>\n",
       "<tr>\n",
       "  <th>nominal__Browser_5</th>                     <td>   -0.1171</td> <td> 8.88e+05</td> <td>-1.32e-07</td> <td> 1.000</td> <td>-1.74e+06</td> <td> 1.74e+06</td>\n",
       "</tr>\n",
       "<tr>\n",
       "  <th>nominal__Browser_6</th>                     <td>   -0.5060</td> <td>    9e+05</td> <td>-5.62e-07</td> <td> 1.000</td> <td>-1.76e+06</td> <td> 1.76e+06</td>\n",
       "</tr>\n",
       "<tr>\n",
       "  <th>nominal__Browser_7</th>                     <td>   -1.4221</td> <td> 9.18e+05</td> <td>-1.55e-06</td> <td> 1.000</td> <td> -1.8e+06</td> <td>  1.8e+06</td>\n",
       "</tr>\n",
       "<tr>\n",
       "  <th>nominal__Browser_8</th>                     <td>   -0.6024</td> <td> 8.94e+05</td> <td>-6.74e-07</td> <td> 1.000</td> <td>-1.75e+06</td> <td> 1.75e+06</td>\n",
       "</tr>\n",
       "<tr>\n",
       "  <th>nominal__Browser_9</th>                     <td>   -0.5573</td> <td>  9.3e+05</td> <td>-5.99e-07</td> <td> 1.000</td> <td>-1.82e+06</td> <td> 1.82e+06</td>\n",
       "</tr>\n",
       "<tr>\n",
       "  <th>nominal__Browser_10</th>                    <td>    0.1009</td> <td> 8.94e+05</td> <td> 1.13e-07</td> <td> 1.000</td> <td>-1.75e+06</td> <td> 1.75e+06</td>\n",
       "</tr>\n",
       "<tr>\n",
       "  <th>nominal__Browser_11</th>                    <td>   -0.1088</td> <td> 9.47e+07</td> <td>-1.15e-09</td> <td> 1.000</td> <td>-1.86e+08</td> <td> 1.86e+08</td>\n",
       "</tr>\n",
       "<tr>\n",
       "  <th>nominal__Browser_12</th>                    <td>    2.2611</td> <td> 9.12e+05</td> <td> 2.48e-06</td> <td> 1.000</td> <td>-1.79e+06</td> <td> 1.79e+06</td>\n",
       "</tr>\n",
       "<tr>\n",
       "  <th>nominal__Browser_13</th>                    <td>    0.3571</td> <td> 9.06e+05</td> <td> 3.94e-07</td> <td> 1.000</td> <td>-1.78e+06</td> <td> 1.78e+06</td>\n",
       "</tr>\n",
       "<tr>\n",
       "  <th>nominal__Region_1</th>                      <td>   -0.0476</td> <td>      nan</td> <td>      nan</td> <td>   nan</td> <td>      nan</td> <td>      nan</td>\n",
       "</tr>\n",
       "<tr>\n",
       "  <th>nominal__Region_2</th>                      <td>    0.1548</td> <td>      nan</td> <td>      nan</td> <td>   nan</td> <td>      nan</td> <td>      nan</td>\n",
       "</tr>\n",
       "<tr>\n",
       "  <th>nominal__Region_3</th>                      <td>   -0.0161</td> <td>      nan</td> <td>      nan</td> <td>   nan</td> <td>      nan</td> <td>      nan</td>\n",
       "</tr>\n",
       "<tr>\n",
       "  <th>nominal__Region_4</th>                      <td>   -0.1581</td> <td>      nan</td> <td>      nan</td> <td>   nan</td> <td>      nan</td> <td>      nan</td>\n",
       "</tr>\n",
       "<tr>\n",
       "  <th>nominal__Region_5</th>                      <td>   -0.2016</td> <td>      nan</td> <td>      nan</td> <td>   nan</td> <td>      nan</td> <td>      nan</td>\n",
       "</tr>\n",
       "<tr>\n",
       "  <th>nominal__Region_6</th>                      <td>   -0.0055</td> <td>      nan</td> <td>      nan</td> <td>   nan</td> <td>      nan</td> <td>      nan</td>\n",
       "</tr>\n",
       "<tr>\n",
       "  <th>nominal__Region_7</th>                      <td>   -0.0717</td> <td>      nan</td> <td>      nan</td> <td>   nan</td> <td>      nan</td> <td>      nan</td>\n",
       "</tr>\n",
       "<tr>\n",
       "  <th>nominal__Region_8</th>                      <td>    0.1500</td> <td>      nan</td> <td>      nan</td> <td>   nan</td> <td>      nan</td> <td>      nan</td>\n",
       "</tr>\n",
       "<tr>\n",
       "  <th>nominal__Region_9</th>                      <td>   -0.3183</td> <td>      nan</td> <td>      nan</td> <td>   nan</td> <td>      nan</td> <td>      nan</td>\n",
       "</tr>\n",
       "<tr>\n",
       "  <th>nominal__TrafficType_1</th>                 <td>    0.2594</td> <td> 1.09e+06</td> <td> 2.38e-07</td> <td> 1.000</td> <td>-2.14e+06</td> <td> 2.14e+06</td>\n",
       "</tr>\n",
       "<tr>\n",
       "  <th>nominal__TrafficType_2</th>                 <td>    0.5372</td> <td> 1.09e+06</td> <td> 4.93e-07</td> <td> 1.000</td> <td>-2.14e+06</td> <td> 2.14e+06</td>\n",
       "</tr>\n",
       "<tr>\n",
       "  <th>nominal__TrafficType_3</th>                 <td>    0.1293</td> <td> 1.09e+06</td> <td> 1.19e-07</td> <td> 1.000</td> <td>-2.13e+06</td> <td> 2.13e+06</td>\n",
       "</tr>\n",
       "<tr>\n",
       "  <th>nominal__TrafficType_4</th>                 <td>    0.3609</td> <td> 1.09e+06</td> <td> 3.31e-07</td> <td> 1.000</td> <td>-2.13e+06</td> <td> 2.13e+06</td>\n",
       "</tr>\n",
       "<tr>\n",
       "  <th>nominal__TrafficType_5</th>                 <td>    0.6528</td> <td> 1.09e+06</td> <td> 5.98e-07</td> <td> 1.000</td> <td>-2.14e+06</td> <td> 2.14e+06</td>\n",
       "</tr>\n",
       "<tr>\n",
       "  <th>nominal__TrafficType_6</th>                 <td>    0.1938</td> <td> 1.09e+06</td> <td> 1.78e-07</td> <td> 1.000</td> <td>-2.13e+06</td> <td> 2.13e+06</td>\n",
       "</tr>\n",
       "<tr>\n",
       "  <th>nominal__TrafficType_7</th>                 <td>    0.6667</td> <td> 1.09e+06</td> <td> 6.12e-07</td> <td> 1.000</td> <td>-2.13e+06</td> <td> 2.13e+06</td>\n",
       "</tr>\n",
       "<tr>\n",
       "  <th>nominal__TrafficType_8</th>                 <td>    0.9785</td> <td> 1.09e+06</td> <td> 8.97e-07</td> <td> 1.000</td> <td>-2.14e+06</td> <td> 2.14e+06</td>\n",
       "</tr>\n",
       "<tr>\n",
       "  <th>nominal__TrafficType_9</th>                 <td>    0.4864</td> <td> 1.09e+06</td> <td> 4.47e-07</td> <td> 1.000</td> <td>-2.13e+06</td> <td> 2.13e+06</td>\n",
       "</tr>\n",
       "<tr>\n",
       "  <th>nominal__TrafficType_10</th>                <td>    0.7849</td> <td> 1.09e+06</td> <td> 7.19e-07</td> <td> 1.000</td> <td>-2.14e+06</td> <td> 2.14e+06</td>\n",
       "</tr>\n",
       "<tr>\n",
       "  <th>nominal__TrafficType_11</th>                <td>    0.7371</td> <td> 1.09e+06</td> <td> 6.75e-07</td> <td> 1.000</td> <td>-2.14e+06</td> <td> 2.14e+06</td>\n",
       "</tr>\n",
       "<tr>\n",
       "  <th>nominal__TrafficType_12</th>                <td>   -0.5046</td> <td> 1.09e+06</td> <td>-4.63e-07</td> <td> 1.000</td> <td>-2.14e+06</td> <td> 2.14e+06</td>\n",
       "</tr>\n",
       "<tr>\n",
       "  <th>nominal__TrafficType_13</th>                <td>   -0.0271</td> <td> 1.09e+06</td> <td>-2.48e-08</td> <td> 1.000</td> <td>-2.14e+06</td> <td> 2.14e+06</td>\n",
       "</tr>\n",
       "<tr>\n",
       "  <th>nominal__TrafficType_14</th>                <td>   -0.2793</td> <td> 1.09e+06</td> <td>-2.56e-07</td> <td> 1.000</td> <td>-2.14e+06</td> <td> 2.14e+06</td>\n",
       "</tr>\n",
       "<tr>\n",
       "  <th>nominal__TrafficType_15</th>                <td>   -4.2216</td> <td> 1.09e+06</td> <td>-3.87e-06</td> <td> 1.000</td> <td>-2.14e+06</td> <td> 2.14e+06</td>\n",
       "</tr>\n",
       "<tr>\n",
       "  <th>nominal__TrafficType_16</th>                <td>    2.1565</td> <td> 1.09e+06</td> <td> 1.98e-06</td> <td> 1.000</td> <td>-2.13e+06</td> <td> 2.13e+06</td>\n",
       "</tr>\n",
       "<tr>\n",
       "  <th>nominal__TrafficType_17</th>                <td>   -0.2938</td> <td> 1.09e+06</td> <td> -2.7e-07</td> <td> 1.000</td> <td>-2.13e+06</td> <td> 2.13e+06</td>\n",
       "</tr>\n",
       "<tr>\n",
       "  <th>nominal__TrafficType_18</th>                <td>   -2.7953</td> <td> 1.09e+06</td> <td>-2.57e-06</td> <td> 1.000</td> <td>-2.13e+06</td> <td> 2.13e+06</td>\n",
       "</tr>\n",
       "<tr>\n",
       "  <th>nominal__TrafficType_19</th>                <td>   -0.5219</td> <td> 1.09e+06</td> <td> -4.8e-07</td> <td> 1.000</td> <td>-2.13e+06</td> <td> 2.13e+06</td>\n",
       "</tr>\n",
       "<tr>\n",
       "  <th>nominal__TrafficType_20</th>                <td>    0.7742</td> <td> 1.09e+06</td> <td> 7.09e-07</td> <td> 1.000</td> <td>-2.14e+06</td> <td> 2.14e+06</td>\n",
       "</tr>\n",
       "<tr>\n",
       "  <th>nominal__VisitorType_New_Visitor</th>       <td>    0.9048</td> <td>      nan</td> <td>      nan</td> <td>   nan</td> <td>      nan</td> <td>      nan</td>\n",
       "</tr>\n",
       "<tr>\n",
       "  <th>nominal__VisitorType_Other</th>             <td>    0.0630</td> <td>      nan</td> <td>      nan</td> <td>   nan</td> <td>      nan</td> <td>      nan</td>\n",
       "</tr>\n",
       "<tr>\n",
       "  <th>nominal__VisitorType_Returning_Visitor</th> <td>    0.7923</td> <td>      nan</td> <td>      nan</td> <td>   nan</td> <td>      nan</td> <td>      nan</td>\n",
       "</tr>\n",
       "<tr>\n",
       "  <th>nominal__Weekend_0</th>                     <td>   -0.7693</td> <td>      nan</td> <td>      nan</td> <td>   nan</td> <td>      nan</td> <td>      nan</td>\n",
       "</tr>\n",
       "<tr>\n",
       "  <th>nominal__Weekend_1</th>                     <td>   -0.6348</td> <td>      nan</td> <td>      nan</td> <td>   nan</td> <td>      nan</td> <td>      nan</td>\n",
       "</tr>\n",
       "<tr>\n",
       "  <th>remainder__Administrative</th>              <td>   -0.0029</td> <td>    0.012</td> <td>   -0.235</td> <td> 0.814</td> <td>   -0.027</td> <td>    0.021</td>\n",
       "</tr>\n",
       "<tr>\n",
       "  <th>remainder__Administrative_Duration</th>     <td> 9.704e-05</td> <td>    0.000</td> <td>    0.463</td> <td> 0.643</td> <td>   -0.000</td> <td>    0.001</td>\n",
       "</tr>\n",
       "<tr>\n",
       "  <th>remainder__Informational</th>               <td>    0.0432</td> <td>    0.030</td> <td>    1.426</td> <td> 0.154</td> <td>   -0.016</td> <td>    0.103</td>\n",
       "</tr>\n",
       "<tr>\n",
       "  <th>remainder__Informational_Duration</th>      <td>-7.568e-05</td> <td>    0.000</td> <td>   -0.294</td> <td> 0.769</td> <td>   -0.001</td> <td>    0.000</td>\n",
       "</tr>\n",
       "<tr>\n",
       "  <th>remainder__ProductRelated</th>              <td>    0.0023</td> <td>    0.001</td> <td>    1.770</td> <td> 0.077</td> <td>   -0.000</td> <td>    0.005</td>\n",
       "</tr>\n",
       "<tr>\n",
       "  <th>remainder__ProductRelated_Duration</th>     <td> 3.881e-05</td> <td>  2.9e-05</td> <td>    1.339</td> <td> 0.181</td> <td> -1.8e-05</td> <td> 9.56e-05</td>\n",
       "</tr>\n",
       "<tr>\n",
       "  <th>remainder__BounceRates</th>                 <td>   -1.9977</td> <td>    3.804</td> <td>   -0.525</td> <td> 0.599</td> <td>   -9.454</td> <td>    5.458</td>\n",
       "</tr>\n",
       "<tr>\n",
       "  <th>remainder__ExitRates</th>                   <td>  -16.5823</td> <td>    2.804</td> <td>   -5.913</td> <td> 0.000</td> <td>  -22.079</td> <td>  -11.086</td>\n",
       "</tr>\n",
       "<tr>\n",
       "  <th>remainder__PageValues</th>                  <td>    0.0828</td> <td>    0.003</td> <td>   30.202</td> <td> 0.000</td> <td>    0.077</td> <td>    0.088</td>\n",
       "</tr>\n",
       "<tr>\n",
       "  <th>remainder__SpecialDay</th>                  <td>   -0.2547</td> <td>    0.276</td> <td>   -0.924</td> <td> 0.356</td> <td>   -0.795</td> <td>    0.286</td>\n",
       "</tr>\n",
       "</table>"
      ],
      "text/plain": [
       "<class 'statsmodels.iolib.summary.Summary'>\n",
       "\"\"\"\n",
       "                           Logit Regression Results                           \n",
       "==============================================================================\n",
       "Dep. Variable:     remainder__Revenue   No. Observations:                 9864\n",
       "Model:                          Logit   Df Residuals:                     9788\n",
       "Method:                           MLE   Df Model:                           75\n",
       "Date:                Sun, 03 Apr 2022   Pseudo R-squ.:                  0.3427\n",
       "Time:                        17:40:56   Log-Likelihood:                -2793.0\n",
       "converged:                       True   LL-Null:                       -4249.2\n",
       "Covariance Type:            nonrobust   LLR p-value:                     0.000\n",
       "==========================================================================================================\n",
       "                                             coef    std err          z      P>|z|      [0.025      0.975]\n",
       "----------------------------------------------------------------------------------------------------------\n",
       "Intercept                                 -2.1828      1e+06  -2.18e-06      1.000   -1.96e+06    1.96e+06\n",
       "nominal__Month_Aug                         0.2679        nan        nan        nan         nan         nan\n",
       "nominal__Month_Dec                        -0.4336        nan        nan        nan         nan         nan\n",
       "nominal__Month_Feb                        -1.7480        nan        nan        nan         nan         nan\n",
       "nominal__Month_Jul                         0.1536        nan        nan        nan         nan         nan\n",
       "nominal__Month_June                       -0.0799        nan        nan        nan         nan         nan\n",
       "nominal__Month_Mar                        -0.3999        nan        nan        nan         nan         nan\n",
       "nominal__Month_May                        -0.3252        nan        nan        nan         nan         nan\n",
       "nominal__Month_Nov                         0.5935        nan        nan        nan         nan         nan\n",
       "nominal__Month_Oct                         0.1700        nan        nan        nan         nan         nan\n",
       "nominal__Month_Sep                         0.3057        nan        nan        nan         nan         nan\n",
       "nominal__OperatingSystems_1               -0.1742        nan        nan        nan         nan         nan\n",
       "nominal__OperatingSystems_2               -0.0050        nan        nan        nan         nan         nan\n",
       "nominal__OperatingSystems_3               -0.2459        nan        nan        nan         nan         nan\n",
       "nominal__OperatingSystems_4               -0.2310        nan        nan        nan         nan         nan\n",
       "nominal__OperatingSystems_5               -0.1088   9.49e+07  -1.15e-09      1.000   -1.86e+08    1.86e+08\n",
       "nominal__OperatingSystems_6               -1.1027        nan        nan        nan         nan         nan\n",
       "nominal__OperatingSystems_7                1.4606        nan        nan        nan         nan         nan\n",
       "nominal__OperatingSystems_8               -0.0651        nan        nan        nan         nan         nan\n",
       "nominal__Browser_1                        -0.1679   9.36e+05  -1.79e-07      1.000   -1.83e+06    1.83e+06\n",
       "nominal__Browser_2                        -0.2979    9.3e+05   -3.2e-07      1.000   -1.82e+06    1.82e+06\n",
       "nominal__Browser_3                        -1.0189   9.12e+05  -1.12e-06      1.000   -1.79e+06    1.79e+06\n",
       "nominal__Browser_4                        -0.2359   9.18e+05  -2.57e-07      1.000    -1.8e+06     1.8e+06\n",
       "nominal__Browser_5                        -0.1171   8.88e+05  -1.32e-07      1.000   -1.74e+06    1.74e+06\n",
       "nominal__Browser_6                        -0.5060      9e+05  -5.62e-07      1.000   -1.76e+06    1.76e+06\n",
       "nominal__Browser_7                        -1.4221   9.18e+05  -1.55e-06      1.000    -1.8e+06     1.8e+06\n",
       "nominal__Browser_8                        -0.6024   8.94e+05  -6.74e-07      1.000   -1.75e+06    1.75e+06\n",
       "nominal__Browser_9                        -0.5573    9.3e+05  -5.99e-07      1.000   -1.82e+06    1.82e+06\n",
       "nominal__Browser_10                        0.1009   8.94e+05   1.13e-07      1.000   -1.75e+06    1.75e+06\n",
       "nominal__Browser_11                       -0.1088   9.47e+07  -1.15e-09      1.000   -1.86e+08    1.86e+08\n",
       "nominal__Browser_12                        2.2611   9.12e+05   2.48e-06      1.000   -1.79e+06    1.79e+06\n",
       "nominal__Browser_13                        0.3571   9.06e+05   3.94e-07      1.000   -1.78e+06    1.78e+06\n",
       "nominal__Region_1                         -0.0476        nan        nan        nan         nan         nan\n",
       "nominal__Region_2                          0.1548        nan        nan        nan         nan         nan\n",
       "nominal__Region_3                         -0.0161        nan        nan        nan         nan         nan\n",
       "nominal__Region_4                         -0.1581        nan        nan        nan         nan         nan\n",
       "nominal__Region_5                         -0.2016        nan        nan        nan         nan         nan\n",
       "nominal__Region_6                         -0.0055        nan        nan        nan         nan         nan\n",
       "nominal__Region_7                         -0.0717        nan        nan        nan         nan         nan\n",
       "nominal__Region_8                          0.1500        nan        nan        nan         nan         nan\n",
       "nominal__Region_9                         -0.3183        nan        nan        nan         nan         nan\n",
       "nominal__TrafficType_1                     0.2594   1.09e+06   2.38e-07      1.000   -2.14e+06    2.14e+06\n",
       "nominal__TrafficType_2                     0.5372   1.09e+06   4.93e-07      1.000   -2.14e+06    2.14e+06\n",
       "nominal__TrafficType_3                     0.1293   1.09e+06   1.19e-07      1.000   -2.13e+06    2.13e+06\n",
       "nominal__TrafficType_4                     0.3609   1.09e+06   3.31e-07      1.000   -2.13e+06    2.13e+06\n",
       "nominal__TrafficType_5                     0.6528   1.09e+06   5.98e-07      1.000   -2.14e+06    2.14e+06\n",
       "nominal__TrafficType_6                     0.1938   1.09e+06   1.78e-07      1.000   -2.13e+06    2.13e+06\n",
       "nominal__TrafficType_7                     0.6667   1.09e+06   6.12e-07      1.000   -2.13e+06    2.13e+06\n",
       "nominal__TrafficType_8                     0.9785   1.09e+06   8.97e-07      1.000   -2.14e+06    2.14e+06\n",
       "nominal__TrafficType_9                     0.4864   1.09e+06   4.47e-07      1.000   -2.13e+06    2.13e+06\n",
       "nominal__TrafficType_10                    0.7849   1.09e+06   7.19e-07      1.000   -2.14e+06    2.14e+06\n",
       "nominal__TrafficType_11                    0.7371   1.09e+06   6.75e-07      1.000   -2.14e+06    2.14e+06\n",
       "nominal__TrafficType_12                   -0.5046   1.09e+06  -4.63e-07      1.000   -2.14e+06    2.14e+06\n",
       "nominal__TrafficType_13                   -0.0271   1.09e+06  -2.48e-08      1.000   -2.14e+06    2.14e+06\n",
       "nominal__TrafficType_14                   -0.2793   1.09e+06  -2.56e-07      1.000   -2.14e+06    2.14e+06\n",
       "nominal__TrafficType_15                   -4.2216   1.09e+06  -3.87e-06      1.000   -2.14e+06    2.14e+06\n",
       "nominal__TrafficType_16                    2.1565   1.09e+06   1.98e-06      1.000   -2.13e+06    2.13e+06\n",
       "nominal__TrafficType_17                   -0.2938   1.09e+06   -2.7e-07      1.000   -2.13e+06    2.13e+06\n",
       "nominal__TrafficType_18                   -2.7953   1.09e+06  -2.57e-06      1.000   -2.13e+06    2.13e+06\n",
       "nominal__TrafficType_19                   -0.5219   1.09e+06   -4.8e-07      1.000   -2.13e+06    2.13e+06\n",
       "nominal__TrafficType_20                    0.7742   1.09e+06   7.09e-07      1.000   -2.14e+06    2.14e+06\n",
       "nominal__VisitorType_New_Visitor           0.9048        nan        nan        nan         nan         nan\n",
       "nominal__VisitorType_Other                 0.0630        nan        nan        nan         nan         nan\n",
       "nominal__VisitorType_Returning_Visitor     0.7923        nan        nan        nan         nan         nan\n",
       "nominal__Weekend_0                        -0.7693        nan        nan        nan         nan         nan\n",
       "nominal__Weekend_1                        -0.6348        nan        nan        nan         nan         nan\n",
       "remainder__Administrative                 -0.0029      0.012     -0.235      0.814      -0.027       0.021\n",
       "remainder__Administrative_Duration      9.704e-05      0.000      0.463      0.643      -0.000       0.001\n",
       "remainder__Informational                   0.0432      0.030      1.426      0.154      -0.016       0.103\n",
       "remainder__Informational_Duration      -7.568e-05      0.000     -0.294      0.769      -0.001       0.000\n",
       "remainder__ProductRelated                  0.0023      0.001      1.770      0.077      -0.000       0.005\n",
       "remainder__ProductRelated_Duration      3.881e-05    2.9e-05      1.339      0.181    -1.8e-05    9.56e-05\n",
       "remainder__BounceRates                    -1.9977      3.804     -0.525      0.599      -9.454       5.458\n",
       "remainder__ExitRates                     -16.5823      2.804     -5.913      0.000     -22.079     -11.086\n",
       "remainder__PageValues                      0.0828      0.003     30.202      0.000       0.077       0.088\n",
       "remainder__SpecialDay                     -0.2547      0.276     -0.924      0.356      -0.795       0.286\n",
       "==========================================================================================================\n",
       "\"\"\""
      ]
     },
     "execution_count": 7,
     "metadata": {},
     "output_type": "execute_result"
    }
   ],
   "source": [
    "formula = \"remainder__Revenue ~ \" + \" + \".join(df_train.columns.drop('remainder__Revenue'))\n",
    "\n",
    "LR_model = smf.logit(formula=formula, data=df_train).fit_regularized(method='l1')\n",
    "LR_model.summary()"
   ]
  },
  {
   "cell_type": "markdown",
   "id": "83dbd90b",
   "metadata": {},
   "source": [
    "As the classes are not balanced, the intercept/threshold needs to be scaled accordingly."
   ]
  },
  {
   "cell_type": "code",
   "execution_count": 8,
   "id": "c232c869",
   "metadata": {},
   "outputs": [
    {
     "name": "stdout",
     "output_type": "stream",
     "text": [
      "                   pre       rec       spe        f1       geo       iba       sup\n",
      "\n",
      "        0.0       0.94      0.87      0.71      0.91      0.79      0.63      2084\n",
      "        1.0       0.50      0.71      0.87      0.59      0.79      0.61       382\n",
      "\n",
      "avg / total       0.88      0.85      0.74      0.86      0.79      0.63      2466\n",
      "\n"
     ]
    }
   ],
   "source": [
    "weights = df_train.remainder__Revenue.value_counts()\n",
    "\n",
    "threshold = weights[1]/weights[0]\n",
    "\n",
    "LR_test_preds_raw = LR_model.predict(exog=df_test.drop(columns=['remainder__Revenue']))\n",
    "LR_test_preds = (LR_test_preds_raw > threshold).astype('int')\n",
    "\n",
    "print(classification_report_imbalanced(df_test['remainder__Revenue'], LR_test_preds))"
   ]
  },
  {
   "cell_type": "markdown",
   "id": "078a7523",
   "metadata": {},
   "source": [
    "### Approach 2 - Boosted Decision Trees"
   ]
  },
  {
   "cell_type": "markdown",
   "id": "6e2f35d0",
   "metadata": {},
   "source": [
    "Implemented using XGBoost"
   ]
  },
  {
   "cell_type": "code",
   "execution_count": 9,
   "id": "6a8601af",
   "metadata": {},
   "outputs": [],
   "source": [
    "X_train = df_train.drop(columns='remainder__Revenue')\n",
    "y_train = df_train[['remainder__Revenue']]\n",
    "\n",
    "X_test = df_test.drop(columns='remainder__Revenue')\n",
    "y_test = df_test[['remainder__Revenue']]"
   ]
  },
  {
   "cell_type": "code",
   "execution_count": 10,
   "id": "f46107b5",
   "metadata": {},
   "outputs": [
    {
     "name": "stderr",
     "output_type": "stream",
     "text": [
      "/home/kavish/anaconda3/lib/python3.8/site-packages/xgboost/sklearn.py:1146: UserWarning: The use of label encoder in XGBClassifier is deprecated and will be removed in a future release. To remove this warning, do the following: 1) Pass option use_label_encoder=False when constructing XGBClassifier object; and 2) Encode your labels (y) as integers starting with 0, i.e. 0, 1, 2, ..., [num_class - 1].\n",
      "  warnings.warn(label_encoder_deprecation_msg, UserWarning)\n",
      "/home/kavish/anaconda3/lib/python3.8/site-packages/sklearn/preprocessing/_label.py:98: DataConversionWarning: A column-vector y was passed when a 1d array was expected. Please change the shape of y to (n_samples, ), for example using ravel().\n",
      "  y = column_or_1d(y, warn=True)\n",
      "/home/kavish/anaconda3/lib/python3.8/site-packages/sklearn/preprocessing/_label.py:133: DataConversionWarning: A column-vector y was passed when a 1d array was expected. Please change the shape of y to (n_samples, ), for example using ravel().\n",
      "  y = column_or_1d(y, warn=True)\n"
     ]
    },
    {
     "name": "stdout",
     "output_type": "stream",
     "text": [
      "[17:40:58] WARNING: ../src/learner.cc:1095: Starting in XGBoost 1.3.0, the default evaluation metric used with the objective 'binary:logistic' was changed from 'error' to 'logloss'. Explicitly set eval_metric if you'd like to restore the old behavior.\n"
     ]
    }
   ],
   "source": [
    "sample_weights = class_weight.compute_sample_weight(class_weight='balanced', y=y_train)  # To help tackle imbalanced classes\n",
    "\n",
    "xgb_model = xgb.XGBClassifier().fit(X_train, y_train, sample_weight=sample_weights)"
   ]
  },
  {
   "cell_type": "code",
   "execution_count": 11,
   "id": "4a05829f",
   "metadata": {},
   "outputs": [
    {
     "name": "stdout",
     "output_type": "stream",
     "text": [
      "                   pre       rec       spe        f1       geo       iba       sup\n",
      "\n",
      "        0.0       0.94      0.90      0.71      0.92      0.80      0.65      2084\n",
      "        1.0       0.58      0.71      0.90      0.64      0.80      0.63       382\n",
      "\n",
      "avg / total       0.89      0.87      0.74      0.88      0.80      0.65      2466\n",
      "\n"
     ]
    }
   ],
   "source": [
    "xgb_test_preds = xgb_model.predict(X_test)\n",
    "\n",
    "print(classification_report_imbalanced(y_test, xgb_test_preds))"
   ]
  },
  {
   "cell_type": "markdown",
   "id": "9a4b3990",
   "metadata": {},
   "source": [
    "## Results"
   ]
  },
  {
   "cell_type": "markdown",
   "id": "7f589e99",
   "metadata": {},
   "source": [
    "The results from both approaches perform almost equally well on the test set with the logistic regression having an F1 score of 0.86 to the 0.88 for XGBoost"
   ]
  }
 ],
 "metadata": {
  "kernelspec": {
   "display_name": "Python 3 (ipykernel)",
   "language": "python",
   "name": "python3"
  },
  "language_info": {
   "codemirror_mode": {
    "name": "ipython",
    "version": 3
   },
   "file_extension": ".py",
   "mimetype": "text/x-python",
   "name": "python",
   "nbconvert_exporter": "python",
   "pygments_lexer": "ipython3",
   "version": "3.8.8"
  }
 },
 "nbformat": 4,
 "nbformat_minor": 5
}
